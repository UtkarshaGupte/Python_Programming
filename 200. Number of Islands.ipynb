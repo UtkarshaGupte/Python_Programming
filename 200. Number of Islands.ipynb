{
 "cells": [
  {
   "cell_type": "code",
   "execution_count": null,
   "metadata": {},
   "outputs": [],
   "source": [
    "'''\n",
    "200. Number of Islands\n",
    "Given an m x n 2D binary grid grid which represents a map of '1's (land) and '0's (water), return the number of islands.\n",
    "\n",
    "An island is surrounded by water and is formed by connecting adjacent lands horizontally or vertically. \n",
    "You may assume all four edges of the grid are all surrounded by water.\n",
    "'''\n",
    "\n",
    "class Solution:\n",
    "    def numIslands(self, grid: List[List[str]]) -> int:        \n",
    "        if not grid:\n",
    "            return 0\n",
    "        \n",
    "        rows, cols = len(grid), len(grid[0])\n",
    "        \n",
    "        is_visited = set()\n",
    "        island_count = 0\n",
    "        \n",
    "        \n",
    "        def bfs(row, col):            \n",
    "            q = collections.deque()\n",
    "            q.append((row,col))\n",
    "            \n",
    "            while q:\n",
    "                row,col = q.popleft()\n",
    "                is_visited.add((row,col))\n",
    "                \n",
    "                directions =[(-1,0),(1,0),(0,-1),(0,1)]\n",
    "                \n",
    "                for i,j in directions:\n",
    "                    r, c = row+i, col+j\n",
    "                    \n",
    "                    if (r in range(rows) and \n",
    "                        c in range(cols) and\n",
    "                        grid[r][c] == \"1\" and \n",
    "                        (r,c) not in is_visited):\n",
    "                        \n",
    "                        is_visited.add((r,c))\n",
    "                        q.append((r,c))\n",
    "        \n",
    "        \n",
    "        for i in range(rows):\n",
    "            for j in range(cols):\n",
    "                if grid[i][j] == \"1\" and (i,j) not in is_visited:\n",
    "                    bfs(i,j)\n",
    "                    island_count += 1                \n",
    "                    \n",
    "        return island_count\n",
    "        "
   ]
  }
 ],
 "metadata": {
  "kernelspec": {
   "display_name": "Python 3",
   "language": "python",
   "name": "python3"
  },
  "language_info": {
   "codemirror_mode": {
    "name": "ipython",
    "version": 3
   },
   "file_extension": ".py",
   "mimetype": "text/x-python",
   "name": "python",
   "nbconvert_exporter": "python",
   "pygments_lexer": "ipython3",
   "version": "3.8.5"
  }
 },
 "nbformat": 4,
 "nbformat_minor": 4
}
