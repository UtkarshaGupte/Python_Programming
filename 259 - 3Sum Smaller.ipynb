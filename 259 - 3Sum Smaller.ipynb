{
 "cells": [
  {
   "cell_type": "code",
   "execution_count": 5,
   "metadata": {},
   "outputs": [
    {
     "name": "stdout",
     "output_type": "stream",
     "text": [
      "2\n",
      "4\n"
     ]
    }
   ],
   "source": [
    "'''\n",
    "259 - 3Sum Smaller\n",
    "Given an array of n integers nums and an integer target, find the number of index triplets i, j, k \n",
    "with 0 <= i < j < k < n that satisfy the condition nums[i] + nums[j] + nums[k] < target.\n",
    "'''\n",
    "\n",
    "def threeSumSmaller(nums, target):\n",
    "    count = 0\n",
    "    nums.sort()\n",
    "\n",
    "    for i in range(len(nums)):\n",
    "\n",
    "        left= i+1\n",
    "        right = len(nums) - 1\n",
    "\n",
    "        while left < right:\n",
    "            res_sum = nums[i] + nums[left] + nums[right]\n",
    "\n",
    "            if res_sum < target:                    \n",
    "                #if sum of i,left,right (max element) is smaller than target\n",
    "                #then the sum of i and all elements between left and right will be smaller\n",
    "                count += right - left\n",
    "                left += 1\n",
    "            else:\n",
    "                right -= 1\n",
    "\n",
    "    return count\n",
    "\n",
    "def main():\n",
    "    print(threeSumSmaller([-1, 0, 2, 3], 3))\n",
    "    print(threeSumSmaller([-1, 4, 2, 1, 3], 5))\n",
    "    \n",
    "main()\n",
    "\n"
   ]
  },
  {
   "cell_type": "code",
   "execution_count": null,
   "metadata": {},
   "outputs": [],
   "source": []
  }
 ],
 "metadata": {
  "kernelspec": {
   "display_name": "Python 3",
   "language": "python",
   "name": "python3"
  },
  "language_info": {
   "codemirror_mode": {
    "name": "ipython",
    "version": 3
   },
   "file_extension": ".py",
   "mimetype": "text/x-python",
   "name": "python",
   "nbconvert_exporter": "python",
   "pygments_lexer": "ipython3",
   "version": "3.8.5"
  }
 },
 "nbformat": 4,
 "nbformat_minor": 4
}
