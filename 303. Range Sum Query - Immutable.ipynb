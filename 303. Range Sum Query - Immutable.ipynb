{
 "cells": [
  {
   "cell_type": "code",
   "execution_count": null,
   "metadata": {},
   "outputs": [],
   "source": [
    "'''\n",
    "303. Range Sum Query - Immutable\n",
    "Given an integer array nums, handle multiple queries of the following type:\n",
    "\n",
    "Calculate the sum of the elements of nums between indices left and right inclusive where left <= right.\n",
    "Implement the NumArray class:\n",
    "\n",
    "NumArray(int[] nums) Initializes the object with the integer array nums.\n",
    "int sumRange(int left, int right) Returns the sum of the elements of nums between indices left and right inclusive \n",
    "(i.e. nums[left] + nums[left + 1] + ... + nums[right]).\n",
    " \n",
    "\n",
    "Example 1:\n",
    "\n",
    "Input\n",
    "[\"NumArray\", \"sumRange\", \"sumRange\", \"sumRange\"]\n",
    "[[[-2, 0, 3, -5, 2, -1]], [0, 2], [2, 5], [0, 5]]\n",
    "Output\n",
    "[null, 1, -1, -3]\n",
    "\n",
    "Explanation\n",
    "NumArray numArray = new NumArray([-2, 0, 3, -5, 2, -1]);\n",
    "numArray.sumRange(0, 2); // return (-2) + 0 + 3 = 1\n",
    "numArray.sumRange(2, 5); // return 3 + (-5) + 2 + (-1) = -1\n",
    "numArray.sumRange(0, 5); // return (-2) + 0 + 3 + (-5) + 2 + (-1) = -3\n",
    "\n",
    "Time/Space Complexities:\n",
    "\n",
    "Time: O(N) for the pre-computation process. And O(1) per sumRange query.\n",
    "\n",
    "Space: O(N)\n",
    "'''\n",
    "\n",
    "class NumArray:\n",
    "\n",
    "    def __init__(self, nums: List[int]):\n",
    "        \n",
    "        self.sum_array = []\n",
    "        \n",
    "        self.sum_array.append(0)\n",
    "        \n",
    "        for i in range(len(nums)):\n",
    "            self.sum_array.append(self.sum_array[i] + nums[i])\n",
    "        \n",
    "\n",
    "    def sumRange(self, left: int, right: int) -> int:\n",
    "        return self.sum_array[right + 1] - self.sum_array[left]\n",
    "\n",
    "\n",
    "# Your NumArray object will be instantiated and called as such:\n",
    "# obj = NumArray(nums)\n",
    "# param_1 = obj.sumRange(left,right)\n",
    "\n"
   ]
  }
 ],
 "metadata": {
  "kernelspec": {
   "display_name": "Python 3",
   "language": "python",
   "name": "python3"
  },
  "language_info": {
   "codemirror_mode": {
    "name": "ipython",
    "version": 3
   },
   "file_extension": ".py",
   "mimetype": "text/x-python",
   "name": "python",
   "nbconvert_exporter": "python",
   "pygments_lexer": "ipython3",
   "version": "3.8.5"
  }
 },
 "nbformat": 4,
 "nbformat_minor": 4
}
