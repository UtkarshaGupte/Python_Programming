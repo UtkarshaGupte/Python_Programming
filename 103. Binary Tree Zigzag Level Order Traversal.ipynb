{
 "cells": [
  {
   "cell_type": "code",
   "execution_count": 6,
   "metadata": {},
   "outputs": [],
   "source": [
    "'''\n",
    "103. Binary Tree Zigzag Level Order Traversal\n",
    "Given the root of a binary tree, return the zigzag level order traversal of its nodes' values.\n",
    "(i.e., from left to right, then right to left for the next level and alternate between).\n",
    "'''\n",
    "\n",
    "from collections import deque\n",
    "\n",
    "\n",
    "# Definition for a binary tree node.\n",
    "class TreeNode:\n",
    "    def __init__(self, val=0, left=None, right=None):\n",
    "        self.val = val\n",
    "        self.left = left\n",
    "        self.right = right\n",
    "        \n",
    "\n",
    "def zigzagLevelOrder(root):\n",
    "    res = []\n",
    "        \n",
    "    q = deque()\n",
    "    q.append(root)\n",
    "\n",
    "    is_order_left = True\n",
    "\n",
    "    while q:\n",
    "        level = deque()\n",
    "        qlen = len(q)\n",
    "\n",
    "        for i in range(qlen):\n",
    "            node = q.popleft()\n",
    "\n",
    "            if node:\n",
    "                #zig zag level logic\n",
    "                if is_order_left:\n",
    "                    level.append(node.val)\n",
    "                else:\n",
    "                    level.appendleft(node.val)\n",
    "\n",
    "                q.append(node.left)\n",
    "                q.append(node.right)\n",
    "\n",
    "        if level:\n",
    "            res.append(level)\n",
    "\n",
    "        is_order_left = not is_order_left\n",
    "\n",
    "    return res"
   ]
  },
  {
   "cell_type": "code",
   "execution_count": 7,
   "metadata": {},
   "outputs": [],
   "source": [
    "\n",
    "def main():\n",
    "    root = TreeNode(12)\n",
    "    root.left = TreeNode(7)\n",
    "    root.right = TreeNode(1)\n",
    "    root.left.left = TreeNode(9)\n",
    "    root.right.left = TreeNode(10)\n",
    "    root.right.right = TreeNode(5)\n",
    "    print(\"Level order traversal: \" + str(zigzagLevelOrder(root)))\n"
   ]
  },
  {
   "cell_type": "code",
   "execution_count": 8,
   "metadata": {},
   "outputs": [
    {
     "name": "stdout",
     "output_type": "stream",
     "text": [
      "Level order traversal: [deque([12]), deque([1, 7]), deque([9, 10, 5])]\n"
     ]
    }
   ],
   "source": [
    "main()"
   ]
  },
  {
   "cell_type": "code",
   "execution_count": null,
   "metadata": {},
   "outputs": [],
   "source": []
  }
 ],
 "metadata": {
  "kernelspec": {
   "display_name": "Python 3",
   "language": "python",
   "name": "python3"
  },
  "language_info": {
   "codemirror_mode": {
    "name": "ipython",
    "version": 3
   },
   "file_extension": ".py",
   "mimetype": "text/x-python",
   "name": "python",
   "nbconvert_exporter": "python",
   "pygments_lexer": "ipython3",
   "version": "3.8.5"
  }
 },
 "nbformat": 4,
 "nbformat_minor": 4
}
