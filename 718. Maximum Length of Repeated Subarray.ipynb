{
 "cells": [
  {
   "cell_type": "code",
   "execution_count": null,
   "metadata": {},
   "outputs": [],
   "source": [
    "'''\n",
    "718. Maximum Length of Repeated Subarray\n",
    "Given two integer arrays nums1 and nums2, return the maximum length of a subarray that appears in both arrays.\n",
    "'''\n",
    "\n",
    "class Solution:\n",
    "    def findLength(self, nums1: List[int], nums2: List[int]) -> int:\n",
    "        \n",
    "        rows, cols = len(nums1)+1, len(nums2)+1\n",
    "        max_length = 0\n",
    "        \n",
    "        matrix = [[0 for _ in range(cols)] for _ in range(rows)]\n",
    "        \n",
    "        \n",
    "        for i in range(1,rows):\n",
    "            for j in range(1,cols):\n",
    "                \n",
    "                if nums1[i-1] == nums2[j-1]:\n",
    "                    matrix[i][j] = matrix[i-1][j-1] + 1\n",
    "                    max_length = max(matrix[i][j], max_length)\n",
    "                    \n",
    "                    \n",
    "        return max_length\n",
    "                    \n",
    "        "
   ]
  }
 ],
 "metadata": {
  "kernelspec": {
   "display_name": "Python 3",
   "language": "python",
   "name": "python3"
  },
  "language_info": {
   "codemirror_mode": {
    "name": "ipython",
    "version": 3
   },
   "file_extension": ".py",
   "mimetype": "text/x-python",
   "name": "python",
   "nbconvert_exporter": "python",
   "pygments_lexer": "ipython3",
   "version": "3.8.5"
  }
 },
 "nbformat": 4,
 "nbformat_minor": 4
}
