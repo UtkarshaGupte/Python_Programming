{
 "cells": [
  {
   "cell_type": "code",
   "execution_count": null,
   "metadata": {},
   "outputs": [],
   "source": [
    "'''\n",
    "1004. Max Consecutive Ones III\n",
    "Given a binary array nums and an integer k, \n",
    "return the maximum number of consecutive 1's in the array if you can flip at most k 0's.\n",
    "'''\n",
    "\n",
    "class Solution:\n",
    "    def longestOnes(self, nums: List[int], k: int) -> int:\n",
    "        \n",
    "        max_count = 0\n",
    "        left, right = 0, 0\n",
    "            \n",
    "        while left < len(nums) and right < len(nums):\n",
    "            \n",
    "            while k>0 or nums[right] == 1:\n",
    "                \n",
    "                if nums[right] == 0 and k > 0:\n",
    "                    k -= 1\n",
    "                    \n",
    "                if right+1 <len(nums):\n",
    "                    right += 1\n",
    "                  \n",
    "                    \n",
    "            if nums[left] == 0:\n",
    "                k += 1                \n",
    "            \n",
    "            max_count = max(max_count, right-left)\n",
    "            \n",
    "            left += 1\n",
    "            \n",
    "                \n",
    "        return max_count\n",
    "            "
   ]
  }
 ],
 "metadata": {
  "kernelspec": {
   "display_name": "Python 3",
   "language": "python",
   "name": "python3"
  },
  "language_info": {
   "codemirror_mode": {
    "name": "ipython",
    "version": 3
   },
   "file_extension": ".py",
   "mimetype": "text/x-python",
   "name": "python",
   "nbconvert_exporter": "python",
   "pygments_lexer": "ipython3",
   "version": "3.8.5"
  }
 },
 "nbformat": 4,
 "nbformat_minor": 4
}
