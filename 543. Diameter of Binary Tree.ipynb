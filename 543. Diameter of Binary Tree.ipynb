{
 "cells": [
  {
   "cell_type": "code",
   "execution_count": 3,
   "metadata": {},
   "outputs": [],
   "source": [
    "'''\n",
    "543. Diameter of Binary Tree\n",
    "Given the root of a binary tree, return the length of the diameter of the tree.\n",
    "\n",
    "The diameter of a binary tree is the length of the longest path between any two nodes in a tree. \n",
    "This path may or may not pass through the root.\n",
    "\n",
    "The length of a path between two nodes is represented by the number of edges between them.\n",
    "'''\n",
    "\n",
    "\n",
    "# Definition for a binary tree node.\n",
    "class TreeNode:\n",
    "    def __init__(self, val=0, left=None, right=None):\n",
    "        self.val = val\n",
    "        self.left = left\n",
    "        self.right = right\n",
    "class TreeDiameter:\n",
    "\n",
    "    def __init__(self):\n",
    "        self.treeDiameter = 0\n",
    "        \n",
    "    def diameterOfBinaryTree(self,root):\n",
    "\n",
    "        output = [0]\n",
    "\n",
    "\n",
    "        def diamm(root):\n",
    "\n",
    "            if not root:\n",
    "                return -1\n",
    "\n",
    "            left = diamm(root.left)\n",
    "            right = diamm(root.right)\n",
    "\n",
    "            #Diameter\n",
    "            output[0] = max(output[0], left + right + 2)\n",
    "\n",
    "            #height\n",
    "            return 1 + max(left, right)\n",
    "\n",
    "\n",
    "        diamm(root)\n",
    "\n",
    "        return output[0]\n",
    "\n",
    "    "
   ]
  },
  {
   "cell_type": "code",
   "execution_count": 4,
   "metadata": {},
   "outputs": [
    {
     "name": "stdout",
     "output_type": "stream",
     "text": [
      "Tree Diameter: 4\n",
      "Tree Diameter: 6\n"
     ]
    }
   ],
   "source": [
    "def main():\n",
    "    treeDiameter = TreeDiameter()\n",
    "    root = TreeNode(1)\n",
    "    root.left = TreeNode(2)\n",
    "    root.right = TreeNode(3)\n",
    "    root.left.left = TreeNode(4)\n",
    "    root.right.left = TreeNode(5)\n",
    "    root.right.right = TreeNode(6)\n",
    "    print(\"Tree Diameter: \" + str(treeDiameter.diameterOfBinaryTree(root)))\n",
    "    root.left.left = None\n",
    "    root.right.left.left = TreeNode(7)\n",
    "    root.right.left.right = TreeNode(8)\n",
    "    root.right.right.left = TreeNode(9)\n",
    "    root.right.left.right.left = TreeNode(10)\n",
    "    root.right.right.left.left = TreeNode(11)\n",
    "    print(\"Tree Diameter: \" + str(treeDiameter.diameterOfBinaryTree(root)))\n",
    "\n",
    "\n",
    "main()"
   ]
  },
  {
   "cell_type": "code",
   "execution_count": null,
   "metadata": {},
   "outputs": [],
   "source": []
  }
 ],
 "metadata": {
  "kernelspec": {
   "display_name": "Python 3",
   "language": "python",
   "name": "python3"
  },
  "language_info": {
   "codemirror_mode": {
    "name": "ipython",
    "version": 3
   },
   "file_extension": ".py",
   "mimetype": "text/x-python",
   "name": "python",
   "nbconvert_exporter": "python",
   "pygments_lexer": "ipython3",
   "version": "3.8.5"
  }
 },
 "nbformat": 4,
 "nbformat_minor": 4
}
