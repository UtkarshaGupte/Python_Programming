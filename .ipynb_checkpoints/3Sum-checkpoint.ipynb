{
 "cells": [
  {
   "cell_type": "code",
   "execution_count": null,
   "metadata": {},
   "outputs": [],
   "source": [
    "#Leetcode question link:\n",
    "\n",
    "def threeSum(nums):   \n",
    "    res=[]\n",
    "\n",
    "    #Sorting the array \n",
    "    nums.sort()\n",
    "    for i in range(len(nums)):\n",
    "\n",
    "        #If current value is same as the previous one skip it to exclude duplicate triplets\n",
    "        if i>0 and nums[i] == nums[i-1]:\n",
    "            continue\n",
    "\n",
    "        #Proceeding with two sum\n",
    "        #Setting left and right pointers\n",
    "        l,r = i+1 , len(nums)-1\n",
    "\n",
    "        while l<r:\n",
    "            total= nums[i] + nums[l] + nums[r]\n",
    "\n",
    "            if total == 0:\n",
    "                res.append([nums[i], nums[l],nums[r]])\n",
    "                l += 1\n",
    "                while nums[l] == nums[l-1] and l<r:\n",
    "                    l+=1\n",
    "            elif total>0:\n",
    "                r -= 1\n",
    "            else:\n",
    "                l += 1\n",
    "    \n",
    "    return res       \n",
    "    \n",
    "def main():\n",
    "    print(threeSum([-3, 0, 1, 2, -1, 1, -2]))\n",
    "    print(threeSum([-5, 2, -1, -2, 3]))\n",
    "    \n",
    "main()"
   ]
  }
 ],
 "metadata": {
  "kernelspec": {
   "display_name": "Python 3",
   "language": "python",
   "name": "python3"
  },
  "language_info": {
   "codemirror_mode": {
    "name": "ipython",
    "version": 3
   },
   "file_extension": ".py",
   "mimetype": "text/x-python",
   "name": "python",
   "nbconvert_exporter": "python",
   "pygments_lexer": "ipython3",
   "version": "3.8.5"
  }
 },
 "nbformat": 4,
 "nbformat_minor": 4
}
