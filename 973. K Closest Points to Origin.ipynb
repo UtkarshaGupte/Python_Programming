{
 "cells": [
  {
   "cell_type": "code",
   "execution_count": null,
   "metadata": {},
   "outputs": [],
   "source": [
    "'''\n",
    "973. K Closest Points to Origin\n",
    "Given an array of points where points[i] = [xi, yi] represents a point on the X-Y plane and an integer k, \n",
    "return the k closest points to the origin (0, 0).\n",
    "\n",
    "The distance between two points on the X-Y plane is the Euclidean distance (i.e., √(x1 - x2)2 + (y1 - y2)2).\n",
    "\n",
    "You may return the answer in any order. The answer is guaranteed to be unique (except for the order that it is in).\n",
    "\n",
    "Ref- https://www.youtube.com/watch?v=rI2EBUEMfTk\n",
    "'''\n",
    "\n",
    "class Solution:\n",
    "    def kClosest(self, points: List[List[int]], k: int) -> List[List[int]]:\n",
    "        \n",
    "        min_heap = []\n",
    "        \n",
    "        for x, y in points:\n",
    "            \n",
    "            distance = x**2 + y**2\n",
    "            min_heap.append([distance, x, y])\n",
    "            \n",
    "        #in-place modification but does not sort it\n",
    "        #It converts it into a tree where each parent node is less than or equal to child\n",
    "        #heapq module uses minHeap while implementing Heap Queue Algorithm\n",
    "        #heapify runs in a linear time complexity O(n)\n",
    "        heapq.heapify(min_heap)\n",
    "        \n",
    "        output = []\n",
    "        \n",
    "        #runs with k*logn(n) time complexity\n",
    "        while k>0:\n",
    "            dist, x, y = heapq.heappop(min_heap)\n",
    "            output.append([x,y])\n",
    "            \n",
    "            k -= 1\n",
    "            \n",
    "        return output\n",
    "            \n",
    "    "
   ]
  }
 ],
 "metadata": {
  "kernelspec": {
   "display_name": "Python 3",
   "language": "python",
   "name": "python3"
  },
  "language_info": {
   "codemirror_mode": {
    "name": "ipython",
    "version": 3
   },
   "file_extension": ".py",
   "mimetype": "text/x-python",
   "name": "python",
   "nbconvert_exporter": "python",
   "pygments_lexer": "ipython3",
   "version": "3.8.5"
  }
 },
 "nbformat": 4,
 "nbformat_minor": 4
}
