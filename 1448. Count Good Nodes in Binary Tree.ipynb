{
 "cells": [
  {
   "cell_type": "code",
   "execution_count": null,
   "metadata": {},
   "outputs": [],
   "source": [
    "'''\n",
    "1448. Count Good Nodes in Binary Tree\n",
    "Given a binary tree root, a node X in the tree is named good if in the path from root to X there are no nodes \n",
    "with a value greater than X.\n",
    "\n",
    "Return the number of good nodes in the binary tree.\n",
    "\n",
    "'''\n",
    "\n",
    "# Definition for a binary tree node.\n",
    "# class TreeNode:\n",
    "#     def __init__(self, val=0, left=None, right=None):\n",
    "#         self.val = val\n",
    "#         self.left = left\n",
    "#         self.right = right\n",
    "class Solution:\n",
    "    def goodNodes(self, root: TreeNode) -> int:\n",
    "        \n",
    "        def dfs(node, maxValue):\n",
    "            \n",
    "            if not node:\n",
    "                return 0\n",
    "            \n",
    "            if node.val >= maxValue:\n",
    "                count = 1\n",
    "                maxValue = node.val\n",
    "            else:\n",
    "                count = 0\n",
    "                \n",
    "                \n",
    "            count += dfs(node.left, maxValue)\n",
    "            count += dfs(node.right, maxValue)\n",
    "            \n",
    "            return count\n",
    "        \n",
    "        return dfs(root, root.val)\n",
    "           \n",
    "        \n",
    "        \n",
    "        "
   ]
  }
 ],
 "metadata": {
  "kernelspec": {
   "display_name": "Python 3",
   "language": "python",
   "name": "python3"
  },
  "language_info": {
   "codemirror_mode": {
    "name": "ipython",
    "version": 3
   },
   "file_extension": ".py",
   "mimetype": "text/x-python",
   "name": "python",
   "nbconvert_exporter": "python",
   "pygments_lexer": "ipython3",
   "version": "3.8.5"
  }
 },
 "nbformat": 4,
 "nbformat_minor": 4
}
