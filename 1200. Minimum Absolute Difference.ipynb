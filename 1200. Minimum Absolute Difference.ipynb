{
 "cells": [
  {
   "cell_type": "code",
   "execution_count": null,
   "metadata": {},
   "outputs": [],
   "source": [
    "'''\n",
    "1200. Minimum Absolute Difference\n",
    "Given an array of distinct integers arr, find all pairs of elements with the minimum absolute difference of any two elements. \n",
    "\n",
    "Return a list of pairs in ascending order(with respect to pairs), each pair [a, b] follows\n",
    "\n",
    "a, b are from arr\n",
    "a < b\n",
    "b - a equals to the minimum absolute difference of any two elements in arr\n",
    "'''\n",
    "\n",
    "class Solution:\n",
    "    def minimumAbsDifference(self, arr: List[int]) -> List[List[int]]:\n",
    "        \n",
    "        output = []\n",
    "        min_diff = math.inf\n",
    "        \n",
    "        arr.sort()\n",
    "        \n",
    "        for i in range(len(arr)-1):\n",
    "            \n",
    "            curr_diff = abs(arr[i] - arr[i+1])\n",
    "            \n",
    "            if curr_diff < min_diff:\n",
    "                output = [[arr[i],arr[i+1]]]\n",
    "                min_diff = curr_diff\n",
    "                \n",
    "            elif curr_diff == min_diff:\n",
    "                output.append([arr[i],arr[i+1]])\n",
    "                \n",
    "        return output\n",
    "            \n",
    "            \n",
    "        "
   ]
  }
 ],
 "metadata": {
  "kernelspec": {
   "display_name": "Python 3",
   "language": "python",
   "name": "python3"
  },
  "language_info": {
   "codemirror_mode": {
    "name": "ipython",
    "version": 3
   },
   "file_extension": ".py",
   "mimetype": "text/x-python",
   "name": "python",
   "nbconvert_exporter": "python",
   "pygments_lexer": "ipython3",
   "version": "3.8.5"
  }
 },
 "nbformat": 4,
 "nbformat_minor": 4
}
