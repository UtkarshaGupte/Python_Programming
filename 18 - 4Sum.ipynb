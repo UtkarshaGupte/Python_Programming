{
 "cells": [
  {
   "cell_type": "code",
   "execution_count": 3,
   "metadata": {},
   "outputs": [
    {
     "name": "stdout",
     "output_type": "stream",
     "text": [
      "[[-2, -1, 1, 2], [-2, 0, 0, 2], [-1, 0, 0, 1]]\n"
     ]
    }
   ],
   "source": [
    "'''\n",
    "18 - 4Sum\n",
    "Given an array nums of n integers, return an array of all the unique quadruplets\n",
    "[nums[a], nums[b], nums[c], nums[d]] such that:\n",
    "0 <= a, b, c, d < n\n",
    "a, b, c, and d are distinct.\n",
    "nums[a] + nums[b] + nums[c] + nums[d] == target\n",
    "You may return the answer in any order.\n",
    "'''\n",
    "\n",
    "def fourSum(nums, target):\n",
    "    #Defining ksum function to generalise it for a ksum problem\n",
    "    def ksum(nums,target,k):\n",
    "        res= []\n",
    "\n",
    "        #No elements OR sum of smallest integers > target OR sum of largest integers < target\n",
    "        if len(nums)==0 or nums[0]*k > target or nums[-1]*k <target:\n",
    "            return res\n",
    "\n",
    "        #When k turns out to be 2 , call two sum function\n",
    "        if k==2:\n",
    "            return Twosum(nums,target)\n",
    "\n",
    "        for i ,a in enumerate(nums):\n",
    "            # if current value is same as previous value, skip it to eliminate duplicate quads\n",
    "            if i>0 and a == nums[i-1]:\n",
    "                continue\n",
    "            for subset in ksum(nums[i+1:],target-a, k-1):\n",
    "                res.append([a]+subset)\n",
    "\n",
    "        return res\n",
    "\n",
    "    #Narrowing to a twoSum Problem    \n",
    "    def Twosum(nums, target):\n",
    "        res=[]         \n",
    "        #Left and right pointers\n",
    "        l,r = 0, len(nums)-1\n",
    "\n",
    "        while l<r:\n",
    "            curr_sum = nums[l]+nums[r]\n",
    "\n",
    "            if curr_sum > target:\n",
    "                r -= 1\n",
    "            elif curr_sum < target:\n",
    "                l += 1\n",
    "            else:\n",
    "                res.append([nums[l],nums[r]])\n",
    "                l += 1\n",
    "                while (l<r and nums[l]==nums[l-1]):\n",
    "                    l += 1\n",
    "        return res            \n",
    "    nums.sort()          \n",
    "    return ksum(nums,target,4)\n",
    "\n",
    "\n",
    "\n",
    "def main():\n",
    "    print(fourSum([1,0,-1,0,-2,2], 0))\n",
    "\n",
    "\n",
    "main()\n",
    "\n",
    "\n"
   ]
  },
  {
   "cell_type": "code",
   "execution_count": null,
   "metadata": {},
   "outputs": [],
   "source": []
  }
 ],
 "metadata": {
  "kernelspec": {
   "display_name": "Python 3",
   "language": "python",
   "name": "python3"
  },
  "language_info": {
   "codemirror_mode": {
    "name": "ipython",
    "version": 3
   },
   "file_extension": ".py",
   "mimetype": "text/x-python",
   "name": "python",
   "nbconvert_exporter": "python",
   "pygments_lexer": "ipython3",
   "version": "3.8.5"
  }
 },
 "nbformat": 4,
 "nbformat_minor": 4
}
