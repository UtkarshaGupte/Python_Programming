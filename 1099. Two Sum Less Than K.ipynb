{
 "cells": [
  {
   "cell_type": "code",
   "execution_count": null,
   "metadata": {},
   "outputs": [],
   "source": [
    "'''\n",
    "1099. Two Sum Less Than K\n",
    "Given an array nums of integers and integer k, \n",
    "return the maximum sum such that there exists i < j with nums[i] + nums[j] = sum and \n",
    "sum < k. If no i, j exist satisfying this equation, return -1.\n",
    "'''\n",
    "\n",
    "class Solution:\n",
    "    def twoSumLessThanK(self, nums: List[int], k: int) -> int:\n",
    "        \n",
    "        nums.sort()\n",
    "        \n",
    "        output = -1\n",
    "        \n",
    "        left = 0\n",
    "        right = len(nums)-1\n",
    "        \n",
    "        while left<right:\n",
    "            \n",
    "            temp = nums[left] + nums[right]\n",
    "            \n",
    "            if temp < k:\n",
    "                left += 1\n",
    "                output = max(output, temp)\n",
    "            else:\n",
    "                right -= 1\n",
    "                \n",
    "        return output\n"
   ]
  }
 ],
 "metadata": {
  "kernelspec": {
   "display_name": "Python 3",
   "language": "python",
   "name": "python3"
  },
  "language_info": {
   "codemirror_mode": {
    "name": "ipython",
    "version": 3
   },
   "file_extension": ".py",
   "mimetype": "text/x-python",
   "name": "python",
   "nbconvert_exporter": "python",
   "pygments_lexer": "ipython3",
   "version": "3.8.5"
  }
 },
 "nbformat": 4,
 "nbformat_minor": 4
}
