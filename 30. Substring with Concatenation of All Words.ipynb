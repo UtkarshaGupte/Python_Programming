{
 "cells": [
  {
   "cell_type": "code",
   "execution_count": 3,
   "metadata": {},
   "outputs": [
    {
     "name": "stdout",
     "output_type": "stream",
     "text": [
      "[]\n",
      "[3]\n",
      "[]\n"
     ]
    }
   ],
   "source": [
    "'''\n",
    "30. Substring with Concatenation of All Words\n",
    "You are given a string s and an array of strings words of the same length. \n",
    "Return all starting indices of substring(s) in s that is a concatenation of each word in words exactly once, \n",
    "in any order, and without any intervening characters.\n",
    "\n",
    "You can return the answer in any order.\n",
    "\n",
    "'''\n",
    "\n",
    "\n",
    "def findSubstring(s, words):\n",
    "\n",
    "    #Maintaining a hashmap for word frequencies\n",
    "    word_freq = {}\n",
    "    for word in words:\n",
    "        word_freq[word] = word_freq.get(word,0) + 1\n",
    "\n",
    "    word_length = len(words[0]) #all words of same length\n",
    "    word_count = len(words) #length of array of words\n",
    "\n",
    "    res_index = []\n",
    "\n",
    "    for i in range(len(s)- word_length*word_count + 1):\n",
    "        words_seen = {}\n",
    "\n",
    "        for j in range(0,word_count):\n",
    "            word_start = i + j * word_length\n",
    "            substr = s[word_start : word_start+word_length]\n",
    "\n",
    "            if substr not in word_freq:\n",
    "                break\n",
    "\n",
    "            words_seen[substr] = words_seen.get(substr,0) + 1\n",
    "\n",
    "            if words_seen[substr] > word_freq[substr]:\n",
    "                break\n",
    "\n",
    "            if j+1 == word_count:\n",
    "                res_index.append(i)\n",
    "\n",
    "    return res_index\n",
    "\n",
    "\n",
    "def main():\n",
    "    print(findSubstring(\"aabdec\", \"abc\"))\n",
    "    print(findSubstring(\"abdbca\", \"abc\"))\n",
    "    print(findSubstring(\"adcad\", \"abc\"))\n",
    "\n",
    "main()\n"
   ]
  },
  {
   "cell_type": "code",
   "execution_count": null,
   "metadata": {},
   "outputs": [],
   "source": []
  }
 ],
 "metadata": {
  "kernelspec": {
   "display_name": "Python 3",
   "language": "python",
   "name": "python3"
  },
  "language_info": {
   "codemirror_mode": {
    "name": "ipython",
    "version": 3
   },
   "file_extension": ".py",
   "mimetype": "text/x-python",
   "name": "python",
   "nbconvert_exporter": "python",
   "pygments_lexer": "ipython3",
   "version": "3.8.5"
  }
 },
 "nbformat": 4,
 "nbformat_minor": 4
}
