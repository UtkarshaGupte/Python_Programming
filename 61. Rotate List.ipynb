{
 "cells": [
  {
   "cell_type": "code",
   "execution_count": 4,
   "metadata": {},
   "outputs": [],
   "source": [
    "'''\n",
    "61. Rotate List\n",
    "Given the head of a linked list, rotate the list to the right by k places.\n",
    "'''\n",
    "from __future__ import print_function\n",
    "\n",
    "\n",
    "class Node:\n",
    "\n",
    "    def __init__(self, value, next=None):\n",
    "        self.value = value\n",
    "        self.next = next\n",
    "\n",
    "    def print_list(self):\n",
    "        temp = self\n",
    "        while temp is not None:\n",
    "            print(temp.value, end=\" \")\n",
    "            temp = temp.next\n",
    "        print()\n",
    "    \n",
    "# Definition for singly-linked list.\n",
    "class ListNode:\n",
    "    def __init__(self, val=0, next=None):\n",
    "        self.val = val\n",
    "        self.next = next\n",
    "        \n",
    "\n",
    "def rotateRight(head, k):\n",
    "    if head is None:\n",
    "        return head\n",
    "\n",
    "    length = 1\n",
    "    tail = head\n",
    "    while tail.next is not None:\n",
    "        tail = tail.next\n",
    "        length += 1\n",
    "\n",
    "    k = k%length\n",
    "\n",
    "    if k == 0:\n",
    "        return head\n",
    "\n",
    "    curr = head\n",
    "    for i in range(length - k -1):\n",
    "        curr = curr.next\n",
    "\n",
    "    newhead = curr.next\n",
    "    curr.next = None\n",
    "    tail.next = head\n",
    "\n",
    "    return newhead\n",
    "            \n",
    "        "
   ]
  },
  {
   "cell_type": "code",
   "execution_count": 7,
   "metadata": {},
   "outputs": [],
   "source": [
    "def main():\n",
    "    head = Node(1)\n",
    "    head.next = Node(2)\n",
    "    head.next.next = Node(3)\n",
    "    head.next.next.next = Node(4)\n",
    "    head.next.next.next.next = Node(5)\n",
    "    head.next.next.next.next.next = Node(6)\n",
    "\n",
    "    print(\"Nodes of original LinkedList are: \", end='')\n",
    "    head.print_list()\n",
    "    result = rotateRight(head, 3)\n",
    "    print(\"Nodes of rotated LinkedList are: \", end='')\n",
    "    result.print_list()\n"
   ]
  },
  {
   "cell_type": "code",
   "execution_count": 8,
   "metadata": {},
   "outputs": [
    {
     "name": "stdout",
     "output_type": "stream",
     "text": [
      "Nodes of original LinkedList are: 1 2 3 4 5 6 \n",
      "Nodes of rotated LinkedList are: 4 5 6 1 2 3 \n"
     ]
    }
   ],
   "source": [
    "main()"
   ]
  },
  {
   "cell_type": "code",
   "execution_count": null,
   "metadata": {},
   "outputs": [],
   "source": []
  }
 ],
 "metadata": {
  "kernelspec": {
   "display_name": "Python 3",
   "language": "python",
   "name": "python3"
  },
  "language_info": {
   "codemirror_mode": {
    "name": "ipython",
    "version": 3
   },
   "file_extension": ".py",
   "mimetype": "text/x-python",
   "name": "python",
   "nbconvert_exporter": "python",
   "pygments_lexer": "ipython3",
   "version": "3.8.5"
  }
 },
 "nbformat": 4,
 "nbformat_minor": 4
}
