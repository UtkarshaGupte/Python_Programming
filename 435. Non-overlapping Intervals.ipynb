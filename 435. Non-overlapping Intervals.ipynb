{
 "cells": [
  {
   "cell_type": "code",
   "execution_count": null,
   "metadata": {},
   "outputs": [],
   "source": [
    "'''\n",
    "435. Non-overlapping Intervals\n",
    "Given an array of intervals intervals where intervals[i] = [starti, endi], \n",
    "return the minimum number of intervals you need to remove to \n",
    "make the rest of the intervals non-overlapping.\n",
    "'''\n",
    "\n",
    "class Solution:\n",
    "    def eraseOverlapIntervals(self, intervals: List[List[int]]) -> int:\n",
    "        \n",
    "        intervals.sort(key = lambda i : i[1])\n",
    "        output = 0\n",
    "        \n",
    "        i=1\n",
    "        while i < len(intervals):\n",
    "            \n",
    "            if intervals[i][0] < intervals[i-1][1] :\n",
    "                output += 1\n",
    "                intervals.pop(i)\n",
    "            else:\n",
    "                i += 1\n",
    "            \n",
    "        return output\n",
    "                \n",
    "            \n",
    "            \n",
    "        "
   ]
  }
 ],
 "metadata": {
  "kernelspec": {
   "display_name": "Python 3",
   "language": "python",
   "name": "python3"
  },
  "language_info": {
   "codemirror_mode": {
    "name": "ipython",
    "version": 3
   },
   "file_extension": ".py",
   "mimetype": "text/x-python",
   "name": "python",
   "nbconvert_exporter": "python",
   "pygments_lexer": "ipython3",
   "version": "3.8.5"
  }
 },
 "nbformat": 4,
 "nbformat_minor": 4
}
