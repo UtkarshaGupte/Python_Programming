{
 "cells": [
  {
   "cell_type": "code",
   "execution_count": null,
   "metadata": {},
   "outputs": [],
   "source": [
    "'''\n",
    "1207. Unique Number of Occurrences\n",
    "Given an array of integers arr, \n",
    "return true if the number of occurrences of each value in the array is unique, or false otherwise.\n",
    "'''\n",
    "\n",
    "class Solution:\n",
    "    def uniqueOccurrences(self, arr: List[int]) -> bool:\n",
    "        \n",
    "        temp = {}\n",
    "        \n",
    "        for val in arr:\n",
    "            temp[val] = temp.get(val,0) + 1\n",
    "            \n",
    "        return len(set(temp.values())) == len(temp.values())\n",
    "    \n",
    "    "
   ]
  }
 ],
 "metadata": {
  "kernelspec": {
   "display_name": "Python 3",
   "language": "python",
   "name": "python3"
  },
  "language_info": {
   "codemirror_mode": {
    "name": "ipython",
    "version": 3
   },
   "file_extension": ".py",
   "mimetype": "text/x-python",
   "name": "python",
   "nbconvert_exporter": "python",
   "pygments_lexer": "ipython3",
   "version": "3.8.5"
  }
 },
 "nbformat": 4,
 "nbformat_minor": 4
}
