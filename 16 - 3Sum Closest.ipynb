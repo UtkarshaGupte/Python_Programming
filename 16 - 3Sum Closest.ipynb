{
 "cells": [
  {
   "cell_type": "code",
   "execution_count": 3,
   "metadata": {},
   "outputs": [
    {
     "name": "stdout",
     "output_type": "stream",
     "text": [
      "1\n",
      "0\n",
      "3\n",
      "2\n"
     ]
    }
   ],
   "source": [
    "'''\n",
    "16 - 3Sum Closest\n",
    "Given an integer array nums of length n and an integer target, \n",
    "find three integers in nums such that the sum is closest to target.\n",
    "Return the sum of the three integers.\n",
    "\n",
    "You may assume that each input would have exactly one solution.\n",
    "'''\n",
    "\n",
    "import math\n",
    "def triplet_sum_close_to_target(nums, target):\n",
    "    nums.sort()\n",
    "    min_diff = math.inf\n",
    "\n",
    "    for i in range(len(nums)):            \n",
    "        left = i+1\n",
    "        right = len(nums)-1\n",
    "\n",
    "        while (left < right):\n",
    "\n",
    "            actual_sum = nums[i] + nums[left] + nums[right]\n",
    "            diff = target - actual_sum\n",
    "\n",
    "            if diff == 0:\n",
    "                return actual_sum\n",
    "\n",
    "            #Select the lower difference or in case of same difference , choose the one with                            smaller sum i.e a greater difference\n",
    "            if abs(diff) < abs(min_diff) or (abs(diff) == abs(min_diff) and diff > min_diff):\n",
    "                min_diff = diff\n",
    "\n",
    "\n",
    "            if diff > 0:\n",
    "                left += 1   #To lower the difference, maximise the sum \n",
    "            else:\n",
    "                right -= 1  #To maximise the difference, minimise the sum\n",
    "\n",
    "    return target - min_diff\n",
    "\n",
    "def main():\n",
    "    print(triplet_sum_close_to_target([-2, 0, 1, 2], 2))\n",
    "    print(triplet_sum_close_to_target([-3, -1, 1, 2], 1))\n",
    "    print(triplet_sum_close_to_target([1, 0, 1, 1], 100))\n",
    "    print(triplet_sum_close_to_target([-1,2,1,-4], 1))\n",
    "\n",
    "\n",
    "main()"
   ]
  },
  {
   "cell_type": "code",
   "execution_count": null,
   "metadata": {},
   "outputs": [],
   "source": []
  }
 ],
 "metadata": {
  "kernelspec": {
   "display_name": "Python 3",
   "language": "python",
   "name": "python3"
  },
  "language_info": {
   "codemirror_mode": {
    "name": "ipython",
    "version": 3
   },
   "file_extension": ".py",
   "mimetype": "text/x-python",
   "name": "python",
   "nbconvert_exporter": "python",
   "pygments_lexer": "ipython3",
   "version": "3.8.5"
  }
 },
 "nbformat": 4,
 "nbformat_minor": 4
}
