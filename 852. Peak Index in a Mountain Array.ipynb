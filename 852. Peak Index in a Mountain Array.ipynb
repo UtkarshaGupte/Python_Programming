{
 "cells": [
  {
   "cell_type": "code",
   "execution_count": null,
   "metadata": {},
   "outputs": [],
   "source": [
    "'''\n",
    "852. Peak Index in a Mountain Array\n",
    "Let's call an array arr a mountain if the following properties hold:\n",
    "\n",
    "arr.length >= 3\n",
    "There exists some i with 0 < i < arr.length - 1 such that:\n",
    "arr[0] < arr[1] < ... arr[i-1] < arr[i]\n",
    "arr[i] > arr[i+1] > ... > arr[arr.length - 1]\n",
    "Given an integer array arr that is guaranteed to be a mountain, \n",
    "return any i such that arr[0] < arr[1] < ... arr[i - 1] < arr[i] > arr[i + 1] > ... > arr[arr.length - 1].\n",
    "'''\n",
    "\n",
    "class Solution:\n",
    "    def peakIndexInMountainArray(self, arr: List[int]) -> int:\n",
    "        \n",
    "        left, right = 0, len(arr) - 1\n",
    "        \n",
    "        while left < right:\n",
    "            \n",
    "            mid = (left + right)//2\n",
    "            \n",
    "            if arr[mid] < arr[mid+1]:\n",
    "                left = mid + 1\n",
    "                \n",
    "            else:\n",
    "                right = mid\n",
    "                \n",
    "                \n",
    "        return left"
   ]
  }
 ],
 "metadata": {
  "kernelspec": {
   "display_name": "Python 3",
   "language": "python",
   "name": "python3"
  },
  "language_info": {
   "codemirror_mode": {
    "name": "ipython",
    "version": 3
   },
   "file_extension": ".py",
   "mimetype": "text/x-python",
   "name": "python",
   "nbconvert_exporter": "python",
   "pygments_lexer": "ipython3",
   "version": "3.8.5"
  }
 },
 "nbformat": 4,
 "nbformat_minor": 4
}
