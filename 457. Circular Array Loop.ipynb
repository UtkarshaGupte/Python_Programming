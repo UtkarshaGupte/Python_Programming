{
 "cells": [
  {
   "cell_type": "code",
   "execution_count": 5,
   "metadata": {},
   "outputs": [
    {
     "name": "stdout",
     "output_type": "stream",
     "text": [
      "True\n",
      "True\n",
      "False\n"
     ]
    }
   ],
   "source": [
    "'''\n",
    "457. Circular Array Loop\n",
    "You are playing a game involving a circular array of non-zero integers nums. Each nums[i] denotes the number of indices forward/backward you must move if you are located at index i:\n",
    "\n",
    "If nums[i] is positive, move nums[i] steps forward, and\n",
    "If nums[i] is negative, move nums[i] steps backward.\n",
    "Since the array is circular, you may assume that moving forward from the last element puts you on the first element, and moving backwards from the first element puts you on the last element.\n",
    "\n",
    "A cycle in the array consists of a sequence of indices seq of length k where:\n",
    "\n",
    "Following the movement rules above results in the repeating index sequence seq[0] -> seq[1] -> ... -> seq[k - 1] -> seq[0] -> ...\n",
    "Every nums[seq[j]] is either all positive or all negative.\n",
    "k > 1\n",
    "Return true if there is a cycle in nums, or false otherwise.\n",
    "'''\n",
    "\n",
    "\n",
    "def circularArrayLoop(nums):\n",
    "\n",
    "    for i in range(len(nums)):\n",
    "\n",
    "        is_forward = nums[i] >= 0\n",
    "        slow, fast = i, i\n",
    "\n",
    "        while True:                \n",
    "            slow = find_next_index(slow, nums, is_forward)\n",
    "            fast = find_next_index(fast, nums, is_forward)\n",
    "\n",
    "            if fast != -1:\n",
    "                fast = find_next_index(fast, nums, is_forward)\n",
    "\n",
    "            if slow == -1 or fast == -1 or slow == fast:\n",
    "                break\n",
    "\n",
    "        if slow != -1 and slow == fast:\n",
    "            return True\n",
    "\n",
    "    return False\n",
    "\n",
    "def find_next_index(pointer , nums, is_forward):\n",
    "\n",
    "    curr_direction = nums[pointer] >= 0\n",
    "\n",
    "    if curr_direction != is_forward:\n",
    "        return -1\n",
    "\n",
    "    next_index = (pointer + nums[pointer])% len(nums)\n",
    "\n",
    "    if pointer == next_index:\n",
    "        return -1\n",
    "\n",
    "    return next_index\n",
    "         \n",
    "\n",
    "def main():\n",
    "    print(circularArrayLoop([1, 2, -1, 2, 2]))\n",
    "    print(circularArrayLoop([2, 2, -1, 2]))\n",
    "    print(circularArrayLoop([2, 1, -1, -2]))\n",
    "\n",
    "\n",
    "main()\n"
   ]
  },
  {
   "cell_type": "code",
   "execution_count": null,
   "metadata": {},
   "outputs": [],
   "source": []
  }
 ],
 "metadata": {
  "kernelspec": {
   "display_name": "Python 3",
   "language": "python",
   "name": "python3"
  },
  "language_info": {
   "codemirror_mode": {
    "name": "ipython",
    "version": 3
   },
   "file_extension": ".py",
   "mimetype": "text/x-python",
   "name": "python",
   "nbconvert_exporter": "python",
   "pygments_lexer": "ipython3",
   "version": "3.8.5"
  }
 },
 "nbformat": 4,
 "nbformat_minor": 4
}
