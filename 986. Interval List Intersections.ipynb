{
 "cells": [
  {
   "cell_type": "code",
   "execution_count": 1,
   "metadata": {},
   "outputs": [
    {
     "name": "stdout",
     "output_type": "stream",
     "text": [
      "Intervals Intersection: [[2, 3], [5, 6], [7, 7]]\n",
      "Intervals Intersection: [[5, 7], [9, 10]]\n"
     ]
    }
   ],
   "source": [
    "'''\n",
    "986. Interval List Intersections\n",
    "You are given two lists of closed intervals, firstList and secondList, where firstList[i] = [starti, endi] \n",
    "and secondList[j] = [startj, endj]. Each list of intervals is pairwise disjoint and in sorted order.\n",
    "\n",
    "Return the intersection of these two interval lists.\n",
    "\n",
    "A closed interval [a, b] (with a <= b) denotes the set of real numbers x with a <= x <= b.\n",
    "\n",
    "The intersection of two closed intervals is a set of real numbers that are either empty or \n",
    "represented as a closed interval. For example, the intersection of [1, 3] and [2, 4] is [2, 3].\n",
    "'''\n",
    "\n",
    "\n",
    "def intervalIntersection(firstList,secondList):\n",
    "\n",
    "    i, j = 0, 0\n",
    "    output=[]\n",
    "\n",
    "    while i<len(firstList) and j<len(secondList) :\n",
    "\n",
    "        left_end = max(firstList[i][0], secondList[j][0])\n",
    "        right_end = min(firstList[i][1], secondList[j][1])\n",
    "\n",
    "        if left_end <= right_end:\n",
    "            output.append([left_end, right_end])\n",
    "\n",
    "        if firstList[i][1] < secondList[j][1]:\n",
    "            i += 1\n",
    "        else:\n",
    "            j += 1\n",
    "\n",
    "\n",
    "    return output\n",
    "\n",
    "def main():\n",
    "    print(\"Intervals Intersection: \" + str(intervalIntersection([[1, 3], [5, 6], [7, 9]], [[2, 3], [5, 7]])))\n",
    "    print(\"Intervals Intersection: \" + str(intervalIntersection([[1, 3], [5, 7], [9, 12]], [[5, 10]])))\n",
    "\n",
    "\n",
    "main()\n",
    "            "
   ]
  },
  {
   "cell_type": "code",
   "execution_count": null,
   "metadata": {},
   "outputs": [],
   "source": []
  }
 ],
 "metadata": {
  "kernelspec": {
   "display_name": "Python 3",
   "language": "python",
   "name": "python3"
  },
  "language_info": {
   "codemirror_mode": {
    "name": "ipython",
    "version": 3
   },
   "file_extension": ".py",
   "mimetype": "text/x-python",
   "name": "python",
   "nbconvert_exporter": "python",
   "pygments_lexer": "ipython3",
   "version": "3.8.5"
  }
 },
 "nbformat": 4,
 "nbformat_minor": 4
}
