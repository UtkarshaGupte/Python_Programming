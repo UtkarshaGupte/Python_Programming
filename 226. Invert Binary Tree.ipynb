{
 "cells": [
  {
   "cell_type": "code",
   "execution_count": 20,
   "metadata": {},
   "outputs": [],
   "source": [
    "'''\n",
    "226. Invert Binary Tree\n",
    "Given the root of a binary tree, invert the tree, and return its root.\n",
    "'''\n",
    "from collections import deque\n",
    "\n",
    "# Definition for a binary tree node.\n",
    "class TreeNode:\n",
    "    def __init__(self, val):\n",
    "        self.val = val\n",
    "        self.left, self.right, self.next = None, None, None\n",
    "\n",
    "    # tree traversal using 'next' pointer\n",
    "    def print_tree(self):\n",
    "        print(\"Inverted binary tree: \", end='')\n",
    "        current = self\n",
    "        q = deque()\n",
    "        q.append(current)\n",
    "        while q:\n",
    "            node = q.popleft()\n",
    "            print(str(node.val) + \" \", end='')\n",
    "            \n",
    "            \n",
    "            if node.left:\n",
    "                q.append(node.left)\n",
    "\n",
    "            if node.right:\n",
    "                q.append(node.right)\n",
    "            \n",
    "            \n",
    "\n",
    "\n",
    "def invertTree(root):\n",
    "\n",
    "    if not root:\n",
    "        return None\n",
    "\n",
    "    q = deque()\n",
    "    q.append(root)\n",
    "\n",
    "    while q:\n",
    "\n",
    "        node = q.popleft()\n",
    "\n",
    "        # inverting the left and right nodes\n",
    "        node.left , node.right = node.right , node.left\n",
    "\n",
    "        if node.left:\n",
    "            q.append(node.left)\n",
    "\n",
    "        if node.right:\n",
    "            q.append(node.right)\n",
    "\n",
    "\n",
    "    return root\n",
    "            "
   ]
  },
  {
   "cell_type": "code",
   "execution_count": 21,
   "metadata": {},
   "outputs": [
    {
     "name": "stdout",
     "output_type": "stream",
     "text": [
      "Inverted binary tree: 12 1 7 5 10 9 "
     ]
    }
   ],
   "source": [
    "def main():\n",
    "    root = TreeNode(12)\n",
    "    root.left = TreeNode(7)\n",
    "    root.right = TreeNode(1)\n",
    "    root.left.left = TreeNode(9)\n",
    "    root.right.left = TreeNode(10)\n",
    "    root.right.right = TreeNode(5)\n",
    "    root = invertTree(root)\n",
    "    \n",
    "    root.print_tree()\n",
    "\n",
    "\n",
    "main()\n"
   ]
  },
  {
   "cell_type": "code",
   "execution_count": null,
   "metadata": {},
   "outputs": [],
   "source": []
  }
 ],
 "metadata": {
  "kernelspec": {
   "display_name": "Python 3",
   "language": "python",
   "name": "python3"
  },
  "language_info": {
   "codemirror_mode": {
    "name": "ipython",
    "version": 3
   },
   "file_extension": ".py",
   "mimetype": "text/x-python",
   "name": "python",
   "nbconvert_exporter": "python",
   "pygments_lexer": "ipython3",
   "version": "3.8.5"
  }
 },
 "nbformat": 4,
 "nbformat_minor": 4
}
