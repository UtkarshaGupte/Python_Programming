{
 "cells": [
  {
   "cell_type": "code",
   "execution_count": null,
   "metadata": {},
   "outputs": [],
   "source": [
    "'''\n",
    "347. Top K Frequent Elements\n",
    "Given an integer array nums and an integer k, return the k most frequent elements. You may return the answer in any order.\n",
    "\n",
    "Example 1:\n",
    "Input: nums = [1,1,1,2,2,3], k = 2\n",
    "Output: [1,2]\n",
    "\n",
    "Example 2:\n",
    "Input: nums = [1], k = 1\n",
    "Output: [1]\n",
    "\n",
    "Time/Space Complexity:\n",
    "Time - O(N)\n",
    "Space - O(N)\n",
    "'''\n",
    "\n",
    "class Solution:\n",
    "    def topKFrequent(self, nums: List[int], k: int) -> List[int]:\n",
    "        \n",
    "        num_freq = {}\n",
    "        \n",
    "        for num in nums:\n",
    "            num_freq[num] = num_freq.get(num,0) + 1\n",
    "            \n",
    "        \n",
    "        freq_num = [[] for i in range(len(nums)+1)]\n",
    "        \n",
    "        \n",
    "        for num, freq in num_freq.items():\n",
    "            \n",
    "            freq_num[freq].append(num)\n",
    "        \n",
    "        \n",
    "        res = []\n",
    "        \n",
    "        for i in range(len(nums),0,-1):\n",
    "            \n",
    "            for nums in freq_num[i]:\n",
    "                \n",
    "                res.append(nums)\n",
    "                \n",
    "                if len(res) == k:\n",
    "                    return res\n",
    "                "
   ]
  }
 ],
 "metadata": {
  "kernelspec": {
   "display_name": "Python 3",
   "language": "python",
   "name": "python3"
  },
  "language_info": {
   "codemirror_mode": {
    "name": "ipython",
    "version": 3
   },
   "file_extension": ".py",
   "mimetype": "text/x-python",
   "name": "python",
   "nbconvert_exporter": "python",
   "pygments_lexer": "ipython3",
   "version": "3.8.5"
  }
 },
 "nbformat": 4,
 "nbformat_minor": 4
}
