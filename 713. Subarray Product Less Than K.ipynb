{
 "cells": [
  {
   "cell_type": "code",
   "execution_count": 1,
   "metadata": {},
   "outputs": [
    {
     "name": "stdout",
     "output_type": "stream",
     "text": [
      "6\n",
      "7\n"
     ]
    }
   ],
   "source": [
    "'''\n",
    "713. Subarray Product Less Than K\n",
    "Given an array of integers nums and an integer k, \n",
    "return the number of contiguous subarrays where the product of all the elements in the subarray is strictly less than k.\n",
    "'''\n",
    "\n",
    "\n",
    "def numSubarrayProductLessThanK(nums, k) -> int:\n",
    "\n",
    "    count = 0\n",
    "    product = 1\n",
    "\n",
    "    left = 0\n",
    "\n",
    "    for right in range(len(nums)):\n",
    "        product *= nums[right]\n",
    "\n",
    "        while product>=k and left < right:\n",
    "            product /= nums[left]\n",
    "            left += 1\n",
    "\n",
    "        if product < k:\n",
    "            count += right - left +1\n",
    "\n",
    "\n",
    "\n",
    "    return count\n",
    "        \n",
    "    \n",
    "def main():\n",
    "    print(numSubarrayProductLessThanK([2, 5, 3, 10], 30))\n",
    "    print(numSubarrayProductLessThanK([8, 2, 6, 5], 50))\n",
    "\n",
    "\n",
    "main()\n",
    "\n",
    "       \n",
    "        "
   ]
  },
  {
   "cell_type": "code",
   "execution_count": null,
   "metadata": {},
   "outputs": [],
   "source": []
  }
 ],
 "metadata": {
  "kernelspec": {
   "display_name": "Python 3",
   "language": "python",
   "name": "python3"
  },
  "language_info": {
   "codemirror_mode": {
    "name": "ipython",
    "version": 3
   },
   "file_extension": ".py",
   "mimetype": "text/x-python",
   "name": "python",
   "nbconvert_exporter": "python",
   "pygments_lexer": "ipython3",
   "version": "3.8.5"
  }
 },
 "nbformat": 4,
 "nbformat_minor": 4
}
