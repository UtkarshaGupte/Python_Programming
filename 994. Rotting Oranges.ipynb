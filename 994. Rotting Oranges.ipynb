{
 "cells": [
  {
   "cell_type": "code",
   "execution_count": null,
   "metadata": {},
   "outputs": [],
   "source": [
    "'''\n",
    "994. Rotting Oranges\n",
    "You are given an m x n grid where each cell can have one of three values:\n",
    "\n",
    "0 representing an empty cell,\n",
    "1 representing a fresh orange, or\n",
    "2 representing a rotten orange.\n",
    "Every minute, any fresh orange that is 4-directionally adjacent to a rotten orange becomes rotten.\n",
    "\n",
    "Return the minimum number of minutes that must elapse until no cell has a fresh orange. If this is impossible, return -1.\n",
    "'''\n",
    "\n",
    "class Solution:\n",
    "    def orangesRotting(self, grid: List[List[int]]) -> int:        \n",
    "        rows, cols = len(grid), len(grid[0])        \n",
    "        q = collections.deque()\n",
    "        \n",
    "        #Find the rotten oranges position and the fresh oranges count\n",
    "        fresh_count = 0\n",
    "        for i in range(rows):\n",
    "            for j in range(cols):\n",
    "\n",
    "                if grid[i][j] == 1:  #fresh count\n",
    "                    fresh_count += 1\n",
    "                                \n",
    "                elif grid[i][j] == 2: #rotten oranges position in the queue\n",
    "                    q.append((i,j))\n",
    "                    \n",
    "        \n",
    "        time=0\n",
    "        directions = [(-1,0),(1,0),(0,-1),(0,1)]\n",
    "        \n",
    "        while q and fresh_count>0:\n",
    "            \n",
    "            qlen = len(q)            \n",
    "            for i in range(qlen):\n",
    "                r, c = q.popleft()\n",
    "                \n",
    "                for dr, dc in directions:\n",
    "                    \n",
    "                    row, col = r+dr, c+dc\n",
    "                    if (row<0 or col<0 or row>=rows or col>=cols or grid[row][col] != 1):\n",
    "                        continue\n",
    "                    grid[row][col] = 2 #gets rotten\n",
    "                    fresh_count -= 1\n",
    "                    \n",
    "                    q.append((row, col))\n",
    "                    \n",
    "            time += 1\n",
    "            \n",
    "        return time if fresh_count == 0 else -1\n",
    "                                "
   ]
  }
 ],
 "metadata": {
  "kernelspec": {
   "display_name": "Python 3",
   "language": "python",
   "name": "python3"
  },
  "language_info": {
   "codemirror_mode": {
    "name": "ipython",
    "version": 3
   },
   "file_extension": ".py",
   "mimetype": "text/x-python",
   "name": "python",
   "nbconvert_exporter": "python",
   "pygments_lexer": "ipython3",
   "version": "3.8.5"
  }
 },
 "nbformat": 4,
 "nbformat_minor": 4
}
