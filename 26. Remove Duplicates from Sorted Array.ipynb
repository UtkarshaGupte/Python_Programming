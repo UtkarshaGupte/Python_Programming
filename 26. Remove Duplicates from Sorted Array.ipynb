{
 "cells": [
  {
   "cell_type": "code",
   "execution_count": 2,
   "metadata": {},
   "outputs": [
    {
     "name": "stdout",
     "output_type": "stream",
     "text": [
      "5\n",
      "2\n"
     ]
    }
   ],
   "source": [
    "'''\n",
    "26. Remove Duplicates from Sorted Array\n",
    "Given an integer array nums sorted in non-decreasing order, remove the duplicates in-place such that each unique \n",
    "element appears only once. The relative order of the elements should be kept the same.\n",
    "\n",
    "Since it is impossible to change the length of the array in some languages, \n",
    "you must instead have the result be placed in the first part of the array nums. More formally,\n",
    "if there are k elements after removing the duplicates, then the first k elements of nums should hold the final result. \n",
    "It does not matter what you leave beyond the first k elements.\n",
    "\n",
    "Return k after placing the final result in the first k slots of nums.\n",
    "\n",
    "Do not allocate extra space for another array. \n",
    "You must do this by modifying the input array in-place with O(1) extra memory.\n",
    "\n",
    "'''\n",
    "\n",
    "\n",
    "def removeDuplicates(nums):\n",
    "    left = 0\n",
    "    right = left + 1\n",
    "\n",
    "    while right < len(nums):\n",
    "        if nums[left] == nums[right]:\n",
    "            right += 1\n",
    "        else:\n",
    "            nums[left+1] = nums[right]\n",
    "            left +=1\n",
    "            right +=1\n",
    "\n",
    "    return left+1\n",
    "\n",
    "def main():\n",
    "    print(removeDuplicates([0,0,1,1,1,2,2,3,3,4]))\n",
    "    print(removeDuplicates([1,1,2]))\n",
    "   \n",
    "\n",
    "main()\n",
    "\n",
    "\n",
    "        \n"
   ]
  },
  {
   "cell_type": "code",
   "execution_count": null,
   "metadata": {},
   "outputs": [],
   "source": []
  }
 ],
 "metadata": {
  "kernelspec": {
   "display_name": "Python 3",
   "language": "python",
   "name": "python3"
  },
  "language_info": {
   "codemirror_mode": {
    "name": "ipython",
    "version": 3
   },
   "file_extension": ".py",
   "mimetype": "text/x-python",
   "name": "python",
   "nbconvert_exporter": "python",
   "pygments_lexer": "ipython3",
   "version": "3.8.5"
  }
 },
 "nbformat": 4,
 "nbformat_minor": 4
}
