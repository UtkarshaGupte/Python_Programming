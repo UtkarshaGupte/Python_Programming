{
 "cells": [
  {
   "cell_type": "code",
   "execution_count": 4,
   "metadata": {},
   "outputs": [],
   "source": [
    "'''\n",
    "84. Largest Rectangle in Histogram\n",
    "Given an array of integers heights representing the histogram's bar height where the width of each bar is 1, \n",
    "return the area of the largest rectangle in the histogram.\n",
    "'''\n",
    "\n",
    "def largestRectangleArea(heights):\n",
    "    maxArea = 0\n",
    "    stack = []  # Containing index and height\n",
    "\n",
    "    for i, height in enumerate(heights):\n",
    "        start = i\n",
    "\n",
    "        #Stack is not empty and top element of stack > current element\n",
    "        while stack and stack[-1][1] > height:\n",
    "            index, popped_height = stack.pop()\n",
    "            maxArea = max(maxArea, popped_height * (i-index))\n",
    "            start = index\n",
    "\n",
    "        stack.append((start,height))\n",
    "\n",
    "    for i, h in stack:\n",
    "        maxArea = max(maxArea, h* (len(heights)-i))\n",
    "\n",
    "\n",
    "    return maxArea\n",
    "\n",
    "\n"
   ]
  },
  {
   "cell_type": "code",
   "execution_count": 7,
   "metadata": {},
   "outputs": [],
   "source": [
    "def main():\n",
    "    print(largestRectangleArea([2,1,5,6,2,3]))"
   ]
  },
  {
   "cell_type": "code",
   "execution_count": 8,
   "metadata": {},
   "outputs": [
    {
     "name": "stdout",
     "output_type": "stream",
     "text": [
      "10\n"
     ]
    }
   ],
   "source": [
    "main()"
   ]
  },
  {
   "cell_type": "code",
   "execution_count": null,
   "metadata": {},
   "outputs": [],
   "source": []
  }
 ],
 "metadata": {
  "kernelspec": {
   "display_name": "Python 3",
   "language": "python",
   "name": "python3"
  },
  "language_info": {
   "codemirror_mode": {
    "name": "ipython",
    "version": 3
   },
   "file_extension": ".py",
   "mimetype": "text/x-python",
   "name": "python",
   "nbconvert_exporter": "python",
   "pygments_lexer": "ipython3",
   "version": "3.8.5"
  }
 },
 "nbformat": 4,
 "nbformat_minor": 4
}
