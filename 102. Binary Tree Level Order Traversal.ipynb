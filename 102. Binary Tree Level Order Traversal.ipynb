{
 "cells": [
  {
   "cell_type": "code",
   "execution_count": 7,
   "metadata": {},
   "outputs": [],
   "source": [
    "'''\n",
    "102. Binary Tree Level Order Traversal\n",
    "Given the root of a binary tree, \n",
    "return the level order traversal of its nodes' values. (i.e., from left to right, level by level).\n",
    "'''\n",
    "from collections import deque\n",
    "\n",
    "\n",
    "# Definition for a binary tree node.\n",
    "class TreeNode:\n",
    "    def __init__(self, val=0, left=None, right=None):\n",
    "        self.val = val\n",
    "        self.left = left\n",
    "        self.right = right\n",
    "        \n",
    "\n",
    "def levelOrder(root):\n",
    "    res = []\n",
    "\n",
    "    q = deque()\n",
    "    q.append(root)  #stores the address of root of the binary tree\n",
    "\n",
    "\n",
    "    while q:\n",
    "        qlen = len(q)\n",
    "        level = []\n",
    "        for i in range(qlen):\n",
    "            node = q.popleft()\n",
    "            if node:\n",
    "                level.append(node.val)\n",
    "                q.append(node.left)\n",
    "                q.append(node.right)\n",
    "\n",
    "        if level:\n",
    "            res.append(level)\n",
    "\n",
    "    return res\n",
    "        \n",
    "        "
   ]
  },
  {
   "cell_type": "code",
   "execution_count": 8,
   "metadata": {},
   "outputs": [],
   "source": [
    "\n",
    "def main():\n",
    "    root = TreeNode(12)\n",
    "    root.left = TreeNode(7)\n",
    "    root.right = TreeNode(1)\n",
    "    root.left.left = TreeNode(9)\n",
    "    root.right.left = TreeNode(10)\n",
    "    root.right.right = TreeNode(5)\n",
    "    print(\"Level order traversal: \" + str(levelOrder(root)))\n"
   ]
  },
  {
   "cell_type": "code",
   "execution_count": 9,
   "metadata": {},
   "outputs": [
    {
     "name": "stdout",
     "output_type": "stream",
     "text": [
      "Level order traversal: [[12], [7, 1], [9, 10, 5]]\n"
     ]
    }
   ],
   "source": [
    "main()"
   ]
  },
  {
   "cell_type": "code",
   "execution_count": null,
   "metadata": {},
   "outputs": [],
   "source": []
  }
 ],
 "metadata": {
  "kernelspec": {
   "display_name": "Python 3",
   "language": "python",
   "name": "python3"
  },
  "language_info": {
   "codemirror_mode": {
    "name": "ipython",
    "version": 3
   },
   "file_extension": ".py",
   "mimetype": "text/x-python",
   "name": "python",
   "nbconvert_exporter": "python",
   "pygments_lexer": "ipython3",
   "version": "3.8.5"
  }
 },
 "nbformat": 4,
 "nbformat_minor": 4
}
