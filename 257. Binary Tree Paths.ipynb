{
 "cells": [
  {
   "cell_type": "code",
   "execution_count": null,
   "metadata": {},
   "outputs": [],
   "source": [
    "'''\n",
    "257. Binary Tree Paths\n",
    "Given the root of a binary tree, return all root-to-leaf paths in any order.\n",
    "\n",
    "A leaf is a node with no children.\n",
    "'''\n",
    "\n",
    "# Definition for a binary tree node.\n",
    "# class TreeNode:\n",
    "#     def __init__(self, val=0, left=None, right=None):\n",
    "#         self.val = val\n",
    "#         self.left = left\n",
    "#         self.right = right\n",
    "class Solution:\n",
    "    def binaryTreePaths(self, root: Optional[TreeNode]) -> List[str]:\n",
    "        \n",
    "        if not root:\n",
    "            return []\n",
    "        \n",
    "        paths = []\n",
    "        \n",
    "        stack = [(root, str(root.val))]\n",
    "        \n",
    "        while stack:\n",
    "            \n",
    "            node, path = stack.pop()\n",
    "            \n",
    "            #If its the leaf node\n",
    "            if node.left is None and node.right is None:\n",
    "                paths.append(path)\n",
    "        \n",
    "            if node.left:\n",
    "                stack.append((node.left, path + '->' + str(node.left.val)))\n",
    "                             \n",
    "            if node.right:\n",
    "                stack.append((node.right, path + '->' + str(node.right.val)))\n",
    "                \n",
    "        return paths\n",
    "    \n",
    "    "
   ]
  }
 ],
 "metadata": {
  "kernelspec": {
   "display_name": "Python 3",
   "language": "python",
   "name": "python3"
  },
  "language_info": {
   "codemirror_mode": {
    "name": "ipython",
    "version": 3
   },
   "file_extension": ".py",
   "mimetype": "text/x-python",
   "name": "python",
   "nbconvert_exporter": "python",
   "pygments_lexer": "ipython3",
   "version": "3.8.5"
  }
 },
 "nbformat": 4,
 "nbformat_minor": 4
}
