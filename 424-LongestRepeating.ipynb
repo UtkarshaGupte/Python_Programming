{
 "cells": [
  {
   "cell_type": "code",
   "execution_count": 1,
   "metadata": {},
   "outputs": [
    {
     "name": "stdout",
     "output_type": "stream",
     "text": [
      "5\n",
      "4\n",
      "3\n"
     ]
    }
   ],
   "source": [
    "'''\n",
    "424. Longest Repeating Character Replacement\n",
    "You are given a string s and an integer k. \n",
    "You can choose any character of the string and change it to any other uppercase English character. \n",
    "You can perform this operation at most k times.\n",
    "\n",
    "Return the length of the longest substring containing the same letter you can get after performing the above operations.\n",
    "\n",
    " \n",
    "'''\n",
    "\n",
    "def characterReplacement(s,k):\n",
    "    window_start = 0\n",
    "    max_length = 0\n",
    "    char_freq = {}\n",
    "\n",
    "\n",
    "    for window_end in range(len(s)):\n",
    "\n",
    "        char_freq[s[window_end]] = char_freq.get(s[window_end],0) + 1\n",
    "\n",
    "        #Subtracting the window size from the max occuring character \n",
    "        while (window_end - window_start +1) - max(char_freq.values()) > k:\n",
    "            #decrementing the character count and moving the window forward\n",
    "            char_freq[s[window_start]] -= 1\n",
    "            window_start += 1\n",
    "\n",
    "        max_length = max(max_length , (window_end - window_start +1))\n",
    "\n",
    "    return max_length\n",
    "\n",
    "def main():\n",
    "    print(characterReplacement(\"aabccbb\", 2))\n",
    "    print(characterReplacement(\"abbcb\", 1))\n",
    "    print(characterReplacement(\"abccde\", 1))\n",
    "\n",
    "\n",
    "main()\n",
    "\n"
   ]
  },
  {
   "cell_type": "code",
   "execution_count": null,
   "metadata": {},
   "outputs": [],
   "source": []
  }
 ],
 "metadata": {
  "kernelspec": {
   "display_name": "Python 3",
   "language": "python",
   "name": "python3"
  },
  "language_info": {
   "codemirror_mode": {
    "name": "ipython",
    "version": 3
   },
   "file_extension": ".py",
   "mimetype": "text/x-python",
   "name": "python",
   "nbconvert_exporter": "python",
   "pygments_lexer": "ipython3",
   "version": "3.8.5"
  }
 },
 "nbformat": 4,
 "nbformat_minor": 4
}
