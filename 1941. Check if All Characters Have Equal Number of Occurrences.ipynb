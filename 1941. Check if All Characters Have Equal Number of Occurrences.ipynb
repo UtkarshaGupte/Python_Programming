{
 "cells": [
  {
   "cell_type": "code",
   "execution_count": null,
   "metadata": {},
   "outputs": [],
   "source": [
    "'''\n",
    "1941. Check if All Characters Have Equal Number of Occurrences\n",
    "Given a string s, return true if s is a good string, or false otherwise.\n",
    "\n",
    "A string s is good if all the characters that appear in s have the same number of occurrences (i.e., the same frequency).\n",
    "'''\n",
    "\n",
    "class Solution:\n",
    "    def areOccurrencesEqual(self, s: str) -> bool:\n",
    "        \n",
    "        dict_s = dict()\n",
    "        \n",
    "        for i in range(len(s)):           \n",
    "            dict_s[s[i]] = dict_s.get(s[i],0) + 1\n",
    "            \n",
    "        \n",
    "        distinct_val = set(dict_s.values())\n",
    "          \n",
    "        return len(distinct_val)==1\n",
    "            \n",
    "            \n",
    "            \n",
    "        "
   ]
  }
 ],
 "metadata": {
  "kernelspec": {
   "display_name": "Python 3",
   "language": "python",
   "name": "python3"
  },
  "language_info": {
   "codemirror_mode": {
    "name": "ipython",
    "version": 3
   },
   "file_extension": ".py",
   "mimetype": "text/x-python",
   "name": "python",
   "nbconvert_exporter": "python",
   "pygments_lexer": "ipython3",
   "version": "3.8.5"
  }
 },
 "nbformat": 4,
 "nbformat_minor": 4
}
