{
 "cells": [
  {
   "cell_type": "code",
   "execution_count": null,
   "metadata": {},
   "outputs": [],
   "source": [
    "'''\n",
    "1002. Find Common Characters\n",
    "Given a string array words, return an array of all characters that show up in all strings within the words \n",
    "(including duplicates). You may return the answer in any order.\n",
    "\n",
    "Example 1:\n",
    "Input: words = [\"bella\",\"label\",\"roller\"]\n",
    "Output: [\"e\",\"l\",\"l\"]\n",
    "\n",
    "Example 2:\n",
    "Input: words = [\"cool\",\"lock\",\"cook\"]\n",
    "Output: [\"c\",\"o\"]\n",
    " \n",
    "'''\n",
    "\n",
    "class Solution:\n",
    "    def commonChars(self, words: List[str]) -> List[str]:\n",
    "        \n",
    "        output = list(words[0])\n",
    "        \n",
    "        for word in words[1:]:\n",
    "            temp = []\n",
    "            \n",
    "            for char in output:\n",
    "                \n",
    "                if char in word:\n",
    "                    temp.append(char)\n",
    "                    word = word.replace(char,'*',1)\n",
    "                    \n",
    "                else:\n",
    "                    continue\n",
    "                    \n",
    "            output = temp\n",
    "            \n",
    "            \n",
    "        return output\n",
    "        \n",
    "        \n",
    "        "
   ]
  }
 ],
 "metadata": {
  "kernelspec": {
   "display_name": "Python 3",
   "language": "python",
   "name": "python3"
  },
  "language_info": {
   "codemirror_mode": {
    "name": "ipython",
    "version": 3
   },
   "file_extension": ".py",
   "mimetype": "text/x-python",
   "name": "python",
   "nbconvert_exporter": "python",
   "pygments_lexer": "ipython3",
   "version": "3.8.5"
  }
 },
 "nbformat": 4,
 "nbformat_minor": 4
}
