{
 "cells": [
  {
   "cell_type": "code",
   "execution_count": null,
   "metadata": {},
   "outputs": [],
   "source": [
    "'''\n",
    "414. Third Maximum Number\n",
    "Given an integer array nums, return the third distinct maximum number in this array. \n",
    "If the third maximum does not exist, return the maximum number.\n",
    "'''\n",
    "\n",
    "class Solution:\n",
    "    def thirdMax(self, nums: List[int]) -> int:\n",
    "        \n",
    "        my_set = set(nums)\n",
    "        \n",
    "        maximum = max(my_set)\n",
    "        \n",
    "        # If the third maximum does not exist, return the maximum number\n",
    "        if len(my_set) < 3:\n",
    "            return maximum\n",
    "        \n",
    "        \n",
    "        my_set.remove(maximum)\n",
    "        \n",
    "        second_max = max(my_set)\n",
    "        my_set.remove(second_max)\n",
    "        \n",
    "        \n",
    "        return max(my_set)\n",
    "    \n",
    "    \n",
    "        "
   ]
  }
 ],
 "metadata": {
  "kernelspec": {
   "display_name": "Python 3",
   "language": "python",
   "name": "python3"
  },
  "language_info": {
   "codemirror_mode": {
    "name": "ipython",
    "version": 3
   },
   "file_extension": ".py",
   "mimetype": "text/x-python",
   "name": "python",
   "nbconvert_exporter": "python",
   "pygments_lexer": "ipython3",
   "version": "3.8.5"
  }
 },
 "nbformat": 4,
 "nbformat_minor": 4
}
