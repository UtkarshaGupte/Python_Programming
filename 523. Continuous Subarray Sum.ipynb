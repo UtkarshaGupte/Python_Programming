{
 "cells": [
  {
   "cell_type": "code",
   "execution_count": null,
   "metadata": {},
   "outputs": [],
   "source": [
    "'''\n",
    "523. Continuous Subarray Sum\n",
    "Given an integer array nums and an integer k, \n",
    "return true if nums has a continuous subarray of size at least two whose elements sum up to a multiple of k, \n",
    "or false otherwise.\n",
    "\n",
    "An integer x is a multiple of k if there exists an integer n such that x = n * k. 0 is always a multiple of k.\n",
    "'''\n",
    "\n",
    "class Solution:\n",
    "    def checkSubarraySum(self, nums: List[int], k: int) -> bool:\n",
    "        \n",
    "        rem_hashmap = {0 : -1}\n",
    "        total = 0\n",
    "        \n",
    "        for i, val in enumerate(nums):\n",
    "            total += val\n",
    "            \n",
    "            rem = total % k\n",
    "            \n",
    "            if rem  not in rem_hashmap:\n",
    "                rem_hashmap[rem] = i\n",
    "            \n",
    "            elif i - rem_hashmap[rem] > 1:\n",
    "                return True\n",
    "        \n",
    "        return False\n",
    "    \n",
    "    "
   ]
  }
 ],
 "metadata": {
  "kernelspec": {
   "display_name": "Python 3",
   "language": "python",
   "name": "python3"
  },
  "language_info": {
   "codemirror_mode": {
    "name": "ipython",
    "version": 3
   },
   "file_extension": ".py",
   "mimetype": "text/x-python",
   "name": "python",
   "nbconvert_exporter": "python",
   "pygments_lexer": "ipython3",
   "version": "3.8.5"
  }
 },
 "nbformat": 4,
 "nbformat_minor": 4
}
