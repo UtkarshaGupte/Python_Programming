{
 "cells": [
  {
   "cell_type": "code",
   "execution_count": null,
   "metadata": {},
   "outputs": [],
   "source": [
    "'''\n",
    "977. Squares of a Sorted Array\n",
    "Given an integer array nums sorted in non-decreasing order, \n",
    "return an array of the squares of each number sorted in non-decreasing order.\n",
    "'''\n",
    "\n",
    "\n",
    "class Solution:\n",
    "    def sortedSquares(self, nums: List[int]) -> List[int]:\n",
    "        \n",
    "        n= len(nums)\n",
    "        left = 0\n",
    "        right, place_index = n-1, n-1\n",
    "        res = [ 0 for x in range(n)] #list comprehension\n",
    "        \n",
    "        \n",
    "        while left<=right:\n",
    "            left_square = nums[left] * nums[left]\n",
    "            right_square = nums[right] * nums[right]\n",
    "            if left_square > right_square:\n",
    "                res[place_index] = left_square\n",
    "                left += 1\n",
    "            else:\n",
    "                res[place_index] = right_square\n",
    "                right -= 1\n",
    "            \n",
    "            place_index -= 1\n",
    "            \n",
    "        return res\n",
    "                \n",
    "                \n",
    "        "
   ]
  }
 ],
 "metadata": {
  "kernelspec": {
   "display_name": "Python 3",
   "language": "python",
   "name": "python3"
  },
  "language_info": {
   "codemirror_mode": {
    "name": "ipython",
    "version": 3
   },
   "file_extension": ".py",
   "mimetype": "text/x-python",
   "name": "python",
   "nbconvert_exporter": "python",
   "pygments_lexer": "ipython3",
   "version": "3.8.5"
  }
 },
 "nbformat": 4,
 "nbformat_minor": 4
}
