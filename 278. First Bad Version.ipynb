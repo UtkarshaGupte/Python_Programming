{
 "cells": [
  {
   "cell_type": "code",
   "execution_count": null,
   "metadata": {},
   "outputs": [],
   "source": [
    "'''\n",
    "278. First Bad Version\n",
    "You are a product manager and currently leading a team to develop a new product. \n",
    "Unfortunately, the latest version of your product fails the quality check. \n",
    "Since each version is developed based on the previous version, all the versions after a bad version are also bad.\n",
    "\n",
    "Suppose you have n versions [1, 2, ..., n] and you want to find out the first bad one, \n",
    "which causes all the following ones to be bad.\n",
    "\n",
    "You are given an API bool isBadVersion(version) which returns whether version is bad. \n",
    "Implement a function to find the first bad version. You should minimize the number of calls to the API.\n",
    "'''\n",
    "\n",
    "# The isBadVersion API is already defined for you.\n",
    "# @param version, an integer\n",
    "# @return an integer\n",
    "# def isBadVersion(version):\n",
    "\n",
    "class Solution:\n",
    "    def firstBadVersion(self, n):\n",
    "        \"\"\"\n",
    "        :type n: int\n",
    "        :rtype: int\n",
    "        \"\"\"\n",
    "        \n",
    "        left, right = 0, n-1\n",
    "        \n",
    "        while left <= right:\n",
    "            \n",
    "            mid = left + (right - left)//2\n",
    "            \n",
    "            if isBadVersion(mid+1): \n",
    "                if not isBadVersion(mid):\n",
    "                    return mid+1\n",
    "                else:\n",
    "                    right = mid - 1\n",
    "            else:\n",
    "                left = mid + 1\n",
    "                \n",
    "                \n",
    "            "
   ]
  }
 ],
 "metadata": {
  "kernelspec": {
   "display_name": "Python 3",
   "language": "python",
   "name": "python3"
  },
  "language_info": {
   "codemirror_mode": {
    "name": "ipython",
    "version": 3
   },
   "file_extension": ".py",
   "mimetype": "text/x-python",
   "name": "python",
   "nbconvert_exporter": "python",
   "pygments_lexer": "ipython3",
   "version": "3.8.5"
  }
 },
 "nbformat": 4,
 "nbformat_minor": 4
}
