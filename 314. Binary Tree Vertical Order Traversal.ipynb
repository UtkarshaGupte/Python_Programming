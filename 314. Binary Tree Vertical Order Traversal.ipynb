{
 "cells": [
  {
   "cell_type": "code",
   "execution_count": null,
   "metadata": {},
   "outputs": [],
   "source": [
    "'''\n",
    "314. Binary Tree Vertical Order Traversal\n",
    "Given the root of a binary tree, return the vertical order traversal of its nodes' values. \n",
    "(i.e., from top to bottom, column by column).\n",
    "\n",
    "If two nodes are in the same row and column, the order should be from left to right.\n",
    "\n",
    "Example 1:\n",
    "Input: root = [3,9,20,null,null,15,7]\n",
    "Output: [[9],[3,15],[20],[7]]\n",
    "'''\n",
    "\n",
    "# Definition for a binary tree node.\n",
    "# class TreeNode:\n",
    "#     def __init__(self, val=0, left=None, right=None):\n",
    "#         self.val = val\n",
    "#         self.left = left\n",
    "#         self.right = right\n",
    "class Solution:\n",
    "    def verticalOrder(self, root: Optional[TreeNode]) -> List[List[int]]:\n",
    "        \n",
    "        indexNodes = defaultdict(list)\n",
    "        \n",
    "        q = deque([(root, 0)])\n",
    "        \n",
    "        \n",
    "        while q:\n",
    "            \n",
    "            currNode, currIndex = q.popleft()\n",
    "            \n",
    "            if currNode:\n",
    "                \n",
    "                indexNodes[currIndex].append(currNode.val)\n",
    "                \n",
    "                if currNode.left:\n",
    "                    q.append((currNode.left, currIndex-1))\n",
    "                    \n",
    "                    \n",
    "                if currNode.right:\n",
    "                    q.append((currNode.right, currIndex+1))\n",
    "                    \n",
    "                    \n",
    "        #Since the order should be from left to right, sorting by key\n",
    "        return [indexNodes[x] for x in sorted(indexNodes.keys())]\n",
    "    \n",
    "    "
   ]
  }
 ],
 "metadata": {
  "kernelspec": {
   "display_name": "Python 3",
   "language": "python",
   "name": "python3"
  },
  "language_info": {
   "codemirror_mode": {
    "name": "ipython",
    "version": 3
   },
   "file_extension": ".py",
   "mimetype": "text/x-python",
   "name": "python",
   "nbconvert_exporter": "python",
   "pygments_lexer": "ipython3",
   "version": "3.8.5"
  }
 },
 "nbformat": 4,
 "nbformat_minor": 4
}
