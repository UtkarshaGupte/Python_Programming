{
 "cells": [
  {
   "cell_type": "code",
   "execution_count": null,
   "metadata": {},
   "outputs": [],
   "source": [
    "'''\n",
    "905. Sort Array By Parity\n",
    "Given an integer array nums, move all the even integers at the beginning of the array followed by all the odd integers.\n",
    "\n",
    "Return any array that satisfies this condition.\n",
    "'''\n",
    "\n",
    "class Solution:\n",
    "    def sortArrayByParity(self, nums: List[int]) -> List[int]:\n",
    "        \n",
    "        even_ptr = 0\n",
    "        odd_ptr = len(nums)-1\n",
    "        \n",
    "        while even_ptr < odd_ptr:\n",
    "            \n",
    "            digit1 = nums[even_ptr]\n",
    "            if digit1%2 != 0:\n",
    "                nums[even_ptr],nums[odd_ptr] = nums[odd_ptr], nums[even_ptr]\n",
    "                odd_ptr -= 1\n",
    "            else:\n",
    "                even_ptr += 1\n",
    "                \n",
    "        return nums\n",
    "    \n",
    "    \n",
    "    \n",
    "        "
   ]
  }
 ],
 "metadata": {
  "kernelspec": {
   "display_name": "Python 3",
   "language": "python",
   "name": "python3"
  },
  "language_info": {
   "codemirror_mode": {
    "name": "ipython",
    "version": 3
   },
   "file_extension": ".py",
   "mimetype": "text/x-python",
   "name": "python",
   "nbconvert_exporter": "python",
   "pygments_lexer": "ipython3",
   "version": "3.8.5"
  }
 },
 "nbformat": 4,
 "nbformat_minor": 4
}
