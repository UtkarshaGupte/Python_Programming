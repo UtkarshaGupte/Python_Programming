{
 "cells": [
  {
   "cell_type": "code",
   "execution_count": null,
   "metadata": {},
   "outputs": [],
   "source": [
    "'''\n",
    "696. Count Binary Substrings\n",
    "Give a binary string s, return the number of non-empty substrings that have the same number of 0's and 1's, \n",
    "and all the 0's and all the 1's in these substrings are grouped consecutively.\n",
    "\n",
    "Substrings that occur multiple times are counted the number of times they occur.\n",
    "'''\n",
    "\n",
    "class Solution:\n",
    "    def countBinarySubstrings(self, s: str) -> int:\n",
    "        \n",
    "        prev, curr = 0, 1\n",
    "        ans = 0       \n",
    "        \n",
    "        for i in range(1,len(s)):\n",
    "            \n",
    "            if s[i-1] == s[i]:\n",
    "                curr += 1\n",
    "                \n",
    "            else:\n",
    "                \n",
    "                ans += min(prev, curr)\n",
    "                prev = curr\n",
    "                curr = 1\n",
    "                \n",
    "        return ans + min(prev, curr)\n",
    "                \n",
    "    "
   ]
  }
 ],
 "metadata": {
  "kernelspec": {
   "display_name": "Python 3",
   "language": "python",
   "name": "python3"
  },
  "language_info": {
   "codemirror_mode": {
    "name": "ipython",
    "version": 3
   },
   "file_extension": ".py",
   "mimetype": "text/x-python",
   "name": "python",
   "nbconvert_exporter": "python",
   "pygments_lexer": "ipython3",
   "version": "3.8.5"
  }
 },
 "nbformat": 4,
 "nbformat_minor": 4
}
