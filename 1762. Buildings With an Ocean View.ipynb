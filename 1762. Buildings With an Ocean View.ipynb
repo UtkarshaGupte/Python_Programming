{
 "cells": [
  {
   "cell_type": "code",
   "execution_count": null,
   "metadata": {},
   "outputs": [],
   "source": [
    "'''\n",
    "1762. Buildings With an Ocean View\n",
    "There are n buildings in a line. You are given an integer array heights of size n that \n",
    "represents the heights of the buildings in the line.\n",
    "\n",
    "The ocean is to the right of the buildings. \n",
    "A building has an ocean view if the building can see the ocean without obstructions. \n",
    "Formally, a building has an ocean view if all the buildings to its right have a smaller height.\n",
    "\n",
    "Return a list of indices (0-indexed) of buildings that have an ocean view, sorted in increasing order.\n",
    "\n",
    "Example 1:\n",
    "Input: heights = [4,2,3,1]\n",
    "Output: [0,2,3]\n",
    "Explanation: Building 1 (0-indexed) does not have an ocean view because building 2 is taller.\n",
    "\n",
    "Example 2:\n",
    "Input: heights = [4,3,2,1]\n",
    "Output: [0,1,2,3]\n",
    "Explanation: All the buildings have an ocean view.\n",
    "\n",
    "Time/Space Complexities:\n",
    "\n",
    "Time: O(N)\n",
    "\n",
    "Space: O(1)\n",
    "'''\n",
    "\n",
    "class Solution:\n",
    "    def findBuildings(self, heights: List[int]) -> List[int]:\n",
    "                \n",
    "        n = len(heights)\n",
    "        max_height = -math.inf\n",
    "        \n",
    "        res = []\n",
    "        \n",
    "        for i in range(n-1,-1,-1):\n",
    "            \n",
    "            if heights[i] > max_height:\n",
    "                res.append(i)\n",
    "                \n",
    "            max_height = max(max_height, heights[i])\n",
    "        \n",
    "        res.reverse()\n",
    "            \n",
    "        return res\n",
    "            \n"
   ]
  }
 ],
 "metadata": {
  "kernelspec": {
   "display_name": "Python 3",
   "language": "python",
   "name": "python3"
  },
  "language_info": {
   "codemirror_mode": {
    "name": "ipython",
    "version": 3
   },
   "file_extension": ".py",
   "mimetype": "text/x-python",
   "name": "python",
   "nbconvert_exporter": "python",
   "pygments_lexer": "ipython3",
   "version": "3.8.5"
  }
 },
 "nbformat": 4,
 "nbformat_minor": 4
}
