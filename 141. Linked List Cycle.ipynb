{
 "cells": [
  {
   "cell_type": "code",
   "execution_count": 4,
   "metadata": {},
   "outputs": [
    {
     "name": "stdout",
     "output_type": "stream",
     "text": [
      "LinkedList has cycle: False\n",
      "LinkedList has cycle: True\n",
      "LinkedList has cycle: True\n"
     ]
    }
   ],
   "source": [
    "'''\n",
    "141. Linked List Cycle\n",
    "Given head, the head of a linked list, determine if the linked list has a cycle in it.\n",
    "\n",
    "There is a cycle in a linked list if there is some node in the list that can be reached again by \n",
    "continuously following the next pointer. Internally, pos is used to denote the index of the node that tail's \n",
    "next pointer is connected to. Note that pos is not passed as a parameter.\n",
    "\n",
    "Return true if there is a cycle in the linked list. Otherwise, return false.\n",
    "'''\n",
    "class Node:\n",
    "    def __init__(self, value, next=None):\n",
    "        self.value = value\n",
    "        self.next = next\n",
    "\n",
    "\n",
    "\n",
    "def hasCycle(head):\n",
    "    slow, fast = head, head\n",
    "\n",
    "    while fast is not None and fast.next is not None:\n",
    "        fast = fast.next.next\n",
    "        slow = slow.next\n",
    "\n",
    "        if slow == fast:\n",
    "            return True\n",
    "\n",
    "    return False\n",
    "        \n",
    "def main():\n",
    "    \n",
    "    head = Node(1)\n",
    "    head.next = Node(2)\n",
    "    head.next.next = Node(3)\n",
    "    head.next.next.next = Node(4)\n",
    "    head.next.next.next.next = Node(5)\n",
    "    head.next.next.next.next.next = Node(6)\n",
    "    print(\"LinkedList has cycle: \" + str(hasCycle(head)))\n",
    "\n",
    "    head.next.next.next.next.next.next = head.next.next\n",
    "    print(\"LinkedList has cycle: \" + str(hasCycle(head)))\n",
    "\n",
    "    head.next.next.next.next.next.next = head.next.next.next\n",
    "    print(\"LinkedList has cycle: \" + str(hasCycle(head)))\n",
    "\n",
    "main()"
   ]
  },
  {
   "cell_type": "code",
   "execution_count": null,
   "metadata": {},
   "outputs": [],
   "source": []
  }
 ],
 "metadata": {
  "kernelspec": {
   "display_name": "Python 3",
   "language": "python",
   "name": "python3"
  },
  "language_info": {
   "codemirror_mode": {
    "name": "ipython",
    "version": 3
   },
   "file_extension": ".py",
   "mimetype": "text/x-python",
   "name": "python",
   "nbconvert_exporter": "python",
   "pygments_lexer": "ipython3",
   "version": "3.8.5"
  }
 },
 "nbformat": 4,
 "nbformat_minor": 4
}
