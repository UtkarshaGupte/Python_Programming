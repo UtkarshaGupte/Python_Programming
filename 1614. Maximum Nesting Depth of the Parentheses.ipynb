{
 "cells": [
  {
   "cell_type": "code",
   "execution_count": null,
   "metadata": {},
   "outputs": [],
   "source": [
    "'''\n",
    "1614. Maximum Nesting Depth of the Parentheses\n",
    "A string is a valid parentheses string (denoted VPS) if it meets one of the following:\n",
    "\n",
    "It is an empty string \"\", or a single character not equal to \"(\" or \")\",\n",
    "It can be written as AB (A concatenated with B), where A and B are VPS's, or\n",
    "It can be written as (A), where A is a VPS.\n",
    "We can similarly define the nesting depth depth(S) of any VPS S as follows:\n",
    "\n",
    "depth(\"\") = 0\n",
    "depth(C) = 0, where C is a string with a single character not equal to \"(\" or \")\".\n",
    "depth(A + B) = max(depth(A), depth(B)), where A and B are VPS's.\n",
    "depth(\"(\" + A + \")\") = 1 + depth(A), where A is a VPS.\n",
    "For example, \"\", \"()()\", and \"()(()())\" are VPS's (with nesting depths 0, 1, and 2), and \")(\" and \"(()\" are not VPS's.\n",
    "\n",
    "Given a VPS represented as string s, return the nesting depth of s.\n",
    "'''\n",
    "\n",
    "\n",
    "class Solution:\n",
    "    def maxDepth(self, s: str) -> int:\n",
    "        \n",
    "        curr_depth = 0\n",
    "        open_bracket = 0\n",
    "        \n",
    "        for char in s:\n",
    "            \n",
    "            if char == '(':\n",
    "                open_bracket += 1\n",
    "                \n",
    "            if char == ')':\n",
    "                open_bracket -= 1\n",
    "                \n",
    "            curr_depth = max(curr_depth ,  open_bracket)\n",
    "            \n",
    "            \n",
    "        return curr_depth\n",
    "        \n",
    "    "
   ]
  }
 ],
 "metadata": {
  "kernelspec": {
   "display_name": "Python 3",
   "language": "python",
   "name": "python3"
  },
  "language_info": {
   "codemirror_mode": {
    "name": "ipython",
    "version": 3
   },
   "file_extension": ".py",
   "mimetype": "text/x-python",
   "name": "python",
   "nbconvert_exporter": "python",
   "pygments_lexer": "ipython3",
   "version": "3.8.5"
  }
 },
 "nbformat": 4,
 "nbformat_minor": 4
}
