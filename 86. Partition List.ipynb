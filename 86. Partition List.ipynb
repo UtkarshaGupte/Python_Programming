{
 "cells": [
  {
   "cell_type": "code",
   "execution_count": 10,
   "metadata": {},
   "outputs": [],
   "source": [
    "'''\n",
    "86. Partition List\n",
    "Given the head of a linked list and a value x, partition it such that all nodes less than x come \n",
    "before nodes greater than or equal to x.\n",
    "\n",
    "You should preserve the original relative order of the nodes in each of the two partitions.\n",
    "'''\n",
    "from __future__ import print_function\n",
    "\n",
    "\n",
    "class Node:\n",
    "    def __init__(self, value, next=None):\n",
    "        self.val = value\n",
    "        self.next = next\n",
    "\n",
    "    def print_list(self):\n",
    "        temp = self\n",
    "        while temp is not None:\n",
    "            print(temp.val, end=\" \")\n",
    "            temp = temp.next\n",
    "        print()\n",
    "\n",
    "#Definition for singly-linked list.\n",
    "class ListNode:\n",
    "    def __init__(self, val=0, next=None):\n",
    "        self.val = val\n",
    "        self.next = next\n",
    "\n",
    "def partition(head, x):\n",
    "    left , right = ListNode(), ListNode()\n",
    "    left_head, right_head= left, right\n",
    "\n",
    "    while head is not None:\n",
    "        if head.val < x:\n",
    "            left.next = head\n",
    "            left = left.next\n",
    "        else:\n",
    "            right.next = head\n",
    "            right = right.next\n",
    "\n",
    "        head = head.next\n",
    "\n",
    "\n",
    "    left_tail = right.next\n",
    "    right.next = None\n",
    "\n",
    "    left.next = right_head.next\n",
    "\n",
    "    return left_head.next\n",
    "        "
   ]
  },
  {
   "cell_type": "code",
   "execution_count": 13,
   "metadata": {},
   "outputs": [],
   "source": [
    "def main():\n",
    "    head = Node(1)\n",
    "    head.next = Node(4)\n",
    "    head.next.next = Node(3)\n",
    "    head.next.next.next = Node(2)\n",
    "    head.next.next.next.next = Node(5)\n",
    "    head.next.next.next.next.next = Node(2)\n",
    "\n",
    "    print(\"Nodes of original LinkedList are: \", end='')\n",
    "    head.print_list()\n",
    "    result = partition(head, 3)\n",
    "    print(\"Nodes of rotated LinkedList are: \", end='')\n",
    "    result.print_list()"
   ]
  },
  {
   "cell_type": "code",
   "execution_count": 14,
   "metadata": {},
   "outputs": [
    {
     "name": "stdout",
     "output_type": "stream",
     "text": [
      "Nodes of original LinkedList are: 1 4 3 2 5 2 \n",
      "Nodes of rotated LinkedList are: 1 2 2 4 3 5 \n"
     ]
    }
   ],
   "source": [
    "main()"
   ]
  },
  {
   "cell_type": "code",
   "execution_count": null,
   "metadata": {},
   "outputs": [],
   "source": []
  }
 ],
 "metadata": {
  "kernelspec": {
   "display_name": "Python 3",
   "language": "python",
   "name": "python3"
  },
  "language_info": {
   "codemirror_mode": {
    "name": "ipython",
    "version": 3
   },
   "file_extension": ".py",
   "mimetype": "text/x-python",
   "name": "python",
   "nbconvert_exporter": "python",
   "pygments_lexer": "ipython3",
   "version": "3.8.5"
  }
 },
 "nbformat": 4,
 "nbformat_minor": 4
}
