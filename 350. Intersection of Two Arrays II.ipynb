{
 "cells": [
  {
   "cell_type": "code",
   "execution_count": null,
   "metadata": {},
   "outputs": [],
   "source": [
    "'''\n",
    "350. Intersection of Two Arrays II\n",
    "Given two integer arrays nums1 and nums2, return an array of their intersection. \n",
    "Each element in the result must appear as many times as it shows in both arrays and you may return the result in any order.\n",
    "'''\n",
    "\n",
    "class Solution:\n",
    "    def intersect(self, nums1: List[int], nums2: List[int]) -> List[int]:\n",
    "        \n",
    "        if len(nums1) > len(nums2):\n",
    "            nums1, nums2 = nums2, nums1\n",
    "            \n",
    "        nums1_dict = dict()\n",
    "        \n",
    "        for val in nums1:\n",
    "            nums1_dict[val] = 1 + nums1_dict.get(val,0)\n",
    "            \n",
    "            \n",
    "        output = []\n",
    "        \n",
    "        for val in nums2:\n",
    "            if val in nums1_dict and nums1_dict[val] > 0:\n",
    "                output.append(val)\n",
    "                nums1_dict[val] -= 1\n",
    "                \n",
    "                \n",
    "        return output\n",
    "                "
   ]
  }
 ],
 "metadata": {
  "kernelspec": {
   "display_name": "Python 3",
   "language": "python",
   "name": "python3"
  },
  "language_info": {
   "codemirror_mode": {
    "name": "ipython",
    "version": 3
   },
   "file_extension": ".py",
   "mimetype": "text/x-python",
   "name": "python",
   "nbconvert_exporter": "python",
   "pygments_lexer": "ipython3",
   "version": "3.8.5"
  }
 },
 "nbformat": 4,
 "nbformat_minor": 4
}
