{
 "cells": [
  {
   "cell_type": "code",
   "execution_count": null,
   "metadata": {},
   "outputs": [],
   "source": [
    "'''\n",
    "179. Largest Number\n",
    "Given a list of non-negative integers nums, arrange them such that they form the largest number and return it.\n",
    "\n",
    "Since the result may be very large, so you need to return a string instead of an integer.\n",
    "'''\n",
    "\n",
    "class Solution:\n",
    "    def largestNumber(self, nums: List[int]) -> str:\n",
    "        \n",
    "        #Converting the integer elements to string\n",
    "        for i, val in enumerate(nums):\n",
    "            nums[i] = str(val)\n",
    "        \n",
    "        \n",
    "        #Defining a compare function to compare two elements\n",
    "        \n",
    "        def mycmp(x,y):\n",
    "            \n",
    "            if x + y > y + x:\n",
    "                return -1\n",
    "            elif x + y < y + x:\n",
    "                return 1\n",
    "            else:\n",
    "                return 0\n",
    "            \n",
    "            \n",
    "        nums = sorted(nums, key= cmp_to_key(mycmp))\n",
    "        \n",
    "        return str(int(\"\".join(nums)))\n",
    "        \n",
    "        "
   ]
  }
 ],
 "metadata": {
  "kernelspec": {
   "display_name": "Python 3",
   "language": "python",
   "name": "python3"
  },
  "language_info": {
   "codemirror_mode": {
    "name": "ipython",
    "version": 3
   },
   "file_extension": ".py",
   "mimetype": "text/x-python",
   "name": "python",
   "nbconvert_exporter": "python",
   "pygments_lexer": "ipython3",
   "version": "3.8.5"
  }
 },
 "nbformat": 4,
 "nbformat_minor": 4
}
