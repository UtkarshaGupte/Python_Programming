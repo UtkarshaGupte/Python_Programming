{
 "cells": [
  {
   "cell_type": "code",
   "execution_count": null,
   "metadata": {},
   "outputs": [],
   "source": [
    "'''\n",
    "680. Valid Palindrome II\n",
    "Given a string s, return true if the s can be palindrome after deleting at most one character from it.\n",
    "'''\n",
    "\n",
    "class Solution:\n",
    "    def validPalindrome(self, s: str) -> bool:\n",
    "        \n",
    "        if len(s) < 3:\n",
    "            return True\n",
    "        \n",
    "        if len(s) == len(set(s)): #All unique characters\n",
    "            return False\n",
    "        \n",
    "        def check_palindrome(s, l, r):\n",
    "            while l<r:\n",
    "                if s[l] == s[r]:\n",
    "                    return check_palindrome(s, l+1, r-1)\n",
    "                else:\n",
    "                    return False\n",
    "            \n",
    "            return True\n",
    "                \n",
    "        \n",
    "        left = 0\n",
    "        right = len(s) - 1\n",
    "        \n",
    "        while left < right:\n",
    "            \n",
    "            if s[left] == s[right]:\n",
    "                left += 1\n",
    "                right -= 1\n",
    "                \n",
    "            else:\n",
    "                \n",
    "                if check_palindrome(s, left+1 , right) or check_palindrome(s, left, right-1):\n",
    "                    return True\n",
    "                return False\n",
    "            \n",
    "            \n",
    "        return True\n",
    "            \n",
    "            \n",
    "        "
   ]
  }
 ],
 "metadata": {
  "kernelspec": {
   "display_name": "Python 3",
   "language": "python",
   "name": "python3"
  },
  "language_info": {
   "codemirror_mode": {
    "name": "ipython",
    "version": 3
   },
   "file_extension": ".py",
   "mimetype": "text/x-python",
   "name": "python",
   "nbconvert_exporter": "python",
   "pygments_lexer": "ipython3",
   "version": "3.8.5"
  }
 },
 "nbformat": 4,
 "nbformat_minor": 4
}
