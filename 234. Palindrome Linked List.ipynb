{
 "cells": [
  {
   "cell_type": "code",
   "execution_count": 6,
   "metadata": {},
   "outputs": [
    {
     "name": "stdout",
     "output_type": "stream",
     "text": [
      "Is palindrome: True\n"
     ]
    }
   ],
   "source": [
    "'''\n",
    "234. Palindrome Linked List\n",
    "Given the head of a singly linked list, return true if it is a palindrome.\n",
    "\n",
    "'''\n",
    "\n",
    "class Node:\n",
    "    def __init__(self, value, next=None):\n",
    "        self.value = value\n",
    "        self.next = next\n",
    "\n",
    "\n",
    "def isPalindrome(head): \n",
    "    \n",
    "    if head is  None or head.next is None: #In case of single element linked list\n",
    "            return True\n",
    "        \n",
    "    slow, fast = head, head\n",
    "\n",
    "    while fast is not None and fast.next is not None:\n",
    "        slow = slow.next\n",
    "        fast = fast.next.next\n",
    "\n",
    "    #slow pointer is at the middle of the linked list after coming out of the while loop\n",
    "    #first half : starts from head, Second half: starts from slow        \n",
    "    #Reverse the second half\n",
    "    second_half_head = reverse_string(slow)\n",
    "\n",
    "    while head is not None and second_half_head is not None:\n",
    "        if head.value != second_half_head.value:\n",
    "            break\n",
    "\n",
    "        head = head.next\n",
    "        second_half_head = second_half_head.next\n",
    "\n",
    "    if head is None or second_half_head is None:\n",
    "        return True\n",
    "\n",
    "    return False       \n",
    "\n",
    "def reverse_string(head):       \n",
    "    prev = None\n",
    "    curr = head    \n",
    "\n",
    "    while curr is not None:\n",
    "        temp = curr.next\n",
    "        curr.next = prev\n",
    "        prev = curr\n",
    "        curr = temp   \n",
    "\n",
    "    return prev\n",
    "\n",
    "\n",
    "def main():\n",
    "    head = Node(2)\n",
    "    head.next = Node(4)\n",
    "    head.next.next = Node(6)\n",
    "    head.next.next.next = Node(4)\n",
    "    head.next.next.next.next = Node(2)\n",
    "\n",
    "    print(\"Is palindrome: \" + str(isPalindrome(head)))\n",
    "\n",
    "\n",
    "\n",
    "main()\n"
   ]
  },
  {
   "cell_type": "code",
   "execution_count": null,
   "metadata": {},
   "outputs": [],
   "source": []
  },
  {
   "cell_type": "code",
   "execution_count": null,
   "metadata": {},
   "outputs": [],
   "source": []
  }
 ],
 "metadata": {
  "kernelspec": {
   "display_name": "Python 3",
   "language": "python",
   "name": "python3"
  },
  "language_info": {
   "codemirror_mode": {
    "name": "ipython",
    "version": 3
   },
   "file_extension": ".py",
   "mimetype": "text/x-python",
   "name": "python",
   "nbconvert_exporter": "python",
   "pygments_lexer": "ipython3",
   "version": "3.8.5"
  }
 },
 "nbformat": 4,
 "nbformat_minor": 4
}
