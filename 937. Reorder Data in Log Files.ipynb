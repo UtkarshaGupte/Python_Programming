{
 "cells": [
  {
   "cell_type": "code",
   "execution_count": null,
   "metadata": {},
   "outputs": [],
   "source": [
    "'''\n",
    "937. Reorder Data in Log Files\n",
    "\n",
    "You are given an array of logs. Each log is a space-delimited string of words, where the first word is the identifier.\n",
    "\n",
    "There are two types of logs:\n",
    "\n",
    "Letter-logs: All words (except the identifier) consist of lowercase English letters.\n",
    "Digit-logs: All words (except the identifier) consist of digits.\n",
    "Reorder these logs so that:\n",
    "\n",
    "The letter-logs come before all digit-logs.\n",
    "The letter-logs are sorted lexicographically by their contents.\n",
    "If their contents are the same, then sort them lexicographically by their identifiers.\n",
    "The digit-logs maintain their relative ordering.\n",
    "Return the final order of the logs.\n",
    "'''\n",
    "\n",
    "class Solution:\n",
    "    def reorderLogFiles(self, logs: List[str]) -> List[str]:\n",
    "        \n",
    "        logs_digit = [ log for log in logs if log.split()[1].isdigit() ]\n",
    "        logs_letter = [ log for log in logs if log.split()[1].isalpha() ]\n",
    "        \n",
    "        #sort the letters lexicographically\n",
    "        #If letters are same, sorting by the identifiers\n",
    "        logs_letter.sort(key = lambda x: (x.split()[1:], x.split()[0]))\n",
    "        \n",
    "        \n",
    "        \n",
    "        return logs_letter + logs_digit \n",
    "\n",
    "        "
   ]
  }
 ],
 "metadata": {
  "kernelspec": {
   "display_name": "Python 3",
   "language": "python",
   "name": "python3"
  },
  "language_info": {
   "codemirror_mode": {
    "name": "ipython",
    "version": 3
   },
   "file_extension": ".py",
   "mimetype": "text/x-python",
   "name": "python",
   "nbconvert_exporter": "python",
   "pygments_lexer": "ipython3",
   "version": "3.8.5"
  }
 },
 "nbformat": 4,
 "nbformat_minor": 4
}
