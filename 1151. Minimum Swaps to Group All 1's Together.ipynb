{
 "cells": [
  {
   "cell_type": "code",
   "execution_count": null,
   "metadata": {},
   "outputs": [],
   "source": [
    "'''\n",
    "1151. Minimum Swaps to Group All 1's Together\n",
    "\n",
    "Given a binary array data, return the minimum number of swaps required to group all 1’s present \n",
    "in the array together in any place in the array.\n",
    "\n",
    "Example 1:\n",
    "Input: data = [1,0,1,0,1]\n",
    "Output: 1\n",
    "Explanation: There are 3 ways to group all 1's together:\n",
    "[1,1,1,0,0] using 1 swap.\n",
    "[0,1,1,1,0] using 2 swaps.\n",
    "[0,0,1,1,1] using 1 swap.\n",
    "The minimum is 1.\n",
    "\n",
    "Example 2:\n",
    "Input: data = [0,0,0,1,0]\n",
    "Output: 0\n",
    "Explanation: Since there is only one 1 in the array, no swaps are needed.\n",
    "\n",
    "Time/Space Complexities:\n",
    "\n",
    "Time: O(N)\n",
    "\n",
    "Space: O(1)\n",
    "'''\n",
    "\n",
    "class Solution:\n",
    "    def minSwaps(self, data: List[int]) -> int:\n",
    "        \n",
    "        no_of_ones = sum(data)\n",
    "        \n",
    "        left, right = 0, 0\n",
    "        curr_no_of_ones = 0\n",
    "        \n",
    "        max_ones = -math.inf \n",
    "        \n",
    "        while right < len(data):\n",
    "            \n",
    "            curr_no_of_ones += data[right]\n",
    "            right += 1\n",
    "            \n",
    "            if right - left > no_of_ones:\n",
    "                curr_no_of_ones -= data[left]\n",
    "                left += 1\n",
    "                \n",
    "            max_ones = max(max_ones, curr_no_of_ones)\n",
    "            \n",
    "        return no_of_ones - max_ones\n",
    "                                \n",
    "\n",
    "  "
   ]
  }
 ],
 "metadata": {
  "kernelspec": {
   "display_name": "Python 3",
   "language": "python",
   "name": "python3"
  },
  "language_info": {
   "codemirror_mode": {
    "name": "ipython",
    "version": 3
   },
   "file_extension": ".py",
   "mimetype": "text/x-python",
   "name": "python",
   "nbconvert_exporter": "python",
   "pygments_lexer": "ipython3",
   "version": "3.8.5"
  }
 },
 "nbformat": 4,
 "nbformat_minor": 4
}
