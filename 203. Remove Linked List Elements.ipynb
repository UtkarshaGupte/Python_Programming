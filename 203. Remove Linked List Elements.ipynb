{
 "cells": [
  {
   "cell_type": "code",
   "execution_count": null,
   "metadata": {},
   "outputs": [],
   "source": [
    "'''\n",
    "203. Remove Linked List Elements\n",
    "Given the head of a linked list and an integer val, \n",
    "remove all the nodes of the linked list that has Node.val == val, and return the new head.\n",
    "'''\n",
    "\n",
    "# Definition for singly-linked list.\n",
    "# class ListNode:\n",
    "#     def __init__(self, val=0, next=None):\n",
    "#         self.val = val\n",
    "#         self.next = next\n",
    "class Solution:\n",
    "    def removeElements(self, head: Optional[ListNode], val: int) -> Optional[ListNode]:\n",
    "        \n",
    "        temp = ListNode(0)\n",
    "        temp.next = head\n",
    "        \n",
    "        prev, curr = temp, head\n",
    "        \n",
    "        \n",
    "        while curr:\n",
    "            \n",
    "            if curr.val == val:\n",
    "                prev.next = curr.next\n",
    "                \n",
    "            else:\n",
    "                prev = curr\n",
    "                \n",
    "            curr = curr.next\n",
    "            \n",
    "        return temp.next\n",
    "        \n"
   ]
  }
 ],
 "metadata": {
  "kernelspec": {
   "display_name": "Python 3",
   "language": "python",
   "name": "python3"
  },
  "language_info": {
   "codemirror_mode": {
    "name": "ipython",
    "version": 3
   },
   "file_extension": ".py",
   "mimetype": "text/x-python",
   "name": "python",
   "nbconvert_exporter": "python",
   "pygments_lexer": "ipython3",
   "version": "3.8.5"
  }
 },
 "nbformat": 4,
 "nbformat_minor": 4
}
