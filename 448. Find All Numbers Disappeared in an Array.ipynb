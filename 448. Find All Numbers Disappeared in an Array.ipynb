{
 "cells": [
  {
   "cell_type": "code",
   "execution_count": 1,
   "metadata": {},
   "outputs": [],
   "source": [
    "'''\n",
    "448. Find All Numbers Disappeared in an Array\n",
    "Given an array nums of n integers where nums[i] is in the range [1, n], \n",
    "return an array of all the integers in the range [1, n] that do not appear in nums.\n",
    "'''\n",
    "\n",
    "\n",
    "def findDisappearedNumbers(nums):\n",
    "\n",
    "    n= len(nums)\n",
    "    i=0\n",
    "    res= []\n",
    "\n",
    "    while i<n:\n",
    "        j = nums[i]\n",
    "        if nums[i] != nums[j-1] :\n",
    "            nums[i],nums[j-1] = nums[j-1],nums[i]\n",
    "        else:\n",
    "            i += 1\n",
    "\n",
    "    for i in range(n):\n",
    "        if nums[i] != i+1:\n",
    "            res.append(i+1)\n",
    "\n",
    "    return res\n",
    "        "
   ]
  },
  {
   "cell_type": "code",
   "execution_count": 2,
   "metadata": {},
   "outputs": [],
   "source": [
    "def main():\n",
    "    print(findDisappearedNumbers([2, 3, 1, 8, 2, 3, 5, 1]))\n",
    "    print(findDisappearedNumbers([2, 4, 1, 2]))\n",
    "    print(findDisappearedNumbers([2, 3, 2, 1]))"
   ]
  },
  {
   "cell_type": "code",
   "execution_count": 3,
   "metadata": {},
   "outputs": [
    {
     "name": "stdout",
     "output_type": "stream",
     "text": [
      "[4, 6, 7]\n",
      "[3]\n",
      "[4]\n"
     ]
    }
   ],
   "source": [
    "main()"
   ]
  },
  {
   "cell_type": "code",
   "execution_count": null,
   "metadata": {},
   "outputs": [],
   "source": []
  }
 ],
 "metadata": {
  "kernelspec": {
   "display_name": "Python 3",
   "language": "python",
   "name": "python3"
  },
  "language_info": {
   "codemirror_mode": {
    "name": "ipython",
    "version": 3
   },
   "file_extension": ".py",
   "mimetype": "text/x-python",
   "name": "python",
   "nbconvert_exporter": "python",
   "pygments_lexer": "ipython3",
   "version": "3.8.5"
  }
 },
 "nbformat": 4,
 "nbformat_minor": 4
}
