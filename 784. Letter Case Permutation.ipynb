{
 "cells": [
  {
   "cell_type": "code",
   "execution_count": null,
   "id": "a1a509e4",
   "metadata": {},
   "outputs": [],
   "source": [
    "'''\n",
    "784. Letter Case Permutation\n",
    "Given a string s, you can transform every letter individually to be lowercase or uppercase to create another string.\n",
    "\n",
    "Return a list of all possible strings we could create. Return the output in any order.\n",
    "\n",
    "Example 1:\n",
    "Input: s = \"a1b2\"\n",
    "Output: [\"a1b2\",\"a1B2\",\"A1b2\",\"A1B2\"]\n",
    "\n",
    "Example 2:\n",
    "Input: s = \"3z4\"\n",
    "Output: [\"3z4\",\"3Z4\"]\n",
    "\n",
    "Time/Space Complexity:\n",
    "\n",
    "Time - O(2^M * N) - where M is the number of characters (excluding digits) in the string \n",
    "and N is the total number of characters.\n",
    "Space - O(N)\n",
    "\n",
    "'''\n",
    "\n",
    "class Solution:\n",
    "    def letterCasePermutation(self, s: str) -> List[str]:\n",
    "        \n",
    "        listS = list(s)\n",
    "        n = len(s)\n",
    "        res = []\n",
    "        \n",
    "        def dfs(curr_listS, curr_index):\n",
    "            \n",
    "            if curr_index == n:\n",
    "                curr_s = \"\".join(curr_listS)\n",
    "                res.append(curr_s)\n",
    "                return \n",
    "                \n",
    "            elif curr_listS[curr_index].isdigit():\n",
    "                dfs(curr_listS, curr_index+1)\n",
    "                \n",
    "            else:   \n",
    "                curr_listS[curr_index] = curr_listS[curr_index].lower()\n",
    "                dfs(curr_listS, curr_index+1)\n",
    "                \n",
    "                curr_listS[curr_index] = curr_listS[curr_index].upper()\n",
    "                dfs(curr_listS, curr_index+1)\n",
    "          \n",
    "        \n",
    "        dfs(listS,0)\n",
    "        \n",
    "        return res\n",
    "        \n",
    "        \n",
    "        \n",
    "        "
   ]
  }
 ],
 "metadata": {
  "kernelspec": {
   "display_name": "Python 3 (ipykernel)",
   "language": "python",
   "name": "python3"
  },
  "language_info": {
   "codemirror_mode": {
    "name": "ipython",
    "version": 3
   },
   "file_extension": ".py",
   "mimetype": "text/x-python",
   "name": "python",
   "nbconvert_exporter": "python",
   "pygments_lexer": "ipython3",
   "version": "3.8.10"
  }
 },
 "nbformat": 4,
 "nbformat_minor": 5
}
