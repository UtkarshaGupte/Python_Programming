{
 "cells": [
  {
   "cell_type": "code",
   "execution_count": 1,
   "metadata": {},
   "outputs": [
    {
     "name": "stdout",
     "output_type": "stream",
     "text": [
      "2\n",
      "7\n"
     ]
    }
   ],
   "source": [
    "'''\n",
    "268. Missing Number\n",
    "Given an array nums containing n distinct numbers in the range [0, n], \n",
    "return the only number in the range that is missing from the array.\n",
    "\n",
    "Follow up: Could you implement a solution using only O(1) extra space complexity and O(n) runtime complexity?\n",
    "'''\n",
    "\n",
    "\n",
    "def missingNumber(nums):\n",
    "\n",
    "    #Placing the elements in their correct indexes\n",
    "    i = 0\n",
    "    while i<len(nums):\n",
    "        j = nums[i]\n",
    "        if nums[i] != i and nums[i] < len(nums):\n",
    "            nums[i], nums[j] = nums[j], nums[i]\n",
    "        else:\n",
    "            i += 1\n",
    "\n",
    "    #Finding the missing element\n",
    "    for i in range(len(nums)):\n",
    "        if nums[i] != i:\n",
    "            return i\n",
    "\n",
    "    #Outlier : [0,1] => Output is 2\n",
    "    if i== len(nums)-1:\n",
    "        return i+1\n",
    "    else:\n",
    "        return 0\n",
    "    \n",
    "\n",
    "def main():\n",
    "    print(missingNumber([4, 0, 3, 1]))\n",
    "    print(missingNumber([8, 3, 5, 2, 4, 6, 0, 1]))\n",
    "\n",
    "\n",
    "main()\n",
    "      "
   ]
  },
  {
   "cell_type": "code",
   "execution_count": null,
   "metadata": {},
   "outputs": [],
   "source": []
  }
 ],
 "metadata": {
  "kernelspec": {
   "display_name": "Python 3",
   "language": "python",
   "name": "python3"
  },
  "language_info": {
   "codemirror_mode": {
    "name": "ipython",
    "version": 3
   },
   "file_extension": ".py",
   "mimetype": "text/x-python",
   "name": "python",
   "nbconvert_exporter": "python",
   "pygments_lexer": "ipython3",
   "version": "3.8.5"
  }
 },
 "nbformat": 4,
 "nbformat_minor": 4
}
