{
 "cells": [
  {
   "cell_type": "code",
   "execution_count": null,
   "metadata": {},
   "outputs": [],
   "source": [
    "'''\n",
    "1304. Find N Unique Integers Sum up to Zero\n",
    "Given an integer n, return any array containing n unique integers such that they add up to 0.\n",
    "'''\n",
    "\n",
    "class Solution:\n",
    "    def sumZero(self, n: int) -> List[int]:\n",
    "        \n",
    "        if n%2 == 0:\n",
    "            \n",
    "            first = n-1\n",
    "            \n",
    "            return list(range(-first, first+1, 2))\n",
    "        \n",
    "        else:\n",
    "            \n",
    "            first = n//2\n",
    "            \n",
    "            return list(range(-first, first+1, 1))\n",
    "        \n",
    "        "
   ]
  }
 ],
 "metadata": {
  "kernelspec": {
   "display_name": "Python 3",
   "language": "python",
   "name": "python3"
  },
  "language_info": {
   "codemirror_mode": {
    "name": "ipython",
    "version": 3
   },
   "file_extension": ".py",
   "mimetype": "text/x-python",
   "name": "python",
   "nbconvert_exporter": "python",
   "pygments_lexer": "ipython3",
   "version": "3.8.5"
  }
 },
 "nbformat": 4,
 "nbformat_minor": 4
}
