{
 "cells": [
  {
   "cell_type": "code",
   "execution_count": null,
   "metadata": {},
   "outputs": [],
   "source": [
    "'''\n",
    "1436. Destination City\n",
    "You are given the array paths, where paths[i] = [cityAi, cityBi] means\n",
    "there exists a direct path going from cityAi to cityBi. Return the destination city,\n",
    "that is, the city without any path outgoing to another city.\n",
    "\n",
    "It is guaranteed that the graph of paths forms a line without any loop, therefore, \n",
    "there will be exactly one destination city.\n",
    "'''\n",
    "\n",
    "class Solution:\n",
    "    def destCity(self, paths: List[List[str]]) -> str:\n",
    "        sources = []\n",
    "        destinations = []\n",
    "        \n",
    "        for source, destination in paths:\n",
    "            sources.append(source)\n",
    "            destinations.append(destination)\n",
    "            \n",
    "        for val in destinations:\n",
    "            \n",
    "            if val not in sources:\n",
    "                return val\n",
    "            \n",
    "        return \"\"\n",
    "            \n",
    "        "
   ]
  }
 ],
 "metadata": {
  "kernelspec": {
   "display_name": "Python 3",
   "language": "python",
   "name": "python3"
  },
  "language_info": {
   "codemirror_mode": {
    "name": "ipython",
    "version": 3
   },
   "file_extension": ".py",
   "mimetype": "text/x-python",
   "name": "python",
   "nbconvert_exporter": "python",
   "pygments_lexer": "ipython3",
   "version": "3.8.5"
  }
 },
 "nbformat": 4,
 "nbformat_minor": 4
}
