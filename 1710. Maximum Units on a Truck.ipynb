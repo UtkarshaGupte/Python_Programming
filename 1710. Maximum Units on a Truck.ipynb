{
 "cells": [
  {
   "cell_type": "code",
   "execution_count": null,
   "metadata": {},
   "outputs": [],
   "source": [
    "'''\n",
    "1710. Maximum Units on a Truck\n",
    "You are assigned to put some amount of boxes onto one truck. You are given a 2D array boxTypes, \n",
    "where boxTypes[i] = [numberOfBoxesi, numberOfUnitsPerBoxi]:\n",
    "\n",
    "numberOfBoxesi is the number of boxes of type i.\n",
    "numberOfUnitsPerBoxi is the number of units in each box of the type i.\n",
    "You are also given an integer truckSize, which is the maximum number of boxes that can be put on the truck. \n",
    "You can choose any boxes to put on the truck as long as the number of boxes does not exceed truckSize.\n",
    "\n",
    "Return the maximum total number of units that can be put on the truck.\n",
    "'''\n",
    "\n",
    "class Solution:\n",
    "    def maximumUnits(self, boxTypes: List[List[int]], truckSize: int) -> int:\n",
    "        \n",
    "        #Sorting the list in descending order based on number of units\n",
    "        #To maximise the total number of units\n",
    "        boxTypes.sort(key = lambda i:-i[1])\n",
    "        \n",
    "        CurrSize = 0\n",
    "        \n",
    "        i=0\n",
    "        while truckSize>0 and i < len(boxTypes):\n",
    "            if boxTypes[i][0] < truckSize:\n",
    "                CurrSize += (boxTypes[i][0] * boxTypes[i][1])\n",
    "                truckSize -= boxTypes[i][0]\n",
    "            else:                 \n",
    "                CurrSize += (truckSize * boxTypes[i][1])\n",
    "                break\n",
    "                \n",
    "            i += 1\n",
    "                \n",
    "        return CurrSize\n",
    "            \n",
    "            "
   ]
  }
 ],
 "metadata": {
  "kernelspec": {
   "display_name": "Python 3",
   "language": "python",
   "name": "python3"
  },
  "language_info": {
   "codemirror_mode": {
    "name": "ipython",
    "version": 3
   },
   "file_extension": ".py",
   "mimetype": "text/x-python",
   "name": "python",
   "nbconvert_exporter": "python",
   "pygments_lexer": "ipython3",
   "version": "3.8.5"
  }
 },
 "nbformat": 4,
 "nbformat_minor": 4
}
