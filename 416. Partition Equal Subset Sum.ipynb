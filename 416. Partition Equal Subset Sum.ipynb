{
 "cells": [
  {
   "cell_type": "code",
   "execution_count": null,
   "metadata": {},
   "outputs": [],
   "source": [
    "'''\n",
    "416. Partition Equal Subset Sum\n",
    "Given a non-empty array nums containing only positive integers, \n",
    "find if the array can be partitioned into two subsets such that the sum of elements in both subsets is equal.\n",
    "'''\n",
    "\n",
    "class Solution:\n",
    "    def canPartition(self, nums: List[int]) -> bool:\n",
    "        \n",
    "        #if the sum of array nums is odd then it cannot be partitioned \n",
    "        if sum(nums)%2 !=0:\n",
    "            return False\n",
    "        \n",
    "        #Since sum of elements in both subarrays is equal\n",
    "        target = sum(nums)//2\n",
    "        \n",
    "        dp = set()\n",
    "        dp.add(0)\n",
    "        \n",
    "        for i in range(len(nums)):\n",
    "            \n",
    "            tempdp = dp.copy()\n",
    "            \n",
    "            for val in dp:\n",
    "                \n",
    "                if val == target:\n",
    "                    return True\n",
    "                \n",
    "                tempdp.add(val + nums[i])\n",
    "                \n",
    "            dp = tempdp\n",
    "            \n",
    "        return False\n"
   ]
  }
 ],
 "metadata": {
  "kernelspec": {
   "display_name": "Python 3",
   "language": "python",
   "name": "python3"
  },
  "language_info": {
   "codemirror_mode": {
    "name": "ipython",
    "version": 3
   },
   "file_extension": ".py",
   "mimetype": "text/x-python",
   "name": "python",
   "nbconvert_exporter": "python",
   "pygments_lexer": "ipython3",
   "version": "3.8.5"
  }
 },
 "nbformat": 4,
 "nbformat_minor": 4
}
