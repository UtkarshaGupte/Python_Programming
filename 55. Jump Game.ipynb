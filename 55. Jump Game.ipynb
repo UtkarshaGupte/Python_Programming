{
 "cells": [
  {
   "cell_type": "code",
   "execution_count": null,
   "id": "5b59c856",
   "metadata": {},
   "outputs": [],
   "source": [
    "'''\n",
    "55. Jump Game\n",
    "You are given an integer array nums. You are initially positioned at the array's first index, \n",
    "and each element in the array represents your maximum jump length at that position.\n",
    "\n",
    "Return true if you can reach the last index, or false otherwise.\n",
    "\n",
    "Example 1:\n",
    "Input: nums = [2,3,1,1,4]\n",
    "Output: true\n",
    "Explanation: Jump 1 step from index 0 to 1, then 3 steps to the last index.\n",
    "\n",
    "Example 2:\n",
    "Input: nums = [3,2,1,0,4]\n",
    "Output: false\n",
    "Explanation: You will always arrive at index 3 no matter what. Its maximum jump length is 0, \n",
    "which makes it impossible to reach the last index.\n",
    "\n",
    "Time/Space Complexity:\n",
    "\n",
    "Time - O(N)\n",
    "\n",
    "Space - O(1)\n",
    "'''\n",
    "\n",
    "class Solution:\n",
    "    def canJump(self, nums: List[int]) -> bool:\n",
    "        \n",
    "        ptr, currIndex = len(nums)-1, len(nums)-2 \n",
    "        \n",
    "        while currIndex >=0:\n",
    "            \n",
    "            diff = ptr - currIndex\n",
    "            \n",
    "            if nums[currIndex] >= diff:\n",
    "                ptr = currIndex\n",
    "                \n",
    "            currIndex -= 1\n",
    "            \n",
    "        if ptr != 0:\n",
    "            return False\n",
    "        else:\n",
    "            return True\n",
    "            \n",
    "           \n"
   ]
  }
 ],
 "metadata": {
  "kernelspec": {
   "display_name": "Python 3 (ipykernel)",
   "language": "python",
   "name": "python3"
  },
  "language_info": {
   "codemirror_mode": {
    "name": "ipython",
    "version": 3
   },
   "file_extension": ".py",
   "mimetype": "text/x-python",
   "name": "python",
   "nbconvert_exporter": "python",
   "pygments_lexer": "ipython3",
   "version": "3.8.10"
  }
 },
 "nbformat": 4,
 "nbformat_minor": 5
}
