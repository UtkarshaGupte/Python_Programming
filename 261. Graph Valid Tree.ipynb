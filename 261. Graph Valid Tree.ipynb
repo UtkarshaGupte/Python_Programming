{
 "cells": [
  {
   "cell_type": "code",
   "execution_count": null,
   "metadata": {},
   "outputs": [],
   "source": [
    "'''\n",
    "261. Graph Valid Tree\n",
    "You have a graph of n nodes labeled from 0 to n - 1. \n",
    "You are given an integer n and a list of edges where edges[i] = [ai, bi] indicates that \n",
    "there is an undirected edge between nodes ai and bi in the graph.\n",
    "\n",
    "Return true if the edges of the given graph make up a valid tree, and false otherwise.\n",
    "\n",
    "Example 1:\n",
    "Input: n = 5, edges = [[0,1],[0,2],[0,3],[1,4]]\n",
    "Output: true\n",
    "\n",
    "Example 2:\n",
    "Input: n = 5, edges = [[0,1],[1,2],[2,3],[1,3],[1,4]]\n",
    "Output: false\n",
    "'''\n",
    "\n",
    "class Solution:\n",
    "    def validTree(self, n: int, edges: List[List[int]]) -> bool:\n",
    "        \n",
    "        neighbor_dict = {node:[] for node in range(n)}\n",
    "        \n",
    "        for a,b in edges:\n",
    "            neighbor_dict[a].append(b)\n",
    "            neighbor_dict[b].append(a)\n",
    "        \n",
    "        isVisited = set()\n",
    "        prev = -1\n",
    "        \n",
    "        def dfs(node,prev):\n",
    "            \n",
    "            if node in isVisited:\n",
    "                return False\n",
    "            \n",
    "            isVisited.add(node)\n",
    "            \n",
    "            for neighbour in neighbor_dict[node]:\n",
    "                if neighbour != prev:\n",
    "                    \n",
    "                    if not dfs(neighbour,node):\n",
    "                        return False\n",
    "                   \n",
    "            return True      \n",
    "                   \n",
    "        return dfs(0,prev) and len(isVisited)==n\n",
    "    \n",
    "    "
   ]
  }
 ],
 "metadata": {
  "kernelspec": {
   "display_name": "Python 3",
   "language": "python",
   "name": "python3"
  },
  "language_info": {
   "codemirror_mode": {
    "name": "ipython",
    "version": 3
   },
   "file_extension": ".py",
   "mimetype": "text/x-python",
   "name": "python",
   "nbconvert_exporter": "python",
   "pygments_lexer": "ipython3",
   "version": "3.8.5"
  }
 },
 "nbformat": 4,
 "nbformat_minor": 4
}
