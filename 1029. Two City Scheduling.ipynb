{
 "cells": [
  {
   "cell_type": "code",
   "execution_count": null,
   "metadata": {},
   "outputs": [],
   "source": [
    "'''\n",
    "1029. Two City Scheduling\n",
    "A company is planning to interview 2n people. Given the array costs where costs[i] = [aCosti, bCosti], \n",
    "the cost of flying the ith person to city a is aCosti, and the cost of flying the ith person to city b is bCosti.\n",
    "\n",
    "Return the minimum cost to fly every person to a city such that exactly n people arrive in each city.\n",
    "'''\n",
    "\n",
    "class Solution:\n",
    "    def twoCitySchedCost(self, costs: List[List[int]]) -> int:\n",
    "        \n",
    "        diffs = []\n",
    "        \n",
    "        for costA, costB in costs:\n",
    "            diffs.append([costA - costB, costA, costB])\n",
    "            \n",
    "            \n",
    "        #diffs has how flying to A cost more than B\n",
    "        diffs.sort()\n",
    "        \n",
    "        totalCost = 0\n",
    "     \n",
    "        for i in range(len(diffs)):\n",
    "            \n",
    "            if i < len(diffs)//2:\n",
    "                \n",
    "                totalCost += diffs[i][1]  #Fly to City A\n",
    "                \n",
    "            else:\n",
    "                \n",
    "                totalCost += diffs[i][2]  #Fly to City B\n",
    "                \n",
    "                \n",
    "        return totalCost\n",
    "            \n",
    "        \n",
    "        "
   ]
  }
 ],
 "metadata": {
  "kernelspec": {
   "display_name": "Python 3",
   "language": "python",
   "name": "python3"
  },
  "language_info": {
   "codemirror_mode": {
    "name": "ipython",
    "version": 3
   },
   "file_extension": ".py",
   "mimetype": "text/x-python",
   "name": "python",
   "nbconvert_exporter": "python",
   "pygments_lexer": "ipython3",
   "version": "3.8.5"
  }
 },
 "nbformat": 4,
 "nbformat_minor": 4
}
