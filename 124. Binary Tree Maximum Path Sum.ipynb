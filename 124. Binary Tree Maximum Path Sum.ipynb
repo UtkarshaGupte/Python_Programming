{
 "cells": [
  {
   "cell_type": "code",
   "execution_count": null,
   "metadata": {},
   "outputs": [],
   "source": [
    "'''\n",
    "124. Binary Tree Maximum Path Sum\n",
    "A path in a binary tree is a sequence of nodes where each pair of adjacent nodes in the sequence has an \n",
    "edge connecting them. A node can only appear in the sequence at most once. Note that the path does not need to pass through\n",
    "the root.\n",
    "\n",
    "The path sum of a path is the sum of the node's values in the path.\n",
    "\n",
    "Given the root of a binary tree, return the maximum path sum of any path.\n",
    "'''\n",
    "\n",
    "# Definition for a binary tree node.\n",
    "# class TreeNode:\n",
    "#     def __init__(self, val=0, left=None, right=None):\n",
    "#         self.val = val\n",
    "#         self.left = left\n",
    "#         self.right = right\n",
    "class Solution:\n",
    "    def maxPathSum(self, root: Optional[TreeNode]) -> int:\n",
    "        output = [root.val]\n",
    "        \n",
    "        def path_sum(root):\n",
    "            \n",
    "            if not root:\n",
    "                return 0\n",
    "            \n",
    "            left_max = path_sum(root.left)\n",
    "            right_max = path_sum(root.right)\n",
    "            \n",
    "            left_max = max(left_max, 0)\n",
    "            right_max = max(right_max, 0)\n",
    "            \n",
    "            output[0] = max(output[0], root.val + left_max + right_max)\n",
    "            \n",
    "            return root.val + max(left_max , right_max)\n",
    "        \n",
    "        path_sum(root)\n",
    "        \n",
    "        return output[0]"
   ]
  }
 ],
 "metadata": {
  "kernelspec": {
   "display_name": "Python 3",
   "language": "python",
   "name": "python3"
  },
  "language_info": {
   "codemirror_mode": {
    "name": "ipython",
    "version": 3
   },
   "file_extension": ".py",
   "mimetype": "text/x-python",
   "name": "python",
   "nbconvert_exporter": "python",
   "pygments_lexer": "ipython3",
   "version": "3.8.5"
  }
 },
 "nbformat": 4,
 "nbformat_minor": 4
}
