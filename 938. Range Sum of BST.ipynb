{
 "cells": [
  {
   "cell_type": "code",
   "execution_count": null,
   "metadata": {},
   "outputs": [],
   "source": [
    "'''\n",
    "938. Range Sum of BST\n",
    "Given the root node of a binary search tree and two integers low and high, \n",
    "return the sum of values of all nodes with a value in the inclusive range [low, high].\n",
    "'''\n",
    "\n",
    "# Definition for a binary tree node.\n",
    "# class TreeNode:\n",
    "#     def __init__(self, val=0, left=None, right=None):\n",
    "#         self.val = val\n",
    "#         self.left = left\n",
    "#         self.right = right\n",
    "class Solution:\n",
    "    def rangeSumBST(self, root: Optional[TreeNode], low: int, high: int) -> int:\n",
    "           \n",
    "        \n",
    "        def get_node_value(node):\n",
    "            \n",
    "            if node:\n",
    "                if low <= node.val <= high:\n",
    "                    self.sum_nodes += node.val\n",
    "\n",
    "                if low < node.val:\n",
    "                    get_node_value(node.left)\n",
    "\n",
    "                if node.val < high:\n",
    "                    get_node_value(node.right)\n",
    "                \n",
    "        self.sum_nodes = 0\n",
    "        get_node_value(root)\n",
    "        \n",
    "        return self.sum_nodes\n",
    "                "
   ]
  }
 ],
 "metadata": {
  "kernelspec": {
   "display_name": "Python 3",
   "language": "python",
   "name": "python3"
  },
  "language_info": {
   "codemirror_mode": {
    "name": "ipython",
    "version": 3
   },
   "file_extension": ".py",
   "mimetype": "text/x-python",
   "name": "python",
   "nbconvert_exporter": "python",
   "pygments_lexer": "ipython3",
   "version": "3.8.5"
  }
 },
 "nbformat": 4,
 "nbformat_minor": 4
}
