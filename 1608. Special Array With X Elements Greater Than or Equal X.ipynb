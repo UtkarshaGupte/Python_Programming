{
 "cells": [
  {
   "cell_type": "code",
   "execution_count": null,
   "metadata": {},
   "outputs": [],
   "source": [
    "'''\n",
    "1608. Special Array With X Elements Greater Than or Equal X\n",
    "You are given an array nums of non-negative integers. \n",
    "nums is considered special if there exists a number x such that there are exactly x numbers in nums \n",
    "that are greater than or equal to x.\n",
    "\n",
    "Notice that x does not have to be an element in nums.\n",
    "\n",
    "Return x if the array is special, otherwise, return -1. \n",
    "It can be proven that if nums is special, the value for x is unique.\n",
    "\n",
    "\n",
    "'''\n",
    "\n",
    "class Solution:\n",
    "    def specialArray(self, nums: List[int]) -> int:\n",
    "        nums.sort()\n",
    "        \n",
    "        n = len(nums)\n",
    "\n",
    "        if n <= nums[0]:\n",
    "            return n\n",
    "        \n",
    "        for i in range(1,n):\n",
    "            \n",
    "            count = n-i  \n",
    "            \n",
    "            if nums[i]>=(count) and (count)>nums[i-1]:\n",
    "                return count \n",
    "            \n",
    "        return -1\n",
    "    \n",
    "    "
   ]
  }
 ],
 "metadata": {
  "kernelspec": {
   "display_name": "Python 3",
   "language": "python",
   "name": "python3"
  },
  "language_info": {
   "codemirror_mode": {
    "name": "ipython",
    "version": 3
   },
   "file_extension": ".py",
   "mimetype": "text/x-python",
   "name": "python",
   "nbconvert_exporter": "python",
   "pygments_lexer": "ipython3",
   "version": "3.8.5"
  }
 },
 "nbformat": 4,
 "nbformat_minor": 4
}
