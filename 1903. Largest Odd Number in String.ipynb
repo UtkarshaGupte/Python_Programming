{
 "cells": [
  {
   "cell_type": "code",
   "execution_count": null,
   "metadata": {},
   "outputs": [],
   "source": [
    "'''\n",
    "1903. Largest Odd Number in String\n",
    "You are given a string num, representing a large integer. \n",
    "Return the largest-valued odd integer (as a string) that is a non-empty substring of num, or an empty string \"\" \n",
    "if no odd integer exists.\n",
    "\n",
    "A substring is a contiguous sequence of characters within a string.\n",
    "'''\n",
    "\n",
    "class Solution:\n",
    "    def largestOddNumber(self, num: str) -> str:\n",
    "        \n",
    "        for i in range(len(num)-1,-1,-1):\n",
    "            \n",
    "            if int(num[i]) in [1,3,5,7,9]:\n",
    "                return num[:i+1]\n",
    "            \n",
    "        return ''"
   ]
  }
 ],
 "metadata": {
  "kernelspec": {
   "display_name": "Python 3",
   "language": "python",
   "name": "python3"
  },
  "language_info": {
   "codemirror_mode": {
    "name": "ipython",
    "version": 3
   },
   "file_extension": ".py",
   "mimetype": "text/x-python",
   "name": "python",
   "nbconvert_exporter": "python",
   "pygments_lexer": "ipython3",
   "version": "3.8.5"
  }
 },
 "nbformat": 4,
 "nbformat_minor": 4
}
