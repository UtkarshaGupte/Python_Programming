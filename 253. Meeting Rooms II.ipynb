{
 "cells": [
  {
   "cell_type": "code",
   "execution_count": 1,
   "metadata": {},
   "outputs": [
    {
     "name": "stdout",
     "output_type": "stream",
     "text": [
      "Minimum meeting rooms required: 2\n",
      "Minimum meeting rooms required: 2\n",
      "Minimum meeting rooms required: 1\n",
      "Minimum meeting rooms required: 2\n",
      "Minimum meeting rooms required: 2\n"
     ]
    }
   ],
   "source": [
    "'''\n",
    "253. Meeting Rooms II\n",
    "Given an array of meeting time intervals intervals\n",
    "where intervals[i] = [starti, endi], return the minimum number of conference rooms required.\n",
    "'''\n",
    "\n",
    "\n",
    "\n",
    "def minMeetingRooms(intervals):\n",
    "\n",
    "    start = sorted([i[0] for i in intervals]) # all start times sorted in ascending order\n",
    "    end = sorted([i[1] for i in intervals])   # all end times sorted in ascending order\n",
    "\n",
    "    result, count = 0, 0\n",
    "\n",
    "    s, e = 0, 0  #Placing pointers at the start of start and end arrays\n",
    "\n",
    "    while s < len(start):\n",
    "\n",
    "        if start[s] < end[e]:\n",
    "            s += 1\n",
    "            count += 1\n",
    "        else:\n",
    "            count -= 1\n",
    "            e += 1\n",
    "\n",
    "        result = max(result, count)\n",
    "\n",
    "\n",
    "    return result\n",
    "\n",
    "\n",
    "def main():\n",
    "    print(\"Minimum meeting rooms required: \" + str(minMeetingRooms(\n",
    "    [(0, 30), (5, 10), (15, 20)])))\n",
    "    print(\"Minimum meeting rooms required: \" +\n",
    "        str(minMeetingRooms([(1, 4), (2, 5), (7, 9)])))\n",
    "    print(\"Minimum meeting rooms required: \" +\n",
    "        str(minMeetingRooms([(6, 7), (2, 4), (8, 12)])))\n",
    "    print(\"Minimum meeting rooms required: \" +\n",
    "        str(minMeetingRooms([(1, 4), (2, 3), (3, 6)])))\n",
    "    print(\"Minimum meeting rooms required: \" + str(minMeetingRooms(\n",
    "    [(4, 5), (2, 3), (2, 4), (3, 5)])))\n",
    "\n",
    "\n",
    "main()\n"
   ]
  },
  {
   "cell_type": "code",
   "execution_count": null,
   "metadata": {},
   "outputs": [],
   "source": []
  }
 ],
 "metadata": {
  "kernelspec": {
   "display_name": "Python 3",
   "language": "python",
   "name": "python3"
  },
  "language_info": {
   "codemirror_mode": {
    "name": "ipython",
    "version": 3
   },
   "file_extension": ".py",
   "mimetype": "text/x-python",
   "name": "python",
   "nbconvert_exporter": "python",
   "pygments_lexer": "ipython3",
   "version": "3.8.5"
  }
 },
 "nbformat": 4,
 "nbformat_minor": 4
}
