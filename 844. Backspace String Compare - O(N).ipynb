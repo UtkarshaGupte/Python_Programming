{
 "cells": [
  {
   "cell_type": "code",
   "execution_count": 2,
   "metadata": {},
   "outputs": [
    {
     "name": "stdout",
     "output_type": "stream",
     "text": [
      "True\n",
      "False\n",
      "True\n",
      "True\n"
     ]
    }
   ],
   "source": [
    "'''\n",
    "844. Backspace String Compare - O(N)\n",
    "Given two strings s and t, return true if they are equal when both are typed into empty text editors.\n",
    "'#' means a backspace character.\n",
    "\n",
    "Note that after backspacing an empty text, the text will continue empty.\n",
    "'''\n",
    "\n",
    "def backspaceCompare(s,t):\n",
    "    def check_string(s):\n",
    "        res=[]\n",
    "\n",
    "        i=0\n",
    "        while i<len(s):\n",
    "            if s[i] != \"#\":\n",
    "                res.append(s[i])\n",
    "            elif res:\n",
    "                res.pop()\n",
    "\n",
    "            i += 1\n",
    "\n",
    "        return \"\".join(res)\n",
    "    return check_string(s) == check_string(t)\n",
    "\n",
    "def main():\n",
    "    print(backspaceCompare(\"xy#z\", \"xzz#\"))\n",
    "    print(backspaceCompare(\"xy#z\", \"xyz#\"))\n",
    "    print(backspaceCompare(\"xp#\", \"xyz##\"))\n",
    "    print(backspaceCompare(\"xywrrmp\", \"xywrrmu#p\"))\n",
    "\n",
    "\n",
    "main()\n",
    "\n",
    "\n"
   ]
  },
  {
   "cell_type": "code",
   "execution_count": null,
   "metadata": {},
   "outputs": [],
   "source": []
  }
 ],
 "metadata": {
  "kernelspec": {
   "display_name": "Python 3",
   "language": "python",
   "name": "python3"
  },
  "language_info": {
   "codemirror_mode": {
    "name": "ipython",
    "version": 3
   },
   "file_extension": ".py",
   "mimetype": "text/x-python",
   "name": "python",
   "nbconvert_exporter": "python",
   "pygments_lexer": "ipython3",
   "version": "3.8.5"
  }
 },
 "nbformat": 4,
 "nbformat_minor": 4
}
