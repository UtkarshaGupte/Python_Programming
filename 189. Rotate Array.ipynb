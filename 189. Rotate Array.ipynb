{
 "cells": [
  {
   "cell_type": "code",
   "execution_count": null,
   "metadata": {},
   "outputs": [],
   "source": [
    "'''\n",
    "189. Rotate Array\n",
    "Given an array, rotate the array to the right by k steps, where k is non-negative.\n",
    "\n",
    "'''\n",
    "\n",
    "class Solution:\n",
    "    def rotate(self, nums: List[int], k: int) -> None:\n",
    "        \"\"\"\n",
    "        Do not return anything, modify nums in-place instead.\n",
    "        \"\"\"\n",
    "        n=len(nums)\n",
    "        k = k%len(nums)\n",
    "        \n",
    "        #Reverse the entire array\n",
    "        self.reverse_array(nums, 0, n-1)\n",
    "        \n",
    "        #Reverse the first k element of the array\n",
    "        self.reverse_array(nums, 0, k-1)\n",
    "        \n",
    "        #Reverse the remaining elements of the array\n",
    "        self.reverse_array(nums, k, n-1)\n",
    "        \n",
    "        \n",
    "    def reverse_array(self, arr, start, end):\n",
    "        \n",
    "        while start <= end:\n",
    "            arr[start], arr[end] = arr[end], arr[start]\n",
    "        \n",
    "            start += 1\n",
    "            end -= 1\n",
    "   "
   ]
  }
 ],
 "metadata": {
  "kernelspec": {
   "display_name": "Python 3",
   "language": "python",
   "name": "python3"
  },
  "language_info": {
   "codemirror_mode": {
    "name": "ipython",
    "version": 3
   },
   "file_extension": ".py",
   "mimetype": "text/x-python",
   "name": "python",
   "nbconvert_exporter": "python",
   "pygments_lexer": "ipython3",
   "version": "3.8.5"
  }
 },
 "nbformat": 4,
 "nbformat_minor": 4
}
