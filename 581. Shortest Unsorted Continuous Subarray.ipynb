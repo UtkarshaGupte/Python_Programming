{
 "cells": [
  {
   "cell_type": "code",
   "execution_count": 2,
   "metadata": {},
   "outputs": [
    {
     "name": "stdout",
     "output_type": "stream",
     "text": [
      "5\n",
      "5\n",
      "0\n",
      "3\n"
     ]
    }
   ],
   "source": [
    "'''\n",
    "581. Shortest Unsorted Continuous Subarray\n",
    "Given an integer array nums, you need to find one continuous subarray that \n",
    "if you only sort this subarray in ascending order, then the whole array will be sorted in ascending order.\n",
    "\n",
    "Return the shortest such subarray and output its length.\n",
    "'''\n",
    "\n",
    "import math\n",
    "def findUnsortedSubarray(nums):\n",
    "    left ,right = 0, len(nums) - 1 #left and right pointers\n",
    "\n",
    "    #find the element which is smaller than the previous element from start\n",
    "    for i in range(len(nums)-1):\n",
    "        if nums[i] <= nums[i+1]:\n",
    "            left += 1\n",
    "        else:\n",
    "            break\n",
    "\n",
    "    if left == right:\n",
    "        return 0\n",
    "\n",
    "    #find the element which is greater than the next element starting from the end\n",
    "    for j in range(right,0,-1):\n",
    "        if nums[j] >= nums[j-1]:\n",
    "            right -= 1\n",
    "        else: \n",
    "            break\n",
    "\n",
    "    max_num , min_num= - math.inf, math.inf\n",
    "\n",
    "    #find the smallest and the largest element in the subarray\n",
    "    for k in range(left,right+1):\n",
    "        max_num = max(max_num,nums[k])\n",
    "        min_num = min(min_num,nums[k])\n",
    "\n",
    "    #find any element greater than the smallest element from 0 to left index\n",
    "    for l in range(0,left):\n",
    "        if nums[l]>min_num:\n",
    "            left = l\n",
    "            break\n",
    "    #find any element smaller than the greatest element from end to right+1 index                     \n",
    "    for j in range(len(nums)-1,right,-1):\n",
    "        if nums[j]<max_num:\n",
    "            right = j\n",
    "            break\n",
    "\n",
    "    return right - left + 1\n",
    "\n",
    "def main():\n",
    "    print(findUnsortedSubarray([1, 2, 5, 3, 7, 10, 9, 12]))\n",
    "    print(findUnsortedSubarray([1, 3, 2, 0, -1, 7, 10]))\n",
    "    print(findUnsortedSubarray([1, 2, 3]))\n",
    "    print(findUnsortedSubarray([3, 2, 1]))\n",
    "\n",
    "\n",
    "main()\n",
    "\n",
    "\n"
   ]
  },
  {
   "cell_type": "code",
   "execution_count": null,
   "metadata": {},
   "outputs": [],
   "source": []
  }
 ],
 "metadata": {
  "kernelspec": {
   "display_name": "Python 3",
   "language": "python",
   "name": "python3"
  },
  "language_info": {
   "codemirror_mode": {
    "name": "ipython",
    "version": 3
   },
   "file_extension": ".py",
   "mimetype": "text/x-python",
   "name": "python",
   "nbconvert_exporter": "python",
   "pygments_lexer": "ipython3",
   "version": "3.8.5"
  }
 },
 "nbformat": 4,
 "nbformat_minor": 4
}
