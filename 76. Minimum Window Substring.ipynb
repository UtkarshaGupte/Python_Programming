{
 "cells": [
  {
   "cell_type": "code",
   "execution_count": 1,
   "metadata": {},
   "outputs": [
    {
     "name": "stdout",
     "output_type": "stream",
     "text": [
      "pq\n",
      "bca\n"
     ]
    }
   ],
   "source": [
    "'''\n",
    "76. Minimum Window Substring\n",
    "Given two strings s and t of lengths m and n respectively, \n",
    "return the minimum window substring of s such that every character in t (including duplicates) is included in the window. \n",
    "If there is no such substring, return the empty string \"\".\n",
    "\n",
    "The testcases will be generated such that the answer is unique.\n",
    "\n",
    "A substring is a contiguous sequence of characters within the string.\n",
    "'''\n",
    "\n",
    "\n",
    "def minWindow(s, t):\n",
    "\n",
    "    #Creating a hashmap of the characters in the pattern and their respective count \n",
    "    char_freq ={}\n",
    "    for char in t:\n",
    "        char_freq[char] = char_freq.get(char,0) + 1\n",
    "\n",
    "    window_start , matched, substr_start  = 0, 0, 0\n",
    "    min_length = len(s)+1\n",
    "\n",
    "    for window_end in range(len(s)):\n",
    "\n",
    "        if s[window_end] in char_freq:\n",
    "            char_freq[s[window_end]] -= 1\n",
    "            if char_freq[s[window_end]] == 0:\n",
    "                matched += 1\n",
    "\n",
    "        while matched == len(char_freq):\n",
    "            if min_length > window_end - window_start + 1:\n",
    "                min_length = window_end - window_start + 1\n",
    "                substr_start = window_start\n",
    "\n",
    "            left_char = s[window_start]\n",
    "            window_start += 1\n",
    "\n",
    "            if left_char in char_freq:\n",
    "                if char_freq[left_char] == 0:\n",
    "                    matched -= 1\n",
    "                char_freq[left_char]  +=1\n",
    "\n",
    "    if min_length > len(s):\n",
    "        return \"\"\n",
    "\n",
    "    return s[substr_start:substr_start+min_length]\n",
    "\n",
    "\n",
    "def main():\n",
    "    print(minWindow(\"ppqp\", \"pq\"))\n",
    "    print(minWindow(\"abbcabc\", \"abc\"))\n",
    "\n",
    "\n",
    "main()         \n",
    "        "
   ]
  },
  {
   "cell_type": "code",
   "execution_count": null,
   "metadata": {},
   "outputs": [],
   "source": []
  }
 ],
 "metadata": {
  "kernelspec": {
   "display_name": "Python 3",
   "language": "python",
   "name": "python3"
  },
  "language_info": {
   "codemirror_mode": {
    "name": "ipython",
    "version": 3
   },
   "file_extension": ".py",
   "mimetype": "text/x-python",
   "name": "python",
   "nbconvert_exporter": "python",
   "pygments_lexer": "ipython3",
   "version": "3.8.5"
  }
 },
 "nbformat": 4,
 "nbformat_minor": 4
}
