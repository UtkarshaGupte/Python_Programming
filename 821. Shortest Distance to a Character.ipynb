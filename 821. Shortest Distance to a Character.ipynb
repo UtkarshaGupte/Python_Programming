{
 "cells": [
  {
   "cell_type": "code",
   "execution_count": null,
   "metadata": {},
   "outputs": [],
   "source": [
    "'''\n",
    "821. Shortest Distance to a Character\n",
    "Given a string s and a character c that occurs in s, \n",
    "return an array of integers answer where answer.length == s.length and answer[i] \n",
    "is the distance from index i to the closest occurrence of character c in s.\n",
    "\n",
    "The distance between two indices i and j is abs(i - j), where abs is the absolute value function.\n",
    "'''\n",
    "\n",
    "class Solution:\n",
    "    def shortestToChar(self, s: str, c: str) -> List[int]:\n",
    "        \n",
    "        prev = math.inf\n",
    "        ans = []\n",
    "        \n",
    "        #tracking distances in forward direction\n",
    "        for i, val in enumerate(s):\n",
    "            if val == c:\n",
    "                prev = i\n",
    "                \n",
    "            ans.append(abs(i-prev))\n",
    "            \n",
    "        prev = math.inf    \n",
    "        #tracking distances in backward direction\n",
    "        for i in range(len(s)-1, -1, -1):\n",
    "            if s[i]==c:\n",
    "                prev = i\n",
    "            ans[i] = min(abs(i-prev), ans[i])\n",
    "                \n",
    "        return ans\n",
    "                \n",
    "            \n",
    "            "
   ]
  }
 ],
 "metadata": {
  "kernelspec": {
   "display_name": "Python 3",
   "language": "python",
   "name": "python3"
  },
  "language_info": {
   "codemirror_mode": {
    "name": "ipython",
    "version": 3
   },
   "file_extension": ".py",
   "mimetype": "text/x-python",
   "name": "python",
   "nbconvert_exporter": "python",
   "pygments_lexer": "ipython3",
   "version": "3.8.5"
  }
 },
 "nbformat": 4,
 "nbformat_minor": 4
}
