{
 "cells": [
  {
   "cell_type": "code",
   "execution_count": null,
   "metadata": {},
   "outputs": [],
   "source": [
    "'''\n",
    "1763. Longest Nice Substring\n",
    "A string s is nice if, for every letter of the alphabet that s contains, \n",
    "it appears both in uppercase and lowercase. For example, \"abABB\" is nice because 'A' and 'a' appear, and 'B' and 'b' appear. However, \"abA\" is not because 'b' appears, but 'B' does not.\n",
    "\n",
    "Given a string s, return the longest substring of s that is nice. \n",
    "If there are multiple, return the substring of the earliest occurrence. If there are none, return an empty string.\n",
    "'''\n",
    "\n",
    "class Solution:\n",
    "    def longestNiceSubstring(self, s: str) -> str:\n",
    "        \n",
    "        if len(s) < 2:\n",
    "            return \"\"\n",
    "        \n",
    "        uniqueChars = set(s)\n",
    "        \n",
    "        for i, char in enumerate(s):\n",
    "            \n",
    "            #if both uppercase and lowercase does not exist\n",
    "            if char.swapcase() not in uniqueChars:\n",
    "                \n",
    "                #divide the string and check for substrings\n",
    "                subStringOne = s[:i]\n",
    "                subStringTwo = s[i+1:]\n",
    "                \n",
    "                longestOne = self.longestNiceSubstring(subStringOne)\n",
    "                longestTwo = self.longestNiceSubstring(subStringTwo)\n",
    "                \n",
    "                return max(longestOne, longestTwo , key = len)\n",
    "            \n",
    "        return s\n",
    "        "
   ]
  }
 ],
 "metadata": {
  "kernelspec": {
   "display_name": "Python 3",
   "language": "python",
   "name": "python3"
  },
  "language_info": {
   "codemirror_mode": {
    "name": "ipython",
    "version": 3
   },
   "file_extension": ".py",
   "mimetype": "text/x-python",
   "name": "python",
   "nbconvert_exporter": "python",
   "pygments_lexer": "ipython3",
   "version": "3.8.5"
  }
 },
 "nbformat": 4,
 "nbformat_minor": 4
}
