{
 "cells": [
  {
   "cell_type": "code",
   "execution_count": null,
   "metadata": {},
   "outputs": [],
   "source": [
    "'''\n",
    "441. Arranging Coins\n",
    "You have n coins and you want to build a staircase with these coins. \n",
    "The staircase consists of k rows where the ith row has exactly i coins. The last row of the staircase may be incomplete.\n",
    "\n",
    "Given the integer n, return the number of complete rows of the staircase you will build.\n",
    "'''\n",
    "\n",
    "class Solution:\n",
    "    def arrangeCoins(self, n: int) -> int:\n",
    "        left, right = 0 , n-1\n",
    "        \n",
    "        while left <= right:\n",
    "            \n",
    "            mid = left + (right-left)//2\n",
    "            \n",
    "            k = mid + 1\n",
    "            coins = (k *(k+1))//2\n",
    "            \n",
    "            if coins == n:\n",
    "                return k\n",
    "            elif coins > n:\n",
    "                right = mid -1\n",
    "            else:\n",
    "                left = mid + 1\n",
    "                \n",
    "        return right+1\n",
    "    \n",
    "    "
   ]
  }
 ],
 "metadata": {
  "kernelspec": {
   "display_name": "Python 3",
   "language": "python",
   "name": "python3"
  },
  "language_info": {
   "codemirror_mode": {
    "name": "ipython",
    "version": 3
   },
   "file_extension": ".py",
   "mimetype": "text/x-python",
   "name": "python",
   "nbconvert_exporter": "python",
   "pygments_lexer": "ipython3",
   "version": "3.8.5"
  }
 },
 "nbformat": 4,
 "nbformat_minor": 4
}
