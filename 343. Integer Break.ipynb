{
 "cells": [
  {
   "cell_type": "code",
   "execution_count": null,
   "id": "6dcb714b",
   "metadata": {},
   "outputs": [],
   "source": [
    "'''\n",
    "343. Integer Break\n",
    "Given an integer n, break it into the sum of k positive integers, where k >= 2, and maximize the product of those integers.\n",
    "\n",
    "Return the maximum product you can get.\n",
    "\n",
    "Example 1:\n",
    "Input: n = 2\n",
    "Output: 1\n",
    "Explanation: 2 = 1 + 1, 1 × 1 = 1.\n",
    "\n",
    "Example 2:\n",
    "Input: n = 10\n",
    "Output: 36\n",
    "Explanation: 10 = 3 + 3 + 4, 3 × 3 × 4 = 36.\n",
    "\n",
    "Time/Space Complexity:\n",
    "\n",
    "Time - O(N^2)\n",
    "\n",
    "Space - O(N)\n",
    "'''\n",
    "\n",
    "class Solution:\n",
    "    def integerBreak(self, n: int) -> int:\n",
    "        \n",
    "        dp = {1:1}\n",
    "        \n",
    "        for num in range(2, n+1):\n",
    "            \n",
    "            #because n needs to be broken down\n",
    "            dp[num] = 0 if num == n else num\n",
    "            \n",
    "            for i in range(1,num):\n",
    "                currProd = dp[i] * dp[num-i]\n",
    "                dp[num] = max(dp[num], currProd)        \n",
    "        \n",
    "        return dp[n]\n",
    "                \n",
    "        \n",
    "        \n",
    "        \n",
    "        "
   ]
  }
 ],
 "metadata": {
  "kernelspec": {
   "display_name": "Python 3 (ipykernel)",
   "language": "python",
   "name": "python3"
  },
  "language_info": {
   "codemirror_mode": {
    "name": "ipython",
    "version": 3
   },
   "file_extension": ".py",
   "mimetype": "text/x-python",
   "name": "python",
   "nbconvert_exporter": "python",
   "pygments_lexer": "ipython3",
   "version": "3.8.10"
  }
 },
 "nbformat": 4,
 "nbformat_minor": 5
}
