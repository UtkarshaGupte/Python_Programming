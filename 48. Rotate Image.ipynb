{
 "cells": [
  {
   "cell_type": "code",
   "execution_count": null,
   "metadata": {},
   "outputs": [],
   "source": [
    "'''\n",
    "48. Rotate Image\n",
    "\n",
    "You are given an n x n 2D matrix representing an image, rotate the image by 90 degrees (clockwise).\n",
    "\n",
    "You have to rotate the image in-place, which means you have to modify the input 2D matrix directly. \n",
    "DO NOT allocate another 2D matrix and do the rotation.\n",
    "\n",
    "Example 1:\n",
    "Input: matrix = [[1,2,3],[4,5,6],[7,8,9]]\n",
    "Output: [[7,4,1],[8,5,2],[9,6,3]]\n",
    "\n",
    "Example 2:\n",
    "Input: matrix = [[5,1,9,11],[2,4,8,10],[13,3,6,7],[15,14,12,16]]\n",
    "Output: [[15,13,2,5],[14,3,4,1],[12,6,8,9],[16,7,10,11]]\n",
    "\n",
    "Time/Space Complexity:\n",
    "\n",
    "Time - O(n*n)\n",
    "\n",
    "Space - O(1)\n",
    "'''\n",
    "\n",
    "class Solution:\n",
    "    def rotate(self, matrix: List[List[int]]) -> None:\n",
    "        \"\"\"\n",
    "        Do not return anything, modify matrix in-place instead.\n",
    "        \"\"\"\n",
    "        left, right = 0, len(matrix)-1\n",
    "        \n",
    "        while left < right:\n",
    "            \n",
    "            for i in range(right-left):\n",
    "                \n",
    "                #Because it is a n*n matrix\n",
    "                top = left\n",
    "                bottom = right\n",
    "                            \n",
    "                topLeft = matrix[top][left + i]\n",
    "                \n",
    "                #Move Bottom left to top left\n",
    "                matrix[top][left + i] = matrix[bottom - i][left]\n",
    "                \n",
    "                #Move Bottom right to bottom left\n",
    "                matrix[bottom - i][left] = matrix[bottom][right - i] \n",
    "                \n",
    "                #Move top right to bottom right\n",
    "                matrix[bottom][right - i] = matrix[top + i][right]\n",
    "                \n",
    "                #Move top left to top right\n",
    "                matrix[top + i][right] = topLeft\n",
    "                \n",
    "            left += 1\n",
    "            right -= 1\n",
    "            \n",
    "            "
   ]
  }
 ],
 "metadata": {
  "kernelspec": {
   "display_name": "Python 3",
   "language": "python",
   "name": "python3"
  },
  "language_info": {
   "codemirror_mode": {
    "name": "ipython",
    "version": 3
   },
   "file_extension": ".py",
   "mimetype": "text/x-python",
   "name": "python",
   "nbconvert_exporter": "python",
   "pygments_lexer": "ipython3",
   "version": "3.8.5"
  }
 },
 "nbformat": 4,
 "nbformat_minor": 4
}
