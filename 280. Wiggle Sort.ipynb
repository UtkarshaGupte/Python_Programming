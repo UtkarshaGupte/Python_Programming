{
 "cells": [
  {
   "cell_type": "code",
   "execution_count": null,
   "metadata": {},
   "outputs": [],
   "source": [
    "'''\n",
    "280. Wiggle Sort\n",
    "Given an integer array nums, reorder it such that nums[0] <= nums[1] >= nums[2] <= nums[3]....\n",
    "\n",
    "You may assume the input array always has a valid answer.\n",
    "\n",
    "\n",
    "'''\n",
    "\n",
    "class Solution:\n",
    "    def wiggleSort(self, nums: List[int]) -> None:\n",
    "        \"\"\"\n",
    "        Do not return anything, modify nums in-place instead.\n",
    "        \"\"\"\n",
    "        \n",
    "        for i in range(1, len(nums)):\n",
    "            \n",
    "            \n",
    "            if ((i%2 == 0 and nums[i-1] < nums[i]) or\n",
    "                (i%2 != 0 and nums[i-1] > nums[i])):\n",
    "                \n",
    "                nums[i-1], nums[i] = nums[i], nums[i-1]\n",
    "                \n",
    "                \n",
    "                \n",
    "        "
   ]
  }
 ],
 "metadata": {
  "kernelspec": {
   "display_name": "Python 3",
   "language": "python",
   "name": "python3"
  },
  "language_info": {
   "codemirror_mode": {
    "name": "ipython",
    "version": 3
   },
   "file_extension": ".py",
   "mimetype": "text/x-python",
   "name": "python",
   "nbconvert_exporter": "python",
   "pygments_lexer": "ipython3",
   "version": "3.8.5"
  }
 },
 "nbformat": 4,
 "nbformat_minor": 4
}
