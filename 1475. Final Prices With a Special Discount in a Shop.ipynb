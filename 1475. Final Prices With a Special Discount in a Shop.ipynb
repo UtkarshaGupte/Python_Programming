{
 "cells": [
  {
   "cell_type": "code",
   "execution_count": null,
   "metadata": {},
   "outputs": [],
   "source": [
    "'''\n",
    "1475. Final Prices With a Special Discount in a Shop\n",
    "\n",
    "Given the array prices where prices[i] is the price of the ith item in a shop. \n",
    "There is a special discount for items in the shop, if you buy the ith item, \n",
    "then you will receive a discount equivalent to prices[j] where j is the minimum index such that j > i \n",
    "and prices[j] <= prices[i], otherwise, you will not receive any discount at all.\n",
    "\n",
    "Return an array where the ith element is the final price you will pay for the ith item of the shop considering \n",
    "the special discount.\n",
    "\n",
    "Example 1:\n",
    "\n",
    "Input: prices = [8,4,6,2,3]\n",
    "Output: [4,2,4,2,3]\n",
    "Explanation: \n",
    "For item 0 with price[0]=8 you will receive a discount equivalent to prices[1]=4, \n",
    "therefore, the final price you will pay is 8 - 4 = 4. \n",
    "For item 1 with price[1]=4 you will receive a discount equivalent to prices[3]=2, \n",
    "therefore, the final price you will pay is 4 - 2 = 2. \n",
    "For item 2 with price[2]=6 you will receive a discount equivalent to prices[3]=2, \n",
    "therefore, the final price you will pay is 6 - 2 = 4. \n",
    "For items 3 and 4 you will not receive any discount at all.\n",
    "'''\n",
    "\n",
    "class Solution:\n",
    "    def finalPrices(self, prices: List[int]) -> List[int]:\n",
    "        \n",
    "        stack = []\n",
    "        \n",
    "        for i, price in enumerate(prices):\n",
    "            \n",
    "            while stack and prices[stack[-1]] >= prices[i]:\n",
    "                prices[stack.pop()] -= prices[i]\n",
    "                \n",
    "                \n",
    "            stack.append(i)\n",
    "                \n",
    "                \n",
    "        return prices\n",
    "    \n",
    "    "
   ]
  }
 ],
 "metadata": {
  "kernelspec": {
   "display_name": "Python 3",
   "language": "python",
   "name": "python3"
  },
  "language_info": {
   "codemirror_mode": {
    "name": "ipython",
    "version": 3
   },
   "file_extension": ".py",
   "mimetype": "text/x-python",
   "name": "python",
   "nbconvert_exporter": "python",
   "pygments_lexer": "ipython3",
   "version": "3.8.5"
  }
 },
 "nbformat": 4,
 "nbformat_minor": 4
}
