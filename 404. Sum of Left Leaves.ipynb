{
 "cells": [
  {
   "cell_type": "code",
   "execution_count": null,
   "metadata": {},
   "outputs": [],
   "source": [
    "'''\n",
    "404. Sum of Left Leaves\n",
    "Given the root of a binary tree, return the sum of all left leaves.\n",
    "'''\n",
    "\n",
    "# Definition for a binary tree node.\n",
    "# class TreeNode:\n",
    "#     def __init__(self, val=0, left=None, right=None):\n",
    "#         self.val = val\n",
    "#         self.left = left\n",
    "#         self.right = right\n",
    "class Solution:\n",
    "    def sumOfLeftLeaves(self, root: Optional[TreeNode]) -> int:\n",
    "        \n",
    "        q = deque([root])\n",
    "        result = 0\n",
    "        \n",
    "        def check_leaf(node):\n",
    "            if node is not None:\n",
    "                if node.left is None and node.right is None:\n",
    "                    return True\n",
    "                \n",
    "            return False\n",
    "        \n",
    "        while q:\n",
    "            \n",
    "            node = q.popleft()\n",
    "            \n",
    "            if node.left:\n",
    "                q.append(node.left)                \n",
    "                \n",
    "            if node.right:\n",
    "                q.append(node.right)\n",
    "                \n",
    "            if node.left and check_leaf(node.left):\n",
    "                result += node.left.val\n",
    "                \n",
    "        return result\n",
    "        \n",
    "        \n",
    "        "
   ]
  }
 ],
 "metadata": {
  "kernelspec": {
   "display_name": "Python 3",
   "language": "python",
   "name": "python3"
  },
  "language_info": {
   "codemirror_mode": {
    "name": "ipython",
    "version": 3
   },
   "file_extension": ".py",
   "mimetype": "text/x-python",
   "name": "python",
   "nbconvert_exporter": "python",
   "pygments_lexer": "ipython3",
   "version": "3.8.5"
  }
 },
 "nbformat": 4,
 "nbformat_minor": 4
}
