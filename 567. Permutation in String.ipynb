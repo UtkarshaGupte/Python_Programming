{
 "cells": [
  {
   "cell_type": "code",
   "execution_count": 1,
   "metadata": {},
   "outputs": [
    {
     "name": "stdout",
     "output_type": "stream",
     "text": [
      "Permutation exist: False\n",
      "Permutation exist: False\n",
      "Permutation exist: True\n",
      "Permutation exist: False\n"
     ]
    }
   ],
   "source": [
    "'''\n",
    "567. Permutation in String\n",
    "Given two strings s1 and s2, return true if s2 contains a permutation of s1, or false otherwise.\n",
    "\n",
    "In other words, return true if one of s1's permutations is the substring of s2.\n",
    "'''\n",
    "\n",
    "\n",
    "def checkInclusion(s1,s2):\n",
    "    char_freq ={}\n",
    "    for i in s1:\n",
    "        char_freq[i] = char_freq.get(i,0) + 1\n",
    "\n",
    "    window_start, matched = 0, 0\n",
    "    res= False\n",
    "\n",
    "    for window_end in range(len(s2)):\n",
    "\n",
    "        if s2[window_end] in char_freq:\n",
    "            char_freq[s2[window_end]] -= 1\n",
    "\n",
    "            if char_freq[s2[window_end]] == 0:\n",
    "                matched += 1\n",
    "\n",
    "        if matched == len(char_freq):\n",
    "            return True\n",
    "\n",
    "        if window_end >= len(s1)-1:\n",
    "            left_char = s2[window_start]\n",
    "            window_start += 1\n",
    "\n",
    "            if left_char in char_freq:\n",
    "                if char_freq[left_char] == 0:\n",
    "                    matched -= 1\n",
    "                char_freq[left_char] +=1\n",
    "\n",
    "    return res\n",
    "\n",
    "\n",
    "def main():\n",
    "    print('Permutation exist: ' + str(checkInclusion(\"oidbcaf\", \"abc\")))\n",
    "    print('Permutation exist: ' + str(checkInclusion(\"odicf\", \"dc\")))\n",
    "    print('Permutation exist: ' + str(checkInclusion(\"bcdxabcdy\", \"bcdyabcdx\")))\n",
    "    print('Permutation exist: ' + str(checkInclusion(\"aaacb\", \"abc\")))\n",
    "\n",
    "\n",
    "main()\n"
   ]
  },
  {
   "cell_type": "code",
   "execution_count": null,
   "metadata": {},
   "outputs": [],
   "source": []
  }
 ],
 "metadata": {
  "kernelspec": {
   "display_name": "Python 3",
   "language": "python",
   "name": "python3"
  },
  "language_info": {
   "codemirror_mode": {
    "name": "ipython",
    "version": 3
   },
   "file_extension": ".py",
   "mimetype": "text/x-python",
   "name": "python",
   "nbconvert_exporter": "python",
   "pygments_lexer": "ipython3",
   "version": "3.8.5"
  }
 },
 "nbformat": 4,
 "nbformat_minor": 4
}
