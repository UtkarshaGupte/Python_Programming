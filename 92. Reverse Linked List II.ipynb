{
 "cells": [
  {
   "cell_type": "code",
   "execution_count": null,
   "metadata": {},
   "outputs": [],
   "source": [
    "'''\n",
    "92. Reverse Linked List II\n",
    "Given the head of a singly linked list and two integers left and right where left <= right,\n",
    "reverse the nodes of the list from position left to position right, and return the reversed list.\n",
    "'''\n",
    "\n",
    "# Definition for singly-linked list.\n",
    "# class ListNode:\n",
    "#     def __init__(self, val=0, next=None):\n",
    "#         self.val = val\n",
    "#         self.next = next\n",
    "class Solution:\n",
    "    def reverseBetween(self, head: Optional[ListNode], left: int, right: int) -> Optional[ListNode]:\n",
    "        \n",
    "        #Create a dummy node\n",
    "        dummy = ListNode(0,head)\n",
    "        \n",
    "        #Step 1 : Reverse the list before left\n",
    "        left_prev , curr = dummy, head        \n",
    "        for i in range(left - 1):\n",
    "            left_prev.next = curr\n",
    "            left_prev = curr\n",
    "            curr = curr.next        \n",
    "            \n",
    "        #Step 2: Reverse the list from left to right\n",
    "        prev , curr = None, curr\n",
    "        for i in range(right - left + 1):\n",
    "            temp = curr.next\n",
    "            curr.next = prev\n",
    "            prev = curr\n",
    "            curr = temp\n",
    "            \n",
    "        #Step 3:\n",
    "        left_prev.next.next = curr\n",
    "        left_prev.next = prev\n",
    "        \n",
    "        \n",
    "        return dummy.next\n",
    "            "
   ]
  }
 ],
 "metadata": {
  "kernelspec": {
   "display_name": "Python 3",
   "language": "python",
   "name": "python3"
  },
  "language_info": {
   "codemirror_mode": {
    "name": "ipython",
    "version": 3
   },
   "file_extension": ".py",
   "mimetype": "text/x-python",
   "name": "python",
   "nbconvert_exporter": "python",
   "pygments_lexer": "ipython3",
   "version": "3.8.5"
  }
 },
 "nbformat": 4,
 "nbformat_minor": 4
}
