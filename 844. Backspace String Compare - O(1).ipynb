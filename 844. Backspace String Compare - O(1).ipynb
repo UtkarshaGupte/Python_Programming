{
 "cells": [
  {
   "cell_type": "code",
   "execution_count": 1,
   "metadata": {},
   "outputs": [
    {
     "name": "stdout",
     "output_type": "stream",
     "text": [
      "True\n",
      "False\n",
      "True\n",
      "True\n"
     ]
    }
   ],
   "source": [
    "'''\n",
    "844. Backspace String Compare - O(1)\n",
    "Given two strings s and t, return true if they are equal when both are typed into empty text editors.\n",
    "'#' means a backspace character.\n",
    "\n",
    "Note that after backspacing an empty text, the text will continue empty.\n",
    "'''\n",
    "\n",
    "\n",
    "def backspaceCompare(s,t):\n",
    "\n",
    "    def get_valid_char_index(check_string, ind):\n",
    "        backspace=0\n",
    "\n",
    "        while ind>=0:\n",
    "            if check_string[ind] == \"#\":\n",
    "                backspace += 1\n",
    "            elif backspace > 0:\n",
    "                backspace -= 1\n",
    "            else:\n",
    "                break\n",
    "\n",
    "            ind -= 1\n",
    "\n",
    "        return ind\n",
    "\n",
    "    ind1 = len(s) - 1\n",
    "    ind2 = len(t) - 1\n",
    "\n",
    "    while ind1>=0 or ind2>=0:\n",
    "        i1 = get_valid_char_index(s,ind1)\n",
    "        i2 = get_valid_char_index(t,ind2)\n",
    "\n",
    "        if i1<0 and i2<0:\n",
    "            return True\n",
    "        if i1<0 or i2<0:\n",
    "            return False\n",
    "        if s[i1] != t[i2]:\n",
    "            return False\n",
    "\n",
    "\n",
    "        ind1 = i1 - 1\n",
    "        ind2 = i2 - 1\n",
    "\n",
    "    return True\n",
    "            \n",
    "def main():\n",
    "    print(backspaceCompare(\"xy#z\", \"xzz#\"))\n",
    "    print(backspaceCompare(\"xy#z\", \"xyz#\"))\n",
    "    print(backspaceCompare(\"xp#\", \"xyz##\"))\n",
    "    print(backspaceCompare(\"xywrrmp\", \"xywrrmu#p\"))\n",
    "\n",
    "\n",
    "main()"
   ]
  },
  {
   "cell_type": "code",
   "execution_count": null,
   "metadata": {},
   "outputs": [],
   "source": []
  }
 ],
 "metadata": {
  "kernelspec": {
   "display_name": "Python 3",
   "language": "python",
   "name": "python3"
  },
  "language_info": {
   "codemirror_mode": {
    "name": "ipython",
    "version": 3
   },
   "file_extension": ".py",
   "mimetype": "text/x-python",
   "name": "python",
   "nbconvert_exporter": "python",
   "pygments_lexer": "ipython3",
   "version": "3.8.5"
  }
 },
 "nbformat": 4,
 "nbformat_minor": 4
}
