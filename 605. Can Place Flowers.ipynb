{
 "cells": [
  {
   "cell_type": "code",
   "execution_count": null,
   "metadata": {},
   "outputs": [],
   "source": [
    "'''\n",
    "605. Can Place Flowers\n",
    "You have a long flowerbed in which some of the plots are planted, and some are not. However, \n",
    "flowers cannot be planted in adjacent plots.\n",
    "\n",
    "Given an integer array flowerbed containing 0's and 1's, where 0 means empty and 1 means not empty, \n",
    "and an integer n, return if n new flowers can be planted in the flowerbed without violating the no-adjacent-flowers rule.\n",
    "'''\n",
    "\n",
    "class Solution:\n",
    "    def canPlaceFlowers(self, flowerbed: List[int], n: int) -> bool:\n",
    "        \n",
    "        flowers = [0] + flowerbed + [0]\n",
    "        \n",
    "        for i in range(1,len(flowers)-1):\n",
    "            \n",
    "            if flowers[i-1] == 0 and flowers[i] == 0 and flowers[i+1] == 0:\n",
    "                flowers[i] = 1\n",
    "                n -= 1\n",
    "                \n",
    "                \n",
    "        return n<=0\n",
    "                \n",
    "            \n",
    "        "
   ]
  }
 ],
 "metadata": {
  "kernelspec": {
   "display_name": "Python 3",
   "language": "python",
   "name": "python3"
  },
  "language_info": {
   "codemirror_mode": {
    "name": "ipython",
    "version": 3
   },
   "file_extension": ".py",
   "mimetype": "text/x-python",
   "name": "python",
   "nbconvert_exporter": "python",
   "pygments_lexer": "ipython3",
   "version": "3.8.5"
  }
 },
 "nbformat": 4,
 "nbformat_minor": 4
}
