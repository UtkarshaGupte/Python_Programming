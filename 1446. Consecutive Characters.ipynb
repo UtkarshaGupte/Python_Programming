{
 "cells": [
  {
   "cell_type": "code",
   "execution_count": null,
   "metadata": {},
   "outputs": [],
   "source": [
    "'''\n",
    "1446. Consecutive Characters\n",
    "The power of the string is the maximum length of a non-empty substring that contains only one unique character.\n",
    "\n",
    "Given a string s, return the power of s.\n",
    "'''\n",
    "\n",
    "class Solution:\n",
    "    def maxPower(self, s: str) -> int:\n",
    "        \n",
    "        max_count = 0\n",
    "        curr_count = 1\n",
    "        \n",
    "        if len(s)==1:\n",
    "            return 1\n",
    "        \n",
    "        \n",
    "        for i in range(1,len(s)):\n",
    "            \n",
    "            if s[i] == s[i-1]:\n",
    "                curr_count += 1\n",
    "            else:\n",
    "                curr_count = 1\n",
    "                \n",
    "            max_count = max(max_count, curr_count)\n",
    "\n",
    "        \n",
    "        return max_count\n",
    "    \n",
    "    \n",
    "    "
   ]
  }
 ],
 "metadata": {
  "kernelspec": {
   "display_name": "Python 3",
   "language": "python",
   "name": "python3"
  },
  "language_info": {
   "codemirror_mode": {
    "name": "ipython",
    "version": 3
   },
   "file_extension": ".py",
   "mimetype": "text/x-python",
   "name": "python",
   "nbconvert_exporter": "python",
   "pygments_lexer": "ipython3",
   "version": "3.8.5"
  }
 },
 "nbformat": 4,
 "nbformat_minor": 4
}
