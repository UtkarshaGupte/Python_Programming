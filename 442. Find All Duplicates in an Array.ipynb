{
 "cells": [
  {
   "cell_type": "code",
   "execution_count": 2,
   "metadata": {},
   "outputs": [
    {
     "name": "stdout",
     "output_type": "stream",
     "text": [
      "[4]\n",
      "[3]\n",
      "[4, 4]\n"
     ]
    }
   ],
   "source": [
    "'''\n",
    "442. Find All Duplicates in an Array\n",
    "Given an integer array nums of length n where all the integers of nums are in the range [1, n] \n",
    "and each integer appears once or twice, return an array of all the integers that appears twice.\n",
    "\n",
    "You must write an algorithm that runs in O(n) time and uses only constant extra space.\n",
    "'''\n",
    "\n",
    "\n",
    "def findDuplicates(nums):\n",
    "\n",
    "    n = len(nums)\n",
    "    res = []\n",
    "    i=0\n",
    "    while i < n:\n",
    "\n",
    "        j = nums[i] - 1\n",
    "        if nums[i] != nums[j]:\n",
    "            nums[i], nums[j] = nums[j], nums[i]\n",
    "        else:\n",
    "            i += 1\n",
    "\n",
    "\n",
    "    for i in range(n):\n",
    "        if nums[i] != i+1:\n",
    "            res.append(nums[i])\n",
    "\n",
    "\n",
    "    return res\n",
    "                \n",
    "    \n",
    "    \n",
    "def main():\n",
    "    print(findDuplicates([1, 4, 4, 3, 2]))\n",
    "    print(findDuplicates([2, 1, 3, 3, 5, 4]))\n",
    "    print(findDuplicates([2, 4, 1, 4, 4]))\n",
    "\n",
    "\n",
    "main()\n",
    "        \n",
    "\n"
   ]
  },
  {
   "cell_type": "code",
   "execution_count": null,
   "metadata": {},
   "outputs": [],
   "source": []
  }
 ],
 "metadata": {
  "kernelspec": {
   "display_name": "Python 3",
   "language": "python",
   "name": "python3"
  },
  "language_info": {
   "codemirror_mode": {
    "name": "ipython",
    "version": 3
   },
   "file_extension": ".py",
   "mimetype": "text/x-python",
   "name": "python",
   "nbconvert_exporter": "python",
   "pygments_lexer": "ipython3",
   "version": "3.8.5"
  }
 },
 "nbformat": 4,
 "nbformat_minor": 4
}
