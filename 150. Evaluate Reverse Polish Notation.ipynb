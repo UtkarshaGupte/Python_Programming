{
 "cells": [
  {
   "cell_type": "code",
   "execution_count": null,
   "metadata": {},
   "outputs": [],
   "source": [
    "'''\n",
    "150. Evaluate Reverse Polish Notation\n",
    "Evaluate the value of an arithmetic expression in Reverse Polish Notation.\n",
    "\n",
    "Valid operators are +, -, *, and /. Each operand may be an integer or another expression.\n",
    "\n",
    "Note that division between two integers should truncate toward zero.\n",
    "\n",
    "It is guaranteed that the given RPN expression is always valid. \n",
    "That means the expression would always evaluate to a result, and there will not be any division by zero operation.\n",
    "'''\n",
    "\n",
    "class Solution:\n",
    "    def evalRPN(self, tokens: List[str]) -> int:\n",
    "        \n",
    "        stack = []\n",
    "        \n",
    "        for i in tokens:\n",
    "            \n",
    "            if i == \"+\":\n",
    "                stack.append(stack.pop() + stack.pop())\n",
    "                \n",
    "            elif i == \"-\":\n",
    "                a, b = stack.pop(), stack.pop()\n",
    "                stack.append(b - a)\n",
    "                \n",
    "            elif i == \"*\":\n",
    "                stack.append(stack.pop() * stack.pop())\n",
    "                \n",
    "            elif i == \"/\":\n",
    "                a, b = stack.pop(), stack.pop()\n",
    "                stack.append(int(b/a))\n",
    "                \n",
    "            #If its an integer    \n",
    "            else:\n",
    "                stack.append(int(i))\n",
    "                \n",
    "                \n",
    "        return stack[0]\n",
    "        "
   ]
  }
 ],
 "metadata": {
  "kernelspec": {
   "display_name": "Python 3",
   "language": "python",
   "name": "python3"
  },
  "language_info": {
   "codemirror_mode": {
    "name": "ipython",
    "version": 3
   },
   "file_extension": ".py",
   "mimetype": "text/x-python",
   "name": "python",
   "nbconvert_exporter": "python",
   "pygments_lexer": "ipython3",
   "version": "3.8.5"
  }
 },
 "nbformat": 4,
 "nbformat_minor": 4
}
