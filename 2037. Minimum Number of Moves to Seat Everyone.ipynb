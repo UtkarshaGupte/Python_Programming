{
 "cells": [
  {
   "cell_type": "code",
   "execution_count": null,
   "metadata": {},
   "outputs": [],
   "source": [
    "'''\n",
    "2037. Minimum Number of Moves to Seat Everyone\n",
    "There are n seats and n students in a room. You are given an array seats of length n, \n",
    "where seats[i] is the position of the ith seat. You are also given the array students of length n, \n",
    "where students[j] is the position of the jth student.\n",
    "\n",
    "You may perform the following move any number of times:\n",
    "\n",
    "Increase or decrease the position of the ith student by 1 (i.e., moving the ith student from position x to x + 1 or x - 1)\n",
    "Return the minimum number of moves required to move each student to a seat such that no two students are in the same seat.\n",
    "\n",
    "Note that there may be multiple seats or students in the same position at the beginning.\n",
    "'''\n",
    "\n",
    "class Solution:\n",
    "    def minMovesToSeat(self, seats: List[int], students: List[int]) -> int:\n",
    "        \n",
    "        seats.sort()\n",
    "        students.sort()\n",
    "        \n",
    "        count = 0\n",
    "        \n",
    "        for i in range(len(seats)):\n",
    "            \n",
    "            count += abs(seats[i] - students[i])\n",
    "            \n",
    "            \n",
    "        return count\n",
    "            \n",
    "            "
   ]
  }
 ],
 "metadata": {
  "kernelspec": {
   "display_name": "Python 3",
   "language": "python",
   "name": "python3"
  },
  "language_info": {
   "codemirror_mode": {
    "name": "ipython",
    "version": 3
   },
   "file_extension": ".py",
   "mimetype": "text/x-python",
   "name": "python",
   "nbconvert_exporter": "python",
   "pygments_lexer": "ipython3",
   "version": "3.8.5"
  }
 },
 "nbformat": 4,
 "nbformat_minor": 4
}
