{
 "cells": [
  {
   "cell_type": "code",
   "execution_count": null,
   "id": "441652c4",
   "metadata": {},
   "outputs": [],
   "source": [
    "'''\n",
    "198. House Robber\n",
    "You are a professional robber planning to rob houses along a street. Each house has a certain amount of money stashed, \n",
    "the only constraint stopping you from robbing each of them is that adjacent houses have security systems connected \n",
    "and it will automatically contact the police if two adjacent houses were broken into on the same night.\n",
    "\n",
    "Given an integer array nums representing the amount of money of each house, \n",
    "return the maximum amount of money you can rob tonight without alerting the police.\n",
    "\n",
    "Example 1:\n",
    "Input: nums = [1,2,3,1]\n",
    "Output: 4\n",
    "Explanation: Rob house 1 (money = 1) and then rob house 3 (money = 3).\n",
    "Total amount you can rob = 1 + 3 = 4.\n",
    "\n",
    "Example 2:\n",
    "Input: nums = [2,7,9,3,1]\n",
    "Output: 12\n",
    "Explanation: Rob house 1 (money = 2), rob house 3 (money = 9) and rob house 5 (money = 1).\n",
    "Total amount you can rob = 2 + 9 + 1 = 12.\n",
    "\n",
    "Time/Space Complexity:\n",
    "Time - O(n)\n",
    "Space - O(1)\n",
    "'''\n",
    "\n",
    "class Solution:\n",
    "    def rob(self, nums: List[int]) -> int:\n",
    "        \n",
    "        rob0 = 0\n",
    "        rob1 = nums[0]\n",
    "        \n",
    "        for i in range(1,len(nums)):\n",
    "            \n",
    "            temp = max(rob0 + nums[i], rob1)\n",
    "            rob0 = rob1\n",
    "            rob1 = temp\n",
    "            \n",
    "        return rob1\n",
    "        \n",
    "        \n",
    "        "
   ]
  }
 ],
 "metadata": {
  "kernelspec": {
   "display_name": "Python 3 (ipykernel)",
   "language": "python",
   "name": "python3"
  },
  "language_info": {
   "codemirror_mode": {
    "name": "ipython",
    "version": 3
   },
   "file_extension": ".py",
   "mimetype": "text/x-python",
   "name": "python",
   "nbconvert_exporter": "python",
   "pygments_lexer": "ipython3",
   "version": "3.8.10"
  }
 },
 "nbformat": 4,
 "nbformat_minor": 5
}
