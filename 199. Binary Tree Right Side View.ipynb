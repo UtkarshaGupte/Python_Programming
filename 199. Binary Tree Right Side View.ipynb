{
 "cells": [
  {
   "cell_type": "code",
   "execution_count": 1,
   "metadata": {},
   "outputs": [],
   "source": [
    "'''\n",
    "199. Binary Tree Right Side View\n",
    "Given the root of a binary tree, imagine yourself standing on the right side of it, \n",
    "return the values of the nodes you can see ordered from top to bottom.\n",
    "'''\n",
    "from collections import deque\n",
    "\n",
    "# Definition for a binary tree node.\n",
    "class TreeNode:\n",
    "    def __init__(self, val=0, left=None, right=None):\n",
    "        self.val = val\n",
    "        self.left = left\n",
    "        self.right = right\n",
    "        \n",
    "\n",
    "def rightSideView(root):\n",
    "\n",
    "    if not root:\n",
    "        return []\n",
    "\n",
    "    output = []\n",
    "\n",
    "    q = deque()\n",
    "    q.append(root)\n",
    "\n",
    "    while q:\n",
    "\n",
    "        qlen = len(q)\n",
    "\n",
    "        for i in range(qlen):\n",
    "\n",
    "            node = q.popleft()\n",
    "\n",
    "            if node:\n",
    "                if i == qlen - 1:\n",
    "                    output.append(node.val)\n",
    "\n",
    "            if node.left:\n",
    "                q.append(node.left)\n",
    "\n",
    "            if node.right:\n",
    "                q.append(node.right)                   \n",
    "\n",
    "    return output"
   ]
  },
  {
   "cell_type": "code",
   "execution_count": 3,
   "metadata": {},
   "outputs": [
    {
     "name": "stdout",
     "output_type": "stream",
     "text": [
      "Tree right view: \n",
      "[12, 1, 5, 3]\n"
     ]
    }
   ],
   "source": [
    "def main():\n",
    "    root = TreeNode(12)\n",
    "    root.left = TreeNode(7)\n",
    "    root.right = TreeNode(1)\n",
    "    root.left.left = TreeNode(9)\n",
    "    root.right.left = TreeNode(10)\n",
    "    root.right.right = TreeNode(5)\n",
    "    root.left.left.left = TreeNode(3)\n",
    "    result = rightSideView(root)\n",
    "    print(\"Tree right view: \")\n",
    "    print(result)\n",
    "\n",
    "\n",
    "main()"
   ]
  },
  {
   "cell_type": "code",
   "execution_count": null,
   "metadata": {},
   "outputs": [],
   "source": []
  }
 ],
 "metadata": {
  "kernelspec": {
   "display_name": "Python 3",
   "language": "python",
   "name": "python3"
  },
  "language_info": {
   "codemirror_mode": {
    "name": "ipython",
    "version": 3
   },
   "file_extension": ".py",
   "mimetype": "text/x-python",
   "name": "python",
   "nbconvert_exporter": "python",
   "pygments_lexer": "ipython3",
   "version": "3.8.5"
  }
 },
 "nbformat": 4,
 "nbformat_minor": 4
}
