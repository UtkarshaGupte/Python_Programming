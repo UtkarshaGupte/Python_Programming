{
 "cells": [
  {
   "cell_type": "code",
   "execution_count": null,
   "metadata": {},
   "outputs": [],
   "source": [
    "'''\n",
    "171. Excel Sheet Column Number\n",
    "Given a string columnTitle that represents the column title as appear in an Excel sheet, \n",
    "return its corresponding column number.\n",
    "\n",
    "For example:\n",
    "\n",
    "A -> 1\n",
    "B -> 2\n",
    "C -> 3\n",
    "...\n",
    "Z -> 26\n",
    "AA -> 27\n",
    "AB -> 28 \n",
    "...\n",
    "'''\n",
    "\n",
    "class Solution:\n",
    "    def titleToNumber(self, columnTitle: str) -> int:\n",
    "        \n",
    "        char_ASCII = {chr(i+65):i+1 for i in range(26)}\n",
    "        \n",
    "        result = 0\n",
    "        n = len(columnTitle)\n",
    "        \n",
    "        for i in range(n):\n",
    "            \n",
    "            #starting from the last character\n",
    "            char_last = columnTitle[n-1-i]\n",
    "            \n",
    "            result += char_ASCII[char_last] * 26**(i)\n",
    "        \n",
    "        \n",
    "        return result"
   ]
  }
 ],
 "metadata": {
  "kernelspec": {
   "display_name": "Python 3",
   "language": "python",
   "name": "python3"
  },
  "language_info": {
   "codemirror_mode": {
    "name": "ipython",
    "version": 3
   },
   "file_extension": ".py",
   "mimetype": "text/x-python",
   "name": "python",
   "nbconvert_exporter": "python",
   "pygments_lexer": "ipython3",
   "version": "3.8.5"
  }
 },
 "nbformat": 4,
 "nbformat_minor": 4
}
