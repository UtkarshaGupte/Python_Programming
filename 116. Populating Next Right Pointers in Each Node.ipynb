{
 "cells": [
  {
   "cell_type": "code",
   "execution_count": 24,
   "metadata": {},
   "outputs": [],
   "source": [
    "'''\n",
    "116. Populating Next Right Pointers in Each Node\n",
    "You are given a perfect binary tree where all leaves are on the same level, and every parent has two children. \n",
    "The binary tree has the following definition:\n",
    "\n",
    "struct Node {\n",
    "  int val;\n",
    "  Node *left;\n",
    "  Node *right;\n",
    "  Node *next;\n",
    "}\n",
    "Populate each next pointer to point to its next right node. If there is no next right node, \n",
    "the next pointer should be set to NULL.\n",
    "\n",
    "Initially, all next pointers are set to NULL.\n",
    "'''\n",
    "\n",
    "from collections import deque\n",
    "\n",
    "# Definition for a Node.\n",
    "class TreeNode:\n",
    "    def __init__(self, val):\n",
    "        \n",
    "        self.val = val\n",
    "        self.left, self.right, self.next = None, None, None\n",
    "        \n",
    "    # level order traversal using 'next' pointer\n",
    "    def print_level_order(self):\n",
    "        output = []\n",
    "        nextLevelRoot = self\n",
    "        while nextLevelRoot:\n",
    "            current = nextLevelRoot\n",
    "            nextLevelRoot = None\n",
    "            while current:\n",
    "                output.append(current.val)\n",
    "                if not nextLevelRoot:\n",
    "                    if current.left:\n",
    "                        nextLevelRoot = current.left\n",
    "                    elif current.right:\n",
    "                        nextLevelRoot = current.right\n",
    "                current = current.next\n",
    "            output.append('#')\n",
    "            \n",
    "        print(output)\n",
    "\n",
    "\n",
    "\n",
    "def connect(root):\n",
    "\n",
    "    if not root:\n",
    "        return root\n",
    "\n",
    "    q = deque()\n",
    "    q.append(root)\n",
    "\n",
    "    while q:           \n",
    "\n",
    "        qlen = len(q)\n",
    "\n",
    "        for i in range(qlen):\n",
    "            node = q.popleft()\n",
    "\n",
    "            if i < qlen - 1:\n",
    "                node.next = q[0]\n",
    "\n",
    "            if node.left:\n",
    "                q.append(node.left)\n",
    "            if node.right:\n",
    "                q.append(node.right)           \n",
    "\n",
    "    return root\n",
    "           \n",
    "    \n",
    "\n",
    "            \n",
    "            "
   ]
  },
  {
   "cell_type": "code",
   "execution_count": 25,
   "metadata": {},
   "outputs": [
    {
     "name": "stdout",
     "output_type": "stream",
     "text": [
      "Level order traversal using 'next' pointer: \n",
      "[12, '#', 7, 1, '#', 9, 10, 5, '#']\n"
     ]
    }
   ],
   "source": [
    "def main():\n",
    "    root = TreeNode(12)\n",
    "    root.left = TreeNode(7)\n",
    "    root.right = TreeNode(1)\n",
    "    root.left.left = TreeNode(9)\n",
    "    root.right.left = TreeNode(10)\n",
    "    root.right.right = TreeNode(5)\n",
    "    connect(root)\n",
    "\n",
    "    print(\"Level order traversal using 'next' pointer: \")\n",
    "    root.print_level_order()\n",
    "\n",
    "\n",
    "main()"
   ]
  },
  {
   "cell_type": "code",
   "execution_count": null,
   "metadata": {},
   "outputs": [],
   "source": []
  }
 ],
 "metadata": {
  "kernelspec": {
   "display_name": "Python 3",
   "language": "python",
   "name": "python3"
  },
  "language_info": {
   "codemirror_mode": {
    "name": "ipython",
    "version": 3
   },
   "file_extension": ".py",
   "mimetype": "text/x-python",
   "name": "python",
   "nbconvert_exporter": "python",
   "pygments_lexer": "ipython3",
   "version": "3.8.5"
  }
 },
 "nbformat": 4,
 "nbformat_minor": 4
}
