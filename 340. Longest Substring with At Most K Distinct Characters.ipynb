{
 "cells": [
  {
   "cell_type": "code",
   "execution_count": 2,
   "metadata": {},
   "outputs": [
    {
     "ename": "SyntaxError",
     "evalue": "EOF while scanning triple-quoted string literal (<ipython-input-2-96b4894e59a9>, line 41)",
     "output_type": "error",
     "traceback": [
      "\u001b[1;36m  File \u001b[1;32m\"<ipython-input-2-96b4894e59a9>\"\u001b[1;36m, line \u001b[1;32m41\u001b[0m\n\u001b[1;33m    main()\u001b[0m\n\u001b[1;37m          \n^\u001b[0m\n\u001b[1;31mSyntaxError\u001b[0m\u001b[1;31m:\u001b[0m EOF while scanning triple-quoted string literal\n"
     ]
    }
   ],
   "source": [
    "'''\n",
    "340. Longest Substring with At Most K Distinct Characters\n",
    "Given a string s and an integer k, \n",
    "return the length of the longest substring of s that contains at most k distinct characters.\n",
    "'''\n",
    "def lengthOfLongestSubstringKDistinct(s,k):\n",
    "    window_start = 0\n",
    "    max_length = 0\n",
    "    char_freq ={}\n",
    "\n",
    "\n",
    "    for window_end in range(len(s)):\n",
    "        right_char = s[window_end]\n",
    "\n",
    "        if right_char not in char_freq:\n",
    "            char_freq[right_char] = 0\n",
    "\n",
    "        #Storing the character count in a hash table\n",
    "        char_freq[right_char] += 1\n",
    "\n",
    "        #Narrowing the window until there are more than k distinct characters and decrementing the                  count of those characters\n",
    "        while len(char_freq)>k:\n",
    "            left_char = s[window_start]\n",
    "\n",
    "            char_freq[left_char] -= 1\n",
    "\n",
    "            if char_freq[left_char] == 0:\n",
    "                del char_freq[left_char]\n",
    "\n",
    "            window_start += 1\n",
    "\n",
    "        max_length = max(max_length, window_end - window_start + 1)\n",
    "\n",
    "\n",
    "    return max_length\n",
    "\n",
    "\n",
    "def main():\n",
    "    print(\"Length of the longest substring: \" + str(lengthOfLongestSubstringKDistinct(\"araaci\", 2)))\n",
    "    print(\"Length of the longest substring: \" + str(lengthOfLongestSubstringKDistinct(\"araaci\", 1)))\n",
    "    print(\"Length of the longest substring: \" + str(lengthOfLongestSubstringKDistinct(\"cbbebi\", 3)))\n",
    "\n",
    "\n",
    "main()"
   ]
  },
  {
   "cell_type": "code",
   "execution_count": null,
   "metadata": {},
   "outputs": [],
   "source": []
  }
 ],
 "metadata": {
  "kernelspec": {
   "display_name": "Python 3",
   "language": "python",
   "name": "python3"
  },
  "language_info": {
   "codemirror_mode": {
    "name": "ipython",
    "version": 3
   },
   "file_extension": ".py",
   "mimetype": "text/x-python",
   "name": "python",
   "nbconvert_exporter": "python",
   "pygments_lexer": "ipython3",
   "version": "3.8.5"
  }
 },
 "nbformat": 4,
 "nbformat_minor": 4
}
