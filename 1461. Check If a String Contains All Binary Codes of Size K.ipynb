{
 "cells": [
  {
   "cell_type": "code",
   "execution_count": null,
   "metadata": {},
   "outputs": [],
   "source": [
    "'''\n",
    "1461. Check If a String Contains All Binary Codes of Size K\n",
    "Given a binary string s and an integer k, return true if every binary code of length k is a substring of s. \n",
    "Otherwise, return false.\n",
    "\n",
    "Example 1:\n",
    "Input: s = \"00110110\", k = 2\n",
    "Output: true\n",
    "Explanation: The binary codes of length 2 are \"00\", \"01\", \"10\" and \"11\". They can be all found as substrings at \n",
    "indices 0, 1, 3 and 2 respectively.\n",
    "\n",
    "Example 2:\n",
    "Input: s = \"0110\", k = 1\n",
    "Output: true\n",
    "Explanation: The binary codes of length 1 are \"0\" and \"1\", it is clear that both exist as a substring.\n",
    "\n",
    "Time/Space Complexities:\n",
    "\n",
    "Time: O(N)\n",
    "\n",
    "Space: O(2**k)\n",
    "'''\n",
    "\n",
    "class Solution:\n",
    "    def hasAllCodes(self, s: str, k: int) -> bool:\n",
    "        \n",
    "        hashset = set()\n",
    "        \n",
    "        for i in range(len(s)-k+1):\n",
    "            \n",
    "            hashset.add(s[i:i+k])\n",
    "            \n",
    "            if len(hashset) == 2**k:\n",
    "                return True\n",
    "        \n",
    "        \n",
    "        return False\n",
    "    \n",
    "    "
   ]
  }
 ],
 "metadata": {
  "kernelspec": {
   "display_name": "Python 3",
   "language": "python",
   "name": "python3"
  },
  "language_info": {
   "codemirror_mode": {
    "name": "ipython",
    "version": 3
   },
   "file_extension": ".py",
   "mimetype": "text/x-python",
   "name": "python",
   "nbconvert_exporter": "python",
   "pygments_lexer": "ipython3",
   "version": "3.8.5"
  }
 },
 "nbformat": 4,
 "nbformat_minor": 4
}
