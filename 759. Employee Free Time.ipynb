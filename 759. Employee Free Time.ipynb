{
 "cells": [
  {
   "cell_type": "code",
   "execution_count": 1,
   "metadata": {},
   "outputs": [
    {
     "name": "stdout",
     "output_type": "stream",
     "text": [
      "Free intervals: [3, 5]\n",
      "Free intervals: [4, 6][8, 9]\n",
      "Free intervals: [5, 7]\n"
     ]
    }
   ],
   "source": [
    "'''\n",
    "759. Employee Free Time\n",
    "We are given a list schedule of employees, which represents the working time for each employee.\n",
    "\n",
    "Each employee has a list of non-overlapping Intervals, and these intervals are in sorted order.\n",
    "\n",
    "Return the list of finite intervals representing common, positive-length free time for all employees, also in sorted order.\n",
    "\n",
    "(Even though we are representing Intervals in the form [x, y], the objects inside are Intervals, \n",
    "not lists or arrays. For example, schedule[0][0].start = 1, schedule[0][0].end = 2, and schedule[0][0][0] is not defined).  \n",
    "Also, we wouldn't include intervals like [5, 5] in our answer, as they have zero length.\n",
    "'''\n",
    "\n",
    "class Interval:\n",
    "    def __init__(self, start, end):\n",
    "        self.start = start\n",
    "        self.end = end\n",
    "\n",
    "    def print_interval(self):\n",
    "        print(\"[\" + str(self.start) + \", \" + str(self.end) + \"]\", end='')\n",
    "\n",
    "\n",
    "\n",
    "def employeeFreeTime(schedule):\n",
    "\n",
    "    #Flatten the lists of list and sort it in ascending order wrt to start time\n",
    "    schedule_flat_list = sorted([interval for s in schedule for interval in s], key = lambda x:x.start)\n",
    "\n",
    "    output = []\n",
    "\n",
    "    #end time of first interval\n",
    "    end = schedule_flat_list[0].end\n",
    "\n",
    "    for i in range(1,len(schedule_flat_list)):\n",
    "        schedule = schedule_flat_list[i]\n",
    "\n",
    "        if schedule.start > end:           \n",
    "            start = schedule.start\n",
    "            output.append(Interval(end,start))\n",
    "\n",
    "        end= max(end,schedule.end)\n",
    "\n",
    "\n",
    "    return output\n",
    "\n",
    "\n",
    "def main():\n",
    "\n",
    "    input = [[Interval(1, 3), Interval(5, 6)], [\n",
    "        Interval(2, 3), Interval(6, 8)]]\n",
    "    print(\"Free intervals: \", end='')\n",
    "    for interval in employeeFreeTime(input):\n",
    "        interval.print_interval()\n",
    "    print()\n",
    "\n",
    "    input = [[Interval(1, 3), Interval(9, 12)], [\n",
    "        Interval(2, 4)], [Interval(6, 8)]]\n",
    "    print(\"Free intervals: \", end='')\n",
    "    for interval in employeeFreeTime(input):\n",
    "        interval.print_interval()\n",
    "    print()\n",
    "\n",
    "    input = [[Interval(1, 3)], [\n",
    "        Interval(2, 4)], [Interval(3, 5), Interval(7, 9)]]\n",
    "    print(\"Free intervals: \", end='')\n",
    "    for interval in employeeFreeTime(input):\n",
    "        interval.print_interval()\n",
    "    print()\n",
    "\n",
    "\n",
    "main()"
   ]
  },
  {
   "cell_type": "code",
   "execution_count": null,
   "metadata": {},
   "outputs": [],
   "source": []
  }
 ],
 "metadata": {
  "kernelspec": {
   "display_name": "Python 3",
   "language": "python",
   "name": "python3"
  },
  "language_info": {
   "codemirror_mode": {
    "name": "ipython",
    "version": 3
   },
   "file_extension": ".py",
   "mimetype": "text/x-python",
   "name": "python",
   "nbconvert_exporter": "python",
   "pygments_lexer": "ipython3",
   "version": "3.8.5"
  }
 },
 "nbformat": 4,
 "nbformat_minor": 4
}
