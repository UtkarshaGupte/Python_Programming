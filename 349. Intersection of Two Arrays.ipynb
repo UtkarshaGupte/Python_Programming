{
 "cells": [
  {
   "cell_type": "code",
   "execution_count": null,
   "metadata": {},
   "outputs": [],
   "source": [
    "'''\n",
    "349. Intersection of Two Arrays\n",
    "Given two integer arrays nums1 and nums2, return an array of their intersection. \n",
    "Each element in the result must be unique and you may return the result in any order.\n",
    "'''\n",
    "\n",
    "class Solution:\n",
    "    def intersection(self, nums1: List[int], nums2: List[int]) -> List[int]:\n",
    "        \n",
    "        res = []\n",
    "        \n",
    "        for i in nums1:\n",
    "            if i in nums2:\n",
    "                if i not in res:\n",
    "                    res.append(i)\n",
    "                    \n",
    "                    \n",
    "        return res\n",
    "        "
   ]
  }
 ],
 "metadata": {
  "kernelspec": {
   "display_name": "Python 3",
   "language": "python",
   "name": "python3"
  },
  "language_info": {
   "codemirror_mode": {
    "name": "ipython",
    "version": 3
   },
   "file_extension": ".py",
   "mimetype": "text/x-python",
   "name": "python",
   "nbconvert_exporter": "python",
   "pygments_lexer": "ipython3",
   "version": "3.8.5"
  }
 },
 "nbformat": 4,
 "nbformat_minor": 4
}
