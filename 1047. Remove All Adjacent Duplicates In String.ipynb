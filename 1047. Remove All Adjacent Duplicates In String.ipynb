{
 "cells": [
  {
   "cell_type": "code",
   "execution_count": null,
   "metadata": {},
   "outputs": [],
   "source": [
    "'''\n",
    "1047. Remove All Adjacent Duplicates In String\n",
    "You are given a string s consisting of lowercase English letters. A duplicate removal consists of \n",
    "choosing two adjacent and equal letters and removing them.\n",
    "\n",
    "We repeatedly make duplicate removals on s until we no longer can.\n",
    "\n",
    "Return the final string after all such duplicate removals have been made. It can be proven that the answer is unique.\n",
    "'''\n",
    "\n",
    "class Solution:\n",
    "    def removeDuplicates(self, s: str) -> str:\n",
    "        \n",
    "        output = []\n",
    "        \n",
    "        for char in s:\n",
    "            \n",
    "            if output and char == output[-1]:\n",
    "                output.pop()\n",
    "                \n",
    "            else:\n",
    "                output.append(char)\n",
    "                \n",
    "                \n",
    "        return ''.join(output)\n",
    "        \n",
    "        \n",
    "        "
   ]
  }
 ],
 "metadata": {
  "kernelspec": {
   "display_name": "Python 3",
   "language": "python",
   "name": "python3"
  },
  "language_info": {
   "codemirror_mode": {
    "name": "ipython",
    "version": 3
   },
   "file_extension": ".py",
   "mimetype": "text/x-python",
   "name": "python",
   "nbconvert_exporter": "python",
   "pygments_lexer": "ipython3",
   "version": "3.8.5"
  }
 },
 "nbformat": 4,
 "nbformat_minor": 4
}
