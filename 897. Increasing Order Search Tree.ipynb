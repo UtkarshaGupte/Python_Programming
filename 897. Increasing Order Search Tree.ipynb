{
 "cells": [
  {
   "cell_type": "code",
   "execution_count": null,
   "metadata": {},
   "outputs": [],
   "source": [
    "'''\n",
    "897. Increasing Order Search Tree\n",
    "Given the root of a binary search tree, rearrange the tree in in-order so that the leftmost node in the \n",
    "tree is now the root of the tree, and every node has no left child and only one right child.\n",
    "'''\n",
    "\n",
    "# Definition for a binary tree node.\n",
    "# class TreeNode:\n",
    "#     def __init__(self, val=0, left=None, right=None):\n",
    "#         self.val = val\n",
    "#         self.left = left\n",
    "#         self.right = right\n",
    "class Solution:\n",
    "    def increasingBST(self, root: TreeNode) -> TreeNode:      \n",
    "        if not root:\n",
    "            return None\n",
    "        \n",
    "        stack = []\n",
    "        head, current = None, None\n",
    "        \n",
    "        #Pushing all the left nodes in the stack\n",
    "        while root:\n",
    "            stack.append(root)\n",
    "            root = root.left\n",
    "            \n",
    "        #Popping out from the stack\n",
    "        while stack:            \n",
    "            node = stack.pop()\n",
    "            \n",
    "            #Linking the treenodes\n",
    "            if head is None:\n",
    "                head = TreeNode(node.val)\n",
    "                current = head                \n",
    "            else:\n",
    "                current.right = TreeNode(node.val)\n",
    "                current = current.right\n",
    "                \n",
    "            if node.right:             \n",
    "                stack.append(node.right)\n",
    "                node = node.right\n",
    "                \n",
    "                while node.left:                    \n",
    "                    stack.append(node.left)\n",
    "                    node = node.left                  \n",
    "                    \n",
    "        return head\n",
    "                "
   ]
  }
 ],
 "metadata": {
  "kernelspec": {
   "display_name": "Python 3",
   "language": "python",
   "name": "python3"
  },
  "language_info": {
   "codemirror_mode": {
    "name": "ipython",
    "version": 3
   },
   "file_extension": ".py",
   "mimetype": "text/x-python",
   "name": "python",
   "nbconvert_exporter": "python",
   "pygments_lexer": "ipython3",
   "version": "3.8.5"
  }
 },
 "nbformat": 4,
 "nbformat_minor": 4
}
