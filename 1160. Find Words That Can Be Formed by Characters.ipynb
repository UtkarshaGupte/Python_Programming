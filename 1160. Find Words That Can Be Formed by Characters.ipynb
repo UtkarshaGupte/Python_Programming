{
 "cells": [
  {
   "cell_type": "code",
   "execution_count": null,
   "metadata": {},
   "outputs": [],
   "source": [
    "'''\n",
    "1160. Find Words That Can Be Formed by Characters\n",
    "You are given an array of strings words and a string chars.\n",
    "\n",
    "A string is good if it can be formed by characters from chars (each character can only be used once).\n",
    "\n",
    "Return the sum of lengths of all good strings in words.\n",
    "'''\n",
    "\n",
    "class Solution:\n",
    "    def countCharacters(self, words: List[str], chars: str) -> int:\n",
    "        \n",
    "        count = 0\n",
    "        \n",
    "        for word in words:\n",
    "            for i in range(len(word)):\n",
    "                \n",
    "                if word[i] not in chars:\n",
    "                    break\n",
    "                    \n",
    "                if word.count(word[i]) > chars.count(word[i]):\n",
    "                    break\n",
    "                    \n",
    "                if i == len(word) - 1:\n",
    "                    count += len(word)\n",
    "                    \n",
    "                    \n",
    "        return count\n",
    "            \n",
    "        "
   ]
  }
 ],
 "metadata": {
  "kernelspec": {
   "display_name": "Python 3",
   "language": "python",
   "name": "python3"
  },
  "language_info": {
   "codemirror_mode": {
    "name": "ipython",
    "version": 3
   },
   "file_extension": ".py",
   "mimetype": "text/x-python",
   "name": "python",
   "nbconvert_exporter": "python",
   "pygments_lexer": "ipython3",
   "version": "3.8.5"
  }
 },
 "nbformat": 4,
 "nbformat_minor": 4
}
