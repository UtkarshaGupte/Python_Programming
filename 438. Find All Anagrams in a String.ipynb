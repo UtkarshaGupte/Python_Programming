{
 "cells": [
  {
   "cell_type": "code",
   "execution_count": null,
   "metadata": {},
   "outputs": [],
   "source": [
    "'''\n",
    "438. Find All Anagrams in a String\n",
    "Given two strings s and p, return an array of all the start indices of p's anagrams in s. \n",
    "You may return the answer in any order.\n",
    "\n",
    "An Anagram is a word or phrase formed by rearranging the letters of a different word or phrase, \n",
    "typically using all the original letters exactly once.\n",
    "'''\n",
    "\n",
    "class Solution:\n",
    "    def findAnagrams(self, s: str, p: str) -> List[int]:\n",
    "        \n",
    "        if len(s) < len(p):\n",
    "            return []\n",
    "        \n",
    "        scount, pcount = {}, {}\n",
    "        \n",
    "        #checking if the anangram exists at the start of the string\n",
    "        for i in range(len(p)):\n",
    "            scount[s[i]] = scount.get(s[i],0) + 1 \n",
    "            pcount[p[i]] = pcount.get(p[i],0) + 1 \n",
    "        \n",
    "        #If it exists, initialise the result with \"0\" index\n",
    "        if scount == pcount:\n",
    "            res = [0]\n",
    "        else:\n",
    "            res = []\n",
    "            \n",
    "            \n",
    "        left=0\n",
    "        for right in range(len(p),len(s)):\n",
    "            scount[s[right]] = scount.get(s[right],0) + 1\n",
    "            scount[s[left]] -= 1\n",
    "            \n",
    "            if scount[s[left]] == 0:\n",
    "                scount.pop(s[left])\n",
    "                \n",
    "            left += 1\n",
    "            \n",
    "            if scount == pcount:\n",
    "                res.append(left)\n",
    "                \n",
    "                \n",
    "        return res\n",
    "            "
   ]
  }
 ],
 "metadata": {
  "kernelspec": {
   "display_name": "Python 3",
   "language": "python",
   "name": "python3"
  },
  "language_info": {
   "codemirror_mode": {
    "name": "ipython",
    "version": 3
   },
   "file_extension": ".py",
   "mimetype": "text/x-python",
   "name": "python",
   "nbconvert_exporter": "python",
   "pygments_lexer": "ipython3",
   "version": "3.8.5"
  }
 },
 "nbformat": 4,
 "nbformat_minor": 4
}
