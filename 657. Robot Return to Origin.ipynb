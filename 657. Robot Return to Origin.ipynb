{
 "cells": [
  {
   "cell_type": "code",
   "execution_count": null,
   "metadata": {},
   "outputs": [],
   "source": [
    "'''\n",
    "657. Robot Return to Origin\n",
    "There is a robot starting at the position (0, 0), the origin, on a 2D plane. Given a sequence of its moves, \n",
    "judge if this robot ends up at (0, 0) after it completes its moves.\n",
    "\n",
    "You are given a string moves that represents the move sequence of the robot where moves[i] represents its ith move. \n",
    "Valid moves are 'R' (right), 'L' (left), 'U' (up), and 'D' (down).\n",
    "\n",
    "Return true if the robot returns to the origin after it finishes all of its moves, or false otherwise.\n",
    "\n",
    "Note: The way that the robot is \"facing\" is irrelevant. 'R' will always make the robot move to the right once, 'L' \n",
    "will always make it move left, etc. Also, \n",
    "assume that the magnitude of the robot's movement is the same for each move.\n",
    "'''\n",
    "\n",
    "class Solution:\n",
    "    def judgeCircle(self, moves: str) -> bool:\n",
    "        \n",
    "        char_dict = {'L':0,'R':0,'U':0,'D':0}\n",
    "        \n",
    "        \n",
    "        for char in moves:\n",
    "            \n",
    "            char_dict[char] = char_dict.get(char,0) + 1  \n",
    "            \n",
    "                \n",
    "        if char_dict['L'] == char_dict['R'] and char_dict['U'] == char_dict['D']:\n",
    "            return True\n",
    "        else:\n",
    "            return False\n",
    "            "
   ]
  }
 ],
 "metadata": {
  "kernelspec": {
   "display_name": "Python 3",
   "language": "python",
   "name": "python3"
  },
  "language_info": {
   "codemirror_mode": {
    "name": "ipython",
    "version": 3
   },
   "file_extension": ".py",
   "mimetype": "text/x-python",
   "name": "python",
   "nbconvert_exporter": "python",
   "pygments_lexer": "ipython3",
   "version": "3.8.5"
  }
 },
 "nbformat": 4,
 "nbformat_minor": 4
}
