{
 "cells": [
  {
   "cell_type": "code",
   "execution_count": null,
   "metadata": {},
   "outputs": [],
   "source": [
    "'''\n",
    "1385. Find the Distance Value Between Two Arrays\n",
    "Given two integer arrays arr1 and arr2, and the integer d, return the distance value between the two arrays.\n",
    "\n",
    "The distance value is defined as the number of elements arr1[i] \n",
    "such that there is not any element arr2[j] where |arr1[i]-arr2[j]| <= d.\n",
    "'''\n",
    "\n",
    "class Solution:\n",
    "    def findTheDistanceValue(self, arr1: List[int], arr2: List[int], d: int) -> int:\n",
    "        \n",
    "        count = len(arr1)\n",
    "        \n",
    "        for val1 in arr1:\n",
    "            for val2 in arr2:\n",
    "                \n",
    "                if abs(val1-val2) <= d:\n",
    "                    count -= 1\n",
    "                    break\n",
    "                           \n",
    "        return count\n",
    "    \n",
    "    "
   ]
  }
 ],
 "metadata": {
  "kernelspec": {
   "display_name": "Python 3",
   "language": "python",
   "name": "python3"
  },
  "language_info": {
   "codemirror_mode": {
    "name": "ipython",
    "version": 3
   },
   "file_extension": ".py",
   "mimetype": "text/x-python",
   "name": "python",
   "nbconvert_exporter": "python",
   "pygments_lexer": "ipython3",
   "version": "3.8.5"
  }
 },
 "nbformat": 4,
 "nbformat_minor": 4
}
