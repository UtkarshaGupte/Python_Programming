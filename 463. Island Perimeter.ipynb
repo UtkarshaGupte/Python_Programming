{
 "cells": [
  {
   "cell_type": "code",
   "execution_count": null,
   "metadata": {},
   "outputs": [],
   "source": [
    "'''\n",
    "463. Island Perimeter\n",
    "You are given row x col grid representing a map where grid[i][j] = 1 represents land and grid[i][j] = 0 represents water.\n",
    "\n",
    "Grid cells are connected horizontally/vertically (not diagonally). The grid is completely surrounded by water,\n",
    "and there is exactly one island (i.e., one or more connected land cells).\n",
    "\n",
    "The island doesn't have \"lakes\", meaning the water inside isn't connected to the water around the island. One cell is a square with side length 1. \n",
    "The grid is rectangular, width and height don't exceed 100. Determine the perimeter of the island.\n",
    "'''\n",
    "\n",
    "\n",
    "class Solution:\n",
    "    def islandPerimeter(self, grid: List[List[int]]) -> int:\n",
    "        is_visited = set()\n",
    "        \n",
    "        def dfs(i, j):\n",
    "            \n",
    "            #If the grid has already been visited\n",
    "            if (i,j) in is_visited:\n",
    "                return 0\n",
    "            \n",
    "            #base case\n",
    "            if i <0 or j<0 or i>=len(grid) or j>=len(grid[0]) or grid[i][j] == 0:\n",
    "                return 1\n",
    "            \n",
    "            is_visited.add((i,j))\n",
    "            perimeter = dfs(i-1 , j)   #up\n",
    "            perimeter += dfs(i, j+1)   #right\n",
    "            perimeter += dfs(i, j-1)   #left\n",
    "            perimeter += dfs(i+1,j)    #down\n",
    "            \n",
    "            return perimeter\n",
    "        \n",
    "        \n",
    "        #Finding a grid which represents land\n",
    "        for i in range(len(grid)):\n",
    "            for j in range(len(grid[0])):\n",
    "                \n",
    "                if grid[i][j] == 1:\n",
    "                    return dfs(i,j)\n",
    "                \n",
    "                "
   ]
  }
 ],
 "metadata": {
  "kernelspec": {
   "display_name": "Python 3",
   "language": "python",
   "name": "python3"
  },
  "language_info": {
   "codemirror_mode": {
    "name": "ipython",
    "version": 3
   },
   "file_extension": ".py",
   "mimetype": "text/x-python",
   "name": "python",
   "nbconvert_exporter": "python",
   "pygments_lexer": "ipython3",
   "version": "3.8.5"
  }
 },
 "nbformat": 4,
 "nbformat_minor": 4
}
