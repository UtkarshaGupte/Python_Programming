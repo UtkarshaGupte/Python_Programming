{
 "cells": [
  {
   "cell_type": "code",
   "execution_count": null,
   "id": "15d5c2e0",
   "metadata": {},
   "outputs": [],
   "source": [
    "'''\n",
    "894. All Possible Full Binary Trees\n",
    "\n",
    "Given an integer n, return a list of all possible full binary trees with n nodes. \n",
    "Each node of each tree in the answer must have Node.val == 0.\n",
    "\n",
    "Each element of the answer is the root node of one possible tree. You may return the final list of trees in any order.\n",
    "\n",
    "A full binary tree is a binary tree where each node has exactly 0 or 2 children.\n",
    "\n",
    "Example 1:\n",
    "Input: n = 7\n",
    "Output: [[0,0,0,null,null,0,0,null,null,0,0],[0,0,0,null,null,0,0,0,0],[0,0,0,0,0,0,0],\n",
    "[0,0,0,0,0,null,null,null,null,0,0],[0,0,0,0,0,null,null,0,0]]\n",
    "\n",
    "Example 2:\n",
    "Input: n = 3\n",
    "Output: [[0,0,0]]\n",
    "'''\n",
    "\n",
    "# Definition for a binary tree node.\n",
    "# class TreeNode:\n",
    "#     def __init__(self, val=0, left=None, right=None):\n",
    "#         self.val = val\n",
    "#         self.left = left\n",
    "#         self.right = right\n",
    "class Solution:\n",
    "    def allPossibleFBT(self, n: int) -> List[Optional[TreeNode]]:\n",
    "        \n",
    "        if n%2==0:\n",
    "            return []\n",
    "        \n",
    "        dp = {0:[], 1: [TreeNode()]}\n",
    "        \n",
    "        def backtrack(n):\n",
    "            \n",
    "            if n in dp:\n",
    "                return dp[n]\n",
    "              \n",
    "            res = []\n",
    "            \n",
    "            for left in range(1,n):\n",
    "                right = n - 1 - left\n",
    "                \n",
    "                lefttrees , righttrees = backtrack(left), backtrack(right)\n",
    "                \n",
    "                for t1 in lefttrees:\n",
    "                    for t2 in righttrees:\n",
    "                        res.append(TreeNode(0, t1, t2))\n",
    "                        \n",
    "            dp[n] = res            \n",
    "            return res\n",
    "        \n",
    "        return backtrack(n)\n",
    "        "
   ]
  }
 ],
 "metadata": {
  "kernelspec": {
   "display_name": "Python 3 (ipykernel)",
   "language": "python",
   "name": "python3"
  },
  "language_info": {
   "codemirror_mode": {
    "name": "ipython",
    "version": 3
   },
   "file_extension": ".py",
   "mimetype": "text/x-python",
   "name": "python",
   "nbconvert_exporter": "python",
   "pygments_lexer": "ipython3",
   "version": "3.8.10"
  }
 },
 "nbformat": 4,
 "nbformat_minor": 5
}
