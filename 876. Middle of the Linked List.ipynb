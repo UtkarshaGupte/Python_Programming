{
 "cells": [
  {
   "cell_type": "code",
   "execution_count": 5,
   "metadata": {},
   "outputs": [
    {
     "name": "stdout",
     "output_type": "stream",
     "text": [
      "Middle Node: 3\n",
      "Middle Node: 4\n",
      "Middle Node: 4\n"
     ]
    }
   ],
   "source": [
    "'''\n",
    "876. Middle of the Linked List\n",
    "Given the head of a singly linked list, return the middle node of the linked list.\n",
    "\n",
    "If there are two middle nodes, return the second middle node.\n",
    "'''\n",
    "\n",
    "class Node:\n",
    "    def __init__(self, value=0, next=None):\n",
    "        self.value = value\n",
    "        self.next = next\n",
    "\n",
    "def middleNode(head):\n",
    "\n",
    "    slow, fast = head , head\n",
    "\n",
    "    while fast is not None and fast.next is not None:\n",
    "        slow = slow.next            #Moving 1 step per iteration\n",
    "        fast = fast.next.next       #Moving 2 steps per iteration\n",
    "\n",
    "    #When the fast pointer is at the end, the slow pointer will be at the middle of the list\n",
    "    return slow\n",
    "\n",
    "def main():\n",
    "    head = Node(1)\n",
    "    head.next = Node(2)\n",
    "    head.next.next = Node(3)\n",
    "    head.next.next.next = Node(4)\n",
    "    head.next.next.next.next = Node(5)\n",
    "\n",
    "    print(\"Middle Node: \" + str(middleNode(head).value))\n",
    "\n",
    "    head.next.next.next.next.next = Node(6)\n",
    "    print(\"Middle Node: \" + str(middleNode(head).value))\n",
    "\n",
    "    head.next.next.next.next.next.next = Node(7)\n",
    "    print(\"Middle Node: \" + str(middleNode(head).value))\n",
    "\n",
    "\n",
    "main()\n"
   ]
  },
  {
   "cell_type": "code",
   "execution_count": null,
   "metadata": {},
   "outputs": [],
   "source": []
  }
 ],
 "metadata": {
  "kernelspec": {
   "display_name": "Python 3",
   "language": "python",
   "name": "python3"
  },
  "language_info": {
   "codemirror_mode": {
    "name": "ipython",
    "version": 3
   },
   "file_extension": ".py",
   "mimetype": "text/x-python",
   "name": "python",
   "nbconvert_exporter": "python",
   "pygments_lexer": "ipython3",
   "version": "3.8.5"
  }
 },
 "nbformat": 4,
 "nbformat_minor": 4
}
