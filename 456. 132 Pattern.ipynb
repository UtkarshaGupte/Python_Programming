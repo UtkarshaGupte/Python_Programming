{
 "cells": [
  {
   "cell_type": "code",
   "execution_count": null,
   "metadata": {},
   "outputs": [],
   "source": [
    "'''\n",
    "456. 132 Pattern\n",
    "\n",
    "Given an array of n integers nums, a 132 pattern is a subsequence of three integers nums[i], \n",
    "nums[j] and nums[k] such that i < j < k and nums[i] < nums[k] < nums[j].\n",
    "\n",
    "Return true if there is a 132 pattern in nums, otherwise, return false.\n",
    "\n",
    " \n",
    "\n",
    "Example 1:\n",
    "\n",
    "Input: nums = [1,2,3,4]\n",
    "Output: false\n",
    "Explanation: There is no 132 pattern in the sequence.\n",
    "Example 2:\n",
    "\n",
    "Input: nums = [3,1,4,2]\n",
    "Output: true\n",
    "Explanation: There is a 132 pattern in the sequence: [1, 4, 2].\n",
    "'''\n",
    "\n",
    "class Solution:\n",
    "    def find132pattern(self, nums: List[int]) -> bool:\n",
    "        \n",
    "        \n",
    "        stack = []      #[element, minimum]\n",
    "        minStack = nums[0]\n",
    "        \n",
    "        \n",
    "        for n in nums[1:]:\n",
    "            \n",
    "            while stack and n >= stack[-1][0]:\n",
    "                stack.pop()\n",
    "            \n",
    "            #Now the top element of the stack > n\n",
    "            #Since the while loop have removed all elements < n\n",
    "            if stack and stack[-1][1] < n:\n",
    "                return True\n",
    "            \n",
    "            \n",
    "            stack.append([n, minStack])\n",
    "            minStack = min(minStack, n)\n",
    "            \n",
    "            \n",
    "        return False\n",
    "    \n",
    "    "
   ]
  }
 ],
 "metadata": {
  "kernelspec": {
   "display_name": "Python 3",
   "language": "python",
   "name": "python3"
  },
  "language_info": {
   "codemirror_mode": {
    "name": "ipython",
    "version": 3
   },
   "file_extension": ".py",
   "mimetype": "text/x-python",
   "name": "python",
   "nbconvert_exporter": "python",
   "pygments_lexer": "ipython3",
   "version": "3.8.5"
  }
 },
 "nbformat": 4,
 "nbformat_minor": 4
}
