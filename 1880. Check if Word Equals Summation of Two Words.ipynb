{
 "cells": [
  {
   "cell_type": "code",
   "execution_count": null,
   "metadata": {},
   "outputs": [],
   "source": [
    "'''\n",
    "1880. Check if Word Equals Summation of Two Words\n",
    "The letter value of a letter is its position in the alphabet starting from 0 (i.e. 'a' -> 0, 'b' -> 1, 'c' -> 2, etc.).\n",
    "\n",
    "The numerical value of some string of lowercase English letters s is the concatenation of the letter values of \n",
    "each letter in s, which is then converted into an integer.\n",
    "\n",
    "For example, if s = \"acb\", we concatenate each letter's letter value, resulting in \"021\". \n",
    "After converting it, we get 21.You are given three strings firstWord, secondWord, and targetWord, \n",
    "each consisting of lowercase English letters 'a' through 'j' inclusive.\n",
    "\n",
    "Return true if the summation of the numerical values of firstWord and secondWord equals the numerical value of targetWord, \n",
    "or false otherwise.\n",
    "'''\n",
    "\n",
    "class Solution:\n",
    "    def isSumEqual(self, firstWord: str, secondWord: str, targetWord: str) -> bool:\n",
    "        \n",
    "        summation = self.find_sum(firstWord) + self.find_sum(secondWord)\n",
    "                                  \n",
    "        return summation == self.find_sum(targetWord)\n",
    "    \n",
    "    \n",
    "    def find_sum(self,word):\n",
    "        \n",
    "        num = \"\"\n",
    "        for char in word:\n",
    "            num += str(ord(char)-97)\n",
    "        \n",
    "        return int(num)\n",
    "            g"
   ]
  }
 ],
 "metadata": {
  "kernelspec": {
   "display_name": "Python 3",
   "language": "python",
   "name": "python3"
  },
  "language_info": {
   "codemirror_mode": {
    "name": "ipython",
    "version": 3
   },
   "file_extension": ".py",
   "mimetype": "text/x-python",
   "name": "python",
   "nbconvert_exporter": "python",
   "pygments_lexer": "ipython3",
   "version": "3.8.5"
  }
 },
 "nbformat": 4,
 "nbformat_minor": 4
}
