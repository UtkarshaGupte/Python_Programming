{
 "cells": [
  {
   "cell_type": "code",
   "execution_count": null,
   "metadata": {},
   "outputs": [],
   "source": [
    "'''\n",
    "3. Longest Substring Without Repeating Characters\n",
    "Given a string s, find the length of the longest substring without repeating characters.\n",
    "'''\n",
    "\n",
    "class Solution:\n",
    "    def lengthOfLongestSubstring(self, s: str) -> int:\n",
    "\n",
    "        my_dict = {}\n",
    "        \n",
    "        left, right = 0, 0\n",
    "        max_length = 0\n",
    "        \n",
    "        while right<len(s):\n",
    "            \n",
    "            if s[right] in my_dict:\n",
    "                \n",
    "                my_dict[s[left]] -= 1\n",
    "                if my_dict[s[left]] == 0:\n",
    "                    del my_dict[s[left]]\n",
    "                left += 1\n",
    "                \n",
    "            else:\n",
    "                \n",
    "                my_dict[s[right]] = my_dict.get(s[right],0) + 1\n",
    "                right += 1\n",
    "                \n",
    "            max_length = max(max_length, right - left)\n",
    "                           \n",
    "            \n",
    "        return max_length\n",
    "  "
   ]
  }
 ],
 "metadata": {
  "kernelspec": {
   "display_name": "Python 3",
   "language": "python",
   "name": "python3"
  },
  "language_info": {
   "codemirror_mode": {
    "name": "ipython",
    "version": 3
   },
   "file_extension": ".py",
   "mimetype": "text/x-python",
   "name": "python",
   "nbconvert_exporter": "python",
   "pygments_lexer": "ipython3",
   "version": "3.8.5"
  }
 },
 "nbformat": 4,
 "nbformat_minor": 4
}
