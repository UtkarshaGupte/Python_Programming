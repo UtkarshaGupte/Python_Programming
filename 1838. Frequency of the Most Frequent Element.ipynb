{
 "cells": [
  {
   "cell_type": "code",
   "execution_count": null,
   "metadata": {},
   "outputs": [],
   "source": [
    "'''\n",
    "1838. Frequency of the Most Frequent Element\n",
    "The frequency of an element is the number of times it occurs in an array.\n",
    "\n",
    "You are given an integer array nums and an integer k. In one operation, \n",
    "you can choose an index of nums and increment the element at that index by 1.\n",
    "\n",
    "Return the maximum possible frequency of an element after performing at most k operations.\n",
    "\n",
    "'''\n",
    "\n",
    "class Solution:\n",
    "    def maxFrequency(self, nums: List[int], k: int) -> int:\n",
    "        \n",
    "        #Sorting the array\n",
    "        nums.sort()\n",
    "        \n",
    "        left, right = 0, 0\n",
    "        max_freq, total = 0, 0\n",
    "        \n",
    "        while right < len(nums):\n",
    "            \n",
    "            total += nums[right]\n",
    "            \n",
    "            #Important condition -> If true then shrink the window\n",
    "            while nums[right] * (right - left + 1) > total + k:\n",
    "                total -= nums[left]\n",
    "                left += 1\n",
    "            \n",
    "            max_freq = max(max_freq, right - left + 1)\n",
    "            \n",
    "            right += 1\n",
    "            \n",
    "        return max_freq\n",
    "                \n"
   ]
  }
 ],
 "metadata": {
  "kernelspec": {
   "display_name": "Python 3",
   "language": "python",
   "name": "python3"
  },
  "language_info": {
   "codemirror_mode": {
    "name": "ipython",
    "version": 3
   },
   "file_extension": ".py",
   "mimetype": "text/x-python",
   "name": "python",
   "nbconvert_exporter": "python",
   "pygments_lexer": "ipython3",
   "version": "3.8.5"
  }
 },
 "nbformat": 4,
 "nbformat_minor": 4
}
