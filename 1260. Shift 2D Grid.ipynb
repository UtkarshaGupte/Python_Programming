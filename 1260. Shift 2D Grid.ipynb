{
 "cells": [
  {
   "cell_type": "code",
   "execution_count": null,
   "metadata": {},
   "outputs": [],
   "source": [
    "'''\n",
    "1260. Shift 2D Grid\n",
    "Given a 2D grid of size m x n and an integer k. You need to shift the grid k times.\n",
    "\n",
    "In one shift operation:\n",
    "\n",
    "Element at grid[i][j] moves to grid[i][j + 1].\n",
    "Element at grid[i][n - 1] moves to grid[i + 1][0].\n",
    "Element at grid[m - 1][n - 1] moves to grid[0][0].\n",
    "Return the 2D grid after applying shift operation k times.\n",
    "\n",
    " \n",
    "\n",
    "Example 1:\n",
    "\n",
    "\n",
    "Input: grid = [[1,2,3],[4,5,6],[7,8,9]], k = 1\n",
    "Output: [[9,1,2],[3,4,5],[6,7,8]]\n",
    "Example 2:\n",
    "\n",
    "\n",
    "Input: grid = [[3,8,1,9],[19,7,2,5],[4,6,11,10],[12,0,21,13]], k = 4\n",
    "Output: [[12,0,21,13],[3,8,1,9],[19,7,2,5],[4,6,11,10]]\n",
    "\n",
    "'''\n",
    "\n",
    "class Solution:\n",
    "    def shiftGrid(self, grid: List[List[int]], k: int) -> List[List[int]]:\n",
    "        \n",
    "        tRows, tCols = len(grid), len(grid[0])\n",
    "        #print(tRows, tCols)\n",
    "        \n",
    "        def TwoDtoOneD(r, c):\n",
    "            return r * tCols + c\n",
    "        \n",
    "        def OneDtoTwoD(pos):\n",
    "            return [pos//tCols, pos%tCols]\n",
    "        \n",
    "        OneDCount = tRows*tCols\n",
    "        \n",
    "        res = [[0] * tCols for i in range(tRows)]\n",
    "        \n",
    "        for row in range(tRows):\n",
    "            for col in range(tCols):\n",
    "                \n",
    "                #Two Dimension to One Dimension\n",
    "                newOneDPos =  (TwoDtoOneD(row,col) + k) % (OneDCount)\n",
    "                \n",
    "                #One Dimension to Two Dimension\n",
    "                newR, newC = OneDtoTwoD(newOneDPos)\n",
    "                res[newR][newC] = grid[row][col]\n",
    "                \n",
    "                \n",
    "        return res\n",
    "                "
   ]
  }
 ],
 "metadata": {
  "kernelspec": {
   "display_name": "Python 3",
   "language": "python",
   "name": "python3"
  },
  "language_info": {
   "codemirror_mode": {
    "name": "ipython",
    "version": 3
   },
   "file_extension": ".py",
   "mimetype": "text/x-python",
   "name": "python",
   "nbconvert_exporter": "python",
   "pygments_lexer": "ipython3",
   "version": "3.8.5"
  }
 },
 "nbformat": 4,
 "nbformat_minor": 4
}
