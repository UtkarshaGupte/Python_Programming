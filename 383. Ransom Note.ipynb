{
 "cells": [
  {
   "cell_type": "code",
   "execution_count": null,
   "metadata": {},
   "outputs": [],
   "source": [
    "'''\n",
    "383. Ransom Note\n",
    "Given two strings ransomNote and magazine, return true if ransomNote can be constructed by using the \n",
    "letters from magazine and false otherwise.\n",
    "\n",
    "Each letter in magazine can only be used once in ransomNote.\n",
    "\n",
    "Example 1:\n",
    "Input: ransomNote = \"a\", magazine = \"b\"\n",
    "Output: false\n",
    "\n",
    "Example 2:\n",
    "Input: ransomNote = \"aa\", magazine = \"ab\"\n",
    "Output: false\n",
    "\n",
    "Example 3:\n",
    "Input: ransomNote = \"aa\", magazine = \"aab\"\n",
    "Output: true\n",
    "\n",
    "Time/Space Complexity:\n",
    "Time - O(m+n) where m is the length of the magazine and n is the length of ransomNote. But since m>n it will be ~ O(m)\n",
    "Space - O(1) because the worst-case scenario will have 26 characters.\n",
    "'''\n",
    "\n",
    "class Solution:\n",
    "    def canConstruct(self, ransomNote: str, magazine: str) -> bool:\n",
    "        \n",
    "        if len(ransomNote) > len(magazine):\n",
    "            return False\n",
    "        \n",
    "        magazine_charDict = {}\n",
    "        \n",
    "        for char in magazine:\n",
    "            magazine_charDict[char] = magazine_charDict.get(char, 0) + 1\n",
    "        \n",
    "        print(magazine_charDict)\n",
    "        for char in ransomNote:\n",
    "            \n",
    "            if char not in magazine_charDict or magazine_charDict[char] == 0:\n",
    "                return False\n",
    "            \n",
    "            magazine_charDict[char] -= 1\n",
    "            \n",
    "            \n",
    "        return True\n",
    "        \n",
    "        \n",
    "        "
   ]
  }
 ],
 "metadata": {
  "kernelspec": {
   "display_name": "Python 3",
   "language": "python",
   "name": "python3"
  },
  "language_info": {
   "codemirror_mode": {
    "name": "ipython",
    "version": 3
   },
   "file_extension": ".py",
   "mimetype": "text/x-python",
   "name": "python",
   "nbconvert_exporter": "python",
   "pygments_lexer": "ipython3",
   "version": "3.8.5"
  }
 },
 "nbformat": 4,
 "nbformat_minor": 4
}
