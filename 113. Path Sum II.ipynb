{
 "cells": [
  {
   "cell_type": "code",
   "execution_count": 1,
   "metadata": {},
   "outputs": [],
   "source": [
    "'''\n",
    "113. Path Sum II\n",
    "Given the root of a binary tree and an integer targetSum, return all root-to-leaf paths \n",
    "where the sum of the node values in the path equals targetSum. Each path should be returned as a list of the node values, \n",
    "not node references.\n",
    "\n",
    "A root-to-leaf path is a path starting from the root and ending at any leaf node. A leaf is a node with no children.\n",
    "'''\n",
    "\n",
    "# Definition for a binary tree node.\n",
    "class TreeNode:\n",
    "    def __init__(self, val=0, left=None, right=None):\n",
    "        self.val = val\n",
    "        self.left = left\n",
    "        self.right = right\n",
    "        \n",
    "\n",
    "def pathSum(root, targetSum):\n",
    "\n",
    "    if not root:\n",
    "        return []\n",
    "\n",
    "    allPath = []\n",
    "    find_path(root, targetSum, [], allPath)\n",
    "\n",
    "    return allPath\n",
    "\n",
    "\n",
    "\n",
    "def find_path(root, targetSum, currentPath, allPath):\n",
    "\n",
    "    if not root:\n",
    "        return\n",
    "\n",
    "    if root.val == targetSum and root.left is None and root.right is None:\n",
    "        currentPath.append(root.val)\n",
    "        allPath.append(currentPath)\n",
    "\n",
    "    targetSum -= root.val \n",
    "\n",
    "    find_path(root.left, targetSum, currentPath + [root.val], allPath )\n",
    "    find_path(root.right, targetSum, currentPath + [root.val], allPath )\n",
    "    "
   ]
  },
  {
   "cell_type": "code",
   "execution_count": 2,
   "metadata": {},
   "outputs": [
    {
     "name": "stdout",
     "output_type": "stream",
     "text": [
      "Tree paths with sum 23: [[12, 7, 4], [12, 1, 10]]\n"
     ]
    }
   ],
   "source": [
    "def main():\n",
    "\n",
    "    root = TreeNode(12)\n",
    "    root.left = TreeNode(7)\n",
    "    root.right = TreeNode(1)\n",
    "    root.left.left = TreeNode(4)\n",
    "    root.right.left = TreeNode(10)\n",
    "    root.right.right = TreeNode(5)\n",
    "    sum = 23\n",
    "    print(\"Tree paths with sum \" + str(sum) +\n",
    "        \": \" + str(pathSum(root, sum)))\n",
    "\n",
    "\n",
    "main()"
   ]
  },
  {
   "cell_type": "code",
   "execution_count": null,
   "metadata": {},
   "outputs": [],
   "source": []
  }
 ],
 "metadata": {
  "kernelspec": {
   "display_name": "Python 3",
   "language": "python",
   "name": "python3"
  },
  "language_info": {
   "codemirror_mode": {
    "name": "ipython",
    "version": 3
   },
   "file_extension": ".py",
   "mimetype": "text/x-python",
   "name": "python",
   "nbconvert_exporter": "python",
   "pygments_lexer": "ipython3",
   "version": "3.8.5"
  }
 },
 "nbformat": 4,
 "nbformat_minor": 4
}
