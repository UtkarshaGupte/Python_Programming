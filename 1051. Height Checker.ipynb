{
 "cells": [
  {
   "cell_type": "code",
   "execution_count": null,
   "metadata": {},
   "outputs": [],
   "source": [
    "'''\n",
    "1051. Height Checker\n",
    "A school is trying to take an annual photo of all the students. \n",
    "The students are asked to stand in a single file line in non-decreasing order by height. \n",
    "Let this ordering be represented by the integer array expected where expected[i] is the expected height of the ith student \n",
    "in line.\n",
    "\n",
    "You are given an integer array heights representing the current order that the students are standing in. \n",
    "Each heights[i] is the height of the ith student in line (0-indexed).\n",
    "\n",
    "Return the number of indices where heights[i] != expected[i].\n",
    "'''\n",
    "\n",
    "class Solution:\n",
    "    def heightChecker(self, heights: List[int]) -> int:\n",
    "        \n",
    "        count = 0\n",
    "        \n",
    "        temp = sorted(heights)\n",
    "        \n",
    "        for i in range(len(heights)):\n",
    "            \n",
    "            if heights[i] != temp[i]:\n",
    "                count += 1\n",
    "                \n",
    "        return count\n",
    "                \n",
    "        \n",
    "        "
   ]
  }
 ],
 "metadata": {
  "kernelspec": {
   "display_name": "Python 3",
   "language": "python",
   "name": "python3"
  },
  "language_info": {
   "codemirror_mode": {
    "name": "ipython",
    "version": 3
   },
   "file_extension": ".py",
   "mimetype": "text/x-python",
   "name": "python",
   "nbconvert_exporter": "python",
   "pygments_lexer": "ipython3",
   "version": "3.8.5"
  }
 },
 "nbformat": 4,
 "nbformat_minor": 4
}
