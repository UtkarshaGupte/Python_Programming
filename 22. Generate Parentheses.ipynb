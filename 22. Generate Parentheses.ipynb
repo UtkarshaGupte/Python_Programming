{
 "cells": [
  {
   "cell_type": "code",
   "execution_count": null,
   "metadata": {},
   "outputs": [],
   "source": [
    "'''\n",
    "22. Generate Parentheses\n",
    "Given n pairs of parentheses, write a function to generate all combinations of well-formed parentheses.\n",
    "\n",
    "Example 1:\n",
    "Input: n = 3\n",
    "Output: [\"((()))\",\"(()())\",\"(())()\",\"()(())\",\"()()()\"]\n",
    "\n",
    "Example 2:\n",
    "Input: n = 1\n",
    "Output: [\"()\"]\n",
    "'''\n",
    "\n",
    "class Solution:\n",
    "    def generateParenthesis(self, n: int) -> List[str]:\n",
    "        \n",
    "        stack = []\n",
    "        res = []\n",
    "        \n",
    "        def backtrack(openBracket, closeBracket):\n",
    "            \n",
    "            if openBracket == closeBracket == n:\n",
    "                res.append(\"\".join(stack))\n",
    "                return\n",
    "            \n",
    "            if openBracket < n:\n",
    "                stack.append(\"(\")\n",
    "                backtrack(openBracket + 1, closeBracket)\n",
    "                stack.pop()\n",
    "                \n",
    "                \n",
    "            if closeBracket < openBracket:\n",
    "                stack.append(\")\")\n",
    "                backtrack(openBracket, closeBracket + 1)\n",
    "                stack.pop()\n",
    "                \n",
    "        backtrack(0,0)\n",
    "        \n",
    "        return res\n",
    "    \n",
    "    \n",
    "    "
   ]
  }
 ],
 "metadata": {
  "kernelspec": {
   "display_name": "Python 3",
   "language": "python",
   "name": "python3"
  },
  "language_info": {
   "codemirror_mode": {
    "name": "ipython",
    "version": 3
   },
   "file_extension": ".py",
   "mimetype": "text/x-python",
   "name": "python",
   "nbconvert_exporter": "python",
   "pygments_lexer": "ipython3",
   "version": "3.8.5"
  }
 },
 "nbformat": 4,
 "nbformat_minor": 4
}
