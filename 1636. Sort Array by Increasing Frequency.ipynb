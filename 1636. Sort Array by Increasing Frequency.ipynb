{
 "cells": [
  {
   "cell_type": "code",
   "execution_count": null,
   "metadata": {},
   "outputs": [],
   "source": [
    "'''\n",
    "1636. Sort Array by Increasing Frequency\n",
    "Given an array of integers nums, sort the array in increasing order based on the frequency of the values. \n",
    "If multiple values have the same frequency, sort them in decreasing order.\n",
    "\n",
    "Return the sorted array.\n",
    "'''\n",
    "\n",
    "class Solution:\n",
    "    def frequencySort(self, nums: List[int]) -> List[int]:\n",
    "        \n",
    "        my_dict = {}\n",
    "        \n",
    "        for i in range(len(nums)):\n",
    "            \n",
    "            my_dict[nums[i]] = my_dict.get(nums[i],0) + 1\n",
    "            \n",
    "        nums.sort(key = lambda x:(my_dict[x],-x))    \n",
    "        #-x to sort them in descending order for values with same frequency\n",
    "        \n",
    "        return nums\n",
    "    \n",
    "    \n"
   ]
  }
 ],
 "metadata": {
  "kernelspec": {
   "display_name": "Python 3",
   "language": "python",
   "name": "python3"
  },
  "language_info": {
   "codemirror_mode": {
    "name": "ipython",
    "version": 3
   },
   "file_extension": ".py",
   "mimetype": "text/x-python",
   "name": "python",
   "nbconvert_exporter": "python",
   "pygments_lexer": "ipython3",
   "version": "3.8.5"
  }
 },
 "nbformat": 4,
 "nbformat_minor": 4
}
