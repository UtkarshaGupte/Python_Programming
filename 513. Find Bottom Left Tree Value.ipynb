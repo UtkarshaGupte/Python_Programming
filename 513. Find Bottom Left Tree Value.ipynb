{
 "cells": [
  {
   "cell_type": "code",
   "execution_count": null,
   "metadata": {},
   "outputs": [],
   "source": [
    "'''\n",
    "513. Find Bottom Left Tree Value\n",
    "Given the root of a binary tree, return the leftmost value in the last row of the tree.\n",
    "'''\n",
    "\n",
    "# Definition for a binary tree node.\n",
    "# class TreeNode:\n",
    "#     def __init__(self, val=0, left=None, right=None):\n",
    "#         self.val = val\n",
    "#         self.left = left\n",
    "#         self.right = right\n",
    "class Solution:\n",
    "    def findBottomLeftValue(self, root: Optional[TreeNode]) -> int:\n",
    "        \n",
    "        q = deque([root])\n",
    "        \n",
    "        while q:\n",
    "            \n",
    "            node = q.popleft()\n",
    "            \n",
    "            if node.right:\n",
    "                q.append(node.right)\n",
    "                \n",
    "            if node.left:\n",
    "                q.append(node.left)\n",
    "                \n",
    "                \n",
    "        return node.val\n",
    "        "
   ]
  }
 ],
 "metadata": {
  "kernelspec": {
   "display_name": "Python 3",
   "language": "python",
   "name": "python3"
  },
  "language_info": {
   "codemirror_mode": {
    "name": "ipython",
    "version": 3
   },
   "file_extension": ".py",
   "mimetype": "text/x-python",
   "name": "python",
   "nbconvert_exporter": "python",
   "pygments_lexer": "ipython3",
   "version": "3.8.5"
  }
 },
 "nbformat": 4,
 "nbformat_minor": 4
}
