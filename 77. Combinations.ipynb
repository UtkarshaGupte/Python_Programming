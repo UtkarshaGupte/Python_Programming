{
 "cells": [
  {
   "cell_type": "code",
   "execution_count": null,
   "metadata": {},
   "outputs": [],
   "source": [
    "'''\n",
    "77. Combinations\n",
    "Given two integers n and k, return all possible combinations of k numbers out of the range [1, n].\n",
    "\n",
    "You may return the answer in any order.\n",
    "'''\n",
    "\n",
    "class Solution:\n",
    "    def combine(self, n: int, k: int) -> List[List[int]]:\n",
    "        \n",
    "        res = []\n",
    "        \n",
    "        def backtrack(start, comb):\n",
    "            if len(comb) == k:\n",
    "                res.append(comb[:])\n",
    "                return\n",
    "            \n",
    "            for i in range(start, n+1):\n",
    "                \n",
    "                comb.append(i)\n",
    "                \n",
    "                backtrack(i+1, comb)\n",
    "                \n",
    "                comb.pop()\n",
    "                \n",
    "        backtrack(1,[])      \n",
    "            \n",
    "        return res\n",
    "        \n",
    "        \n",
    "        "
   ]
  }
 ],
 "metadata": {
  "kernelspec": {
   "display_name": "Python 3",
   "language": "python",
   "name": "python3"
  },
  "language_info": {
   "codemirror_mode": {
    "name": "ipython",
    "version": 3
   },
   "file_extension": ".py",
   "mimetype": "text/x-python",
   "name": "python",
   "nbconvert_exporter": "python",
   "pygments_lexer": "ipython3",
   "version": "3.8.5"
  }
 },
 "nbformat": 4,
 "nbformat_minor": 4
}
