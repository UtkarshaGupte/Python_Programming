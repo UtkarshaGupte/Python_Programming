{
 "cells": [
  {
   "cell_type": "code",
   "execution_count": null,
   "metadata": {},
   "outputs": [],
   "source": [
    "'''\n",
    "1405. Longest Happy String\n",
    "A string s is called happy if it satisfies the following conditions:\n",
    "\n",
    "s only contains the letters 'a', 'b', and 'c'.\n",
    "s does not contain any of \"aaa\", \"bbb\", or \"ccc\" as a substring.\n",
    "s contains at most a occurrences of the letter 'a'.\n",
    "s contains at most b occurrences of the letter 'b'.\n",
    "s contains at most c occurrences of the letter 'c'.\n",
    "Given three integers a, b, and c, return the longest possible happy string. \n",
    "If there are multiple longest happy strings, return any of them. If there is no such string, return the empty string \"\".\n",
    "\n",
    "A substring is a contiguous sequence of characters within a string.\n",
    "'''\n",
    "\n",
    "class Solution:\n",
    "    def longestDiverseString(self, a: int, b: int, c: int) -> str:        \n",
    "        res = \"\"\n",
    "        maxHeap = []\n",
    "        \n",
    "        #Pushing the counts and letters in the priority queue\n",
    "        #adding negative values so that the pop method pops the largest value\n",
    "        #Because pop method will return the smallest and we want the largest\n",
    "        for count, letter in [(-a, \"a\"), (-b, \"b\"), (-c, \"c\")]:\n",
    "            if count != 0:\n",
    "                heapq.heappush(maxHeap, (count, letter))\n",
    "              \n",
    "        while maxHeap:\n",
    "            \n",
    "            count, letter = heapq.heappop(maxHeap)\n",
    "            \n",
    "            if len(res) > 1 and res[-1] == res[-2] == letter:\n",
    "                \n",
    "                if not maxHeap:\n",
    "                    break    #If the maxHeap is empty\n",
    "                    \n",
    "                #Pop the next highest occuring letter\n",
    "                count2, letter2 = heapq.heappop(maxHeap)\n",
    "                \n",
    "                res += letter2\n",
    "                count2 += 1         #Incrementing because the counts are stored as negative\n",
    "                \n",
    "                if count2:\n",
    "                    #Push back the letter and updated count to the heap\n",
    "                    heapq.heappush(maxHeap, (count2, letter2))\n",
    "                \n",
    "            else:\n",
    "                res += letter\n",
    "                count += 1\n",
    "            if count:    \n",
    "                heapq.heappush(maxHeap, (count,letter))\n",
    "                \n",
    "        return res\n",
    "    "
   ]
  }
 ],
 "metadata": {
  "kernelspec": {
   "display_name": "Python 3",
   "language": "python",
   "name": "python3"
  },
  "language_info": {
   "codemirror_mode": {
    "name": "ipython",
    "version": 3
   },
   "file_extension": ".py",
   "mimetype": "text/x-python",
   "name": "python",
   "nbconvert_exporter": "python",
   "pygments_lexer": "ipython3",
   "version": "3.8.5"
  }
 },
 "nbformat": 4,
 "nbformat_minor": 4
}
