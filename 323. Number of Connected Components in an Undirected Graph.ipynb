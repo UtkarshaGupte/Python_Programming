{
 "cells": [
  {
   "cell_type": "code",
   "execution_count": null,
   "metadata": {},
   "outputs": [],
   "source": [
    "'''\n",
    "323. Number of Connected Components in an Undirected Graph\n",
    "\n",
    "You have a graph of n nodes. You are given an integer n and an array edges where edges[i] = [ai, bi] \n",
    "indicates that there is an edge between ai and bi in the graph.\n",
    "\n",
    "Return the number of connected components in the graph.\n",
    "\n",
    "Example 1:\n",
    "Input: n = 5, edges = [[0,1],[1,2],[3,4]]\n",
    "Output: 2\n",
    "\n",
    "Example 2:\n",
    "Input: n = 5, edges = [[0,1],[1,2],[2,3],[3,4]]\n",
    "Output: 1\n",
    "\n",
    "Time/Space Complexities:\n",
    "Time: O(E) - E is the number of edges\n",
    "Space: O(N) - N is the number of nodes\n",
    "'''\n",
    "\n",
    "class Solution:\n",
    "    def countComponents(self, n: int, edges: List[List[int]]) -> int:\n",
    "        \n",
    "        \n",
    "        neighbours_dict = {i:[] for i in range(n)}\n",
    "        \n",
    "        for a,b in edges:\n",
    "            \n",
    "            #Because it is an undirected graph \n",
    "            neighbours_dict[a].append(b)\n",
    "            neighbours_dict[b].append(a)             \n",
    "            \n",
    "        isVisited = set()\n",
    "        count = 0\n",
    "        \n",
    "        def dfs(node):\n",
    "            \n",
    "            for neighbour in neighbours_dict[node]:\n",
    "                if neighbour not in isVisited:\n",
    "                    isVisited.add(neighbour)\n",
    "                    dfs(neighbour)\n",
    "        \n",
    "        \n",
    "        \n",
    "        for node in neighbours_dict:\n",
    "            if node not in isVisited:\n",
    "                isVisited.add(node)\n",
    "                dfs(node)\n",
    "                count += 1\n",
    "        \n",
    "        \n",
    "        return count"
   ]
  }
 ],
 "metadata": {
  "kernelspec": {
   "display_name": "Python 3",
   "language": "python",
   "name": "python3"
  },
  "language_info": {
   "codemirror_mode": {
    "name": "ipython",
    "version": 3
   },
   "file_extension": ".py",
   "mimetype": "text/x-python",
   "name": "python",
   "nbconvert_exporter": "python",
   "pygments_lexer": "ipython3",
   "version": "3.8.5"
  }
 },
 "nbformat": 4,
 "nbformat_minor": 4
}
