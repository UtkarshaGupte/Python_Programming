{
 "cells": [
  {
   "cell_type": "code",
   "execution_count": null,
   "metadata": {},
   "outputs": [],
   "source": [
    "'''\n",
    "104. Maximum Depth of Binary Tree\n",
    "Given the root of a binary tree, return its maximum depth.\n",
    "\n",
    "A binary tree's maximum depth is the number of nodes along the longest path from the root node \n",
    "down to the farthest leaf node.\n",
    "'''\n",
    "\n",
    "# Definition for a binary tree node.\n",
    "# class TreeNode:\n",
    "#     def __init__(self, val=0, left=None, right=None):\n",
    "#         self.val = val\n",
    "#         self.left = left\n",
    "#         self.right = right\n",
    "class Solution:\n",
    "    def maxDepth(self, root: Optional[TreeNode]) -> int:\n",
    "        \n",
    "        count = 0\n",
    "        \n",
    "        if root is None:\n",
    "            return count\n",
    "        \n",
    "        q = deque([root])\n",
    "              \n",
    "        while q:\n",
    "                     \n",
    "            for i in range(len(q)):\n",
    "                \n",
    "                node = q.popleft()\n",
    "                \n",
    "                if node.left:\n",
    "                    q.append(node.left)\n",
    "\n",
    "                if node.right:\n",
    "                    q.append(node.right)\n",
    "                    \n",
    "            count += 1\n",
    "            \n",
    "            \n",
    "        return count\n",
    "                    "
   ]
  }
 ],
 "metadata": {
  "kernelspec": {
   "display_name": "Python 3",
   "language": "python",
   "name": "python3"
  },
  "language_info": {
   "codemirror_mode": {
    "name": "ipython",
    "version": 3
   },
   "file_extension": ".py",
   "mimetype": "text/x-python",
   "name": "python",
   "nbconvert_exporter": "python",
   "pygments_lexer": "ipython3",
   "version": "3.8.5"
  }
 },
 "nbformat": 4,
 "nbformat_minor": 4
}
