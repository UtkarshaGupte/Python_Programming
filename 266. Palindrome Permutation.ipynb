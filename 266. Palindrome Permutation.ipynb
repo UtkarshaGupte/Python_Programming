{
 "cells": [
  {
   "cell_type": "code",
   "execution_count": null,
   "metadata": {},
   "outputs": [],
   "source": [
    "'''\n",
    "266. Palindrome Permutation\n",
    "Given a string s, return true if a permutation of the string could form a palindrome.\n",
    "'''\n",
    "\n",
    "class Solution:\n",
    "    def canPermutePalindrome(self, s: str) -> bool:\n",
    "        \n",
    "        single_ocurrence_chars = set()\n",
    "        \n",
    "        \n",
    "        for i in s:\n",
    "            if i not in single_ocurrence_chars:\n",
    "                single_ocurrence_chars.add(i)\n",
    "                \n",
    "            else:\n",
    "                single_ocurrence_chars.remove(i)\n",
    "                \n",
    "                \n",
    "        if len(single_ocurrence_chars) > 1:\n",
    "            return False\n",
    "        else:\n",
    "            return True\n",
    "             "
   ]
  }
 ],
 "metadata": {
  "kernelspec": {
   "display_name": "Python 3",
   "language": "python",
   "name": "python3"
  },
  "language_info": {
   "codemirror_mode": {
    "name": "ipython",
    "version": 3
   },
   "file_extension": ".py",
   "mimetype": "text/x-python",
   "name": "python",
   "nbconvert_exporter": "python",
   "pygments_lexer": "ipython3",
   "version": "3.8.5"
  }
 },
 "nbformat": 4,
 "nbformat_minor": 4
}
