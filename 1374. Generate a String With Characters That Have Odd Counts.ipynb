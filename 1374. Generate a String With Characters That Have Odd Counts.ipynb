{
 "cells": [
  {
   "cell_type": "code",
   "execution_count": null,
   "metadata": {},
   "outputs": [],
   "source": [
    "'''\n",
    "1374. Generate a String With Characters That Have Odd Counts\n",
    "Given an integer n, return a string with n characters such that each character in such string occurs an odd number of times.\n",
    "\n",
    "The returned string must contain only lowercase English letters. If there are multiples valid strings, return any of them. \n",
    "'''\n",
    "\n",
    "class Solution:\n",
    "    def generateTheString(self, n: int) -> str:\n",
    "        \n",
    "        res = \"\"\n",
    "        \n",
    "        if n%2 != 0:\n",
    "            res = \"a\" * n\n",
    "            \n",
    "        else:            \n",
    "            res = \"a\"* (n-1) + \"b\"\n",
    "                \n",
    "        return res\n",
    "    \n",
    "    \n"
   ]
  }
 ],
 "metadata": {
  "kernelspec": {
   "display_name": "Python 3",
   "language": "python",
   "name": "python3"
  },
  "language_info": {
   "codemirror_mode": {
    "name": "ipython",
    "version": 3
   },
   "file_extension": ".py",
   "mimetype": "text/x-python",
   "name": "python",
   "nbconvert_exporter": "python",
   "pygments_lexer": "ipython3",
   "version": "3.8.5"
  }
 },
 "nbformat": 4,
 "nbformat_minor": 4
}
