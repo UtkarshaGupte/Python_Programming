{
 "cells": [
  {
   "cell_type": "code",
   "execution_count": null,
   "metadata": {},
   "outputs": [],
   "source": [
    "'''\n",
    "286. Walls and Gates\n",
    "You are given an m x n grid rooms initialized with these three possible values.\n",
    "\n",
    "-1 A wall or an obstacle.\n",
    "0 A gate.\n",
    "INF Infinity means an empty room. We use the value 231 - 1 = 2147483647 to represent INF as you may assume that the \n",
    "distance to a gate is less than 2147483647.\n",
    "Fill each empty room with the distance to its nearest gate. If it is impossible to reach a gate, \n",
    "it should be filled with INF.\n",
    "\n",
    "Ref- https://www.youtube.com/watch?v=e69C6xhiSQE\n",
    "'''\n",
    "\n",
    "class Solution:\n",
    "    def wallsAndGates(self, rooms: List[List[int]]) -> None:\n",
    "        \"\"\"\n",
    "        Do not return anything, modify rooms in-place instead.\n",
    "        \"\"\"        \n",
    "        rows, cols = len(rooms), len(rooms[0])\n",
    "        visited = set()\n",
    "        q = deque()\n",
    "        \n",
    "        def addroom(r,c):\n",
    "            if (r>=0 and r<rows and c>=0 and c<cols and (r,c) not in visited and \n",
    "               rooms[r][c] != -1):\n",
    "                q.append([r,c])\n",
    "                visited.add((r,c))\n",
    "            \n",
    "        #adding all the gate nodes in the queue and visited set\n",
    "        for i in range(rows):\n",
    "            for j in range(cols):                \n",
    "                if rooms[i][j] == 0:\n",
    "                    q.append([i,j])\n",
    "                    visited.add((i,j))\n",
    "                    \n",
    "                    \n",
    "        distance = 0\n",
    "        while q:            \n",
    "            for i in range(len(q)):\n",
    "                r,c = q.popleft()\n",
    "                \n",
    "                rooms[r][c] = distance\n",
    "                \n",
    "                #adding adjacent empty rooms\n",
    "                addroom(r-1, c)\n",
    "                addroom(r+1, c)\n",
    "                addroom(r, c-1)\n",
    "                addroom(r, c+1)\n",
    "                \n",
    "            distance += 1\n",
    "\n"
   ]
  }
 ],
 "metadata": {
  "kernelspec": {
   "display_name": "Python 3",
   "language": "python",
   "name": "python3"
  },
  "language_info": {
   "codemirror_mode": {
    "name": "ipython",
    "version": 3
   },
   "file_extension": ".py",
   "mimetype": "text/x-python",
   "name": "python",
   "nbconvert_exporter": "python",
   "pygments_lexer": "ipython3",
   "version": "3.8.5"
  }
 },
 "nbformat": 4,
 "nbformat_minor": 4
}
