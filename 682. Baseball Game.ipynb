{
 "cells": [
  {
   "cell_type": "code",
   "execution_count": null,
   "metadata": {},
   "outputs": [],
   "source": [
    "'''\n",
    "682. Baseball Game\n",
    "You are keeping score for a baseball game with strange rules. The game consists of several rounds, \n",
    "where the scores of past rounds may affect future rounds' scores.\n",
    "\n",
    "At the beginning of the game, you start with an empty record. You are given a list of strings ops, \n",
    "where ops[i] is the ith operation you must apply to the record and is one of the following:\n",
    "\n",
    "An integer x - Record a new score of x.\n",
    "\"+\" - Record a new score that is the sum of the previous two scores. \n",
    "It is guaranteed there will always be two previous scores.\n",
    "\"D\" - Record a new score that is double the previous score. It is guaranteed there will always be a previous score.\n",
    "\"C\" - Invalidate the previous score, removing it from the record. It is guaranteed there will always be a previous score.\n",
    "Return the sum of all the scores on the record.\n",
    "\n",
    "'''\n",
    "\n",
    "class Solution:\n",
    "    def calPoints(self, ops: List[str]) -> int:\n",
    "        \n",
    "        stack = []\n",
    "        \n",
    "        for op in ops:\n",
    "            \n",
    "            if op == \"+\":\n",
    "                stack.append(stack[-1] + stack[-2])\n",
    "                \n",
    "            elif op == \"D\":\n",
    "                stack.append(2*stack[-1])\n",
    "                \n",
    "            elif op == \"C\":\n",
    "                stack.pop()\n",
    "                \n",
    "            else:\n",
    "                stack.append(int(op))\n",
    "                \n",
    "                \n",
    "        return sum(stack)\n",
    "    \n",
    "    "
   ]
  }
 ],
 "metadata": {
  "kernelspec": {
   "display_name": "Python 3",
   "language": "python",
   "name": "python3"
  },
  "language_info": {
   "codemirror_mode": {
    "name": "ipython",
    "version": 3
   },
   "file_extension": ".py",
   "mimetype": "text/x-python",
   "name": "python",
   "nbconvert_exporter": "python",
   "pygments_lexer": "ipython3",
   "version": "3.8.5"
  }
 },
 "nbformat": 4,
 "nbformat_minor": 4
}
