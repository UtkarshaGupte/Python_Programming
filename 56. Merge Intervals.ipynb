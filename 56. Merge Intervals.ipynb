{
 "cells": [
  {
   "cell_type": "code",
   "execution_count": null,
   "metadata": {},
   "outputs": [],
   "source": [
    "'''\n",
    "56. Merge Intervals\n",
    "Given an array of intervals where intervals[i] = [starti, endi], merge all overlapping intervals, \n",
    "and return an array of the non-overlapping intervals that cover all the intervals in the input.\n",
    "'''\n",
    "\n",
    "\n",
    "def merge(intervals):\n",
    "\n",
    "    intervals.sort(key = lambda i : i[0])\n",
    "\n",
    "    output = [intervals[0]]  \n",
    "\n",
    "\n",
    "    for start, end in intervals[1:]:\n",
    "\n",
    "        if start <= output[-1][1]:\n",
    "\n",
    "            # [1,3], [2, 6] => [1,6]\n",
    "            output[-1][1] = max(output[-1][1], end) \n",
    "\n",
    "        else:\n",
    "\n",
    "            #[1,2] , [3,8] => [1,2], [3,8]\n",
    "            output.append([start, end])\n",
    "\n",
    "    return output\n",
    "\n",
    "\n",
    "        "
   ]
  },
  {
   "cell_type": "code",
   "execution_count": null,
   "metadata": {},
   "outputs": [],
   "source": []
  }
 ],
 "metadata": {
  "kernelspec": {
   "display_name": "Python 3",
   "language": "python",
   "name": "python3"
  },
  "language_info": {
   "codemirror_mode": {
    "name": "ipython",
    "version": 3
   },
   "file_extension": ".py",
   "mimetype": "text/x-python",
   "name": "python",
   "nbconvert_exporter": "python",
   "pygments_lexer": "ipython3",
   "version": "3.8.5"
  }
 },
 "nbformat": 4,
 "nbformat_minor": 4
}
