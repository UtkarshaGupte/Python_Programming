{
 "cells": [
  {
   "cell_type": "code",
   "execution_count": null,
   "metadata": {},
   "outputs": [],
   "source": [
    "'''\n",
    "\n",
    "'''\n",
    "\n",
    "class Solution:\n",
    "    def convertToTitle(self, columnNumber: int) -> str:\n",
    "        \n",
    "        res = \"\"\n",
    "\n",
    "\n",
    "        while columnNumber > 0:\n",
    "            \n",
    "            columnNumber = columnNumber - 1\n",
    "\n",
    "            charValue =  (columnNumber)%26\n",
    "\n",
    "            res += chr(ord(\"A\") + charValue)\n",
    "\n",
    "            columnNumber //= 26\n",
    "\n",
    "        return res[::-1]"
   ]
  }
 ],
 "metadata": {
  "kernelspec": {
   "display_name": "Python 3",
   "language": "python",
   "name": "python3"
  },
  "language_info": {
   "codemirror_mode": {
    "name": "ipython",
    "version": 3
   },
   "file_extension": ".py",
   "mimetype": "text/x-python",
   "name": "python",
   "nbconvert_exporter": "python",
   "pygments_lexer": "ipython3",
   "version": "3.8.5"
  }
 },
 "nbformat": 4,
 "nbformat_minor": 4
}
