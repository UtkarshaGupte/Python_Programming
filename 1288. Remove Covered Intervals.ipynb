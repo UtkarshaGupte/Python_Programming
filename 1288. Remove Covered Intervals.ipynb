{
 "cells": [
  {
   "cell_type": "code",
   "execution_count": null,
   "metadata": {},
   "outputs": [],
   "source": [
    "'''\n",
    "1288. Remove Covered Intervals\n",
    "Given an array intervals where intervals[i] = [li, ri] represent the interval [li, ri), \n",
    "remove all intervals that are covered by another interval in the list.\n",
    "\n",
    "The interval [a, b) is covered by the interval [c, d) if and only if c <= a and b <= d.\n",
    "\n",
    "Return the number of remaining intervals.\n",
    "'''\n",
    "\n",
    "class Solution:\n",
    "    def removeCoveredIntervals(self, intervals: List[List[int]]) -> int:\n",
    "        \n",
    "        #Sort the intervals by lower range in ascending order\n",
    "        #Sort it in descending order if the lower range is same\n",
    "        intervals.sort(key = lambda i: (i[0],-i[1]))\n",
    "        \n",
    "        res = [intervals[0]]\n",
    "        \n",
    "        for lower, upper in intervals[1:]:\n",
    "            \n",
    "            prevLower, prevUpper = res[-1]\n",
    "            \n",
    "            if lower >= prevLower and upper <= prevUpper:\n",
    "                continue            #Dont Do Anything\n",
    "                \n",
    "            res.append([lower,upper])\n",
    "            \n",
    "        return len(res)\n",
    "        "
   ]
  }
 ],
 "metadata": {
  "kernelspec": {
   "display_name": "Python 3",
   "language": "python",
   "name": "python3"
  },
  "language_info": {
   "codemirror_mode": {
    "name": "ipython",
    "version": 3
   },
   "file_extension": ".py",
   "mimetype": "text/x-python",
   "name": "python",
   "nbconvert_exporter": "python",
   "pygments_lexer": "ipython3",
   "version": "3.8.5"
  }
 },
 "nbformat": 4,
 "nbformat_minor": 4
}
