{
 "cells": [
  {
   "cell_type": "code",
   "execution_count": null,
   "metadata": {},
   "outputs": [],
   "source": [
    "'''\n",
    "101. Symmetric Tree\n",
    "Given the root of a binary tree, check whether it is a mirror of itself (i.e., symmetric around its center).\n",
    "'''\n",
    "\n",
    "# Definition for a binary tree node.\n",
    "# class TreeNode:\n",
    "#     def __init__(self, val=0, left=None, right=None):\n",
    "#         self.val = val\n",
    "#         self.left = left\n",
    "#         self.right = right\n",
    "class Solution:\n",
    "    \n",
    "    def dfs_check(self,left, right):\n",
    "        \n",
    "        if left is None and right is None:\n",
    "            return True\n",
    "        \n",
    "        if left is None or right is None:\n",
    "            return False\n",
    "        \n",
    "        if left.val == right.val:\n",
    "            left_node_check = self.dfs_check(left.left, right.right)\n",
    "            right_node_check = self.dfs_check(left.right, right.left)\n",
    "            return (left_node_check and right_node_check)\n",
    "        \n",
    "        return False\n",
    "            \n",
    "    \n",
    "    def isSymmetric(self, root: Optional[TreeNode]) -> bool:\n",
    "        return self.dfs_check(root.left, root.right)\n",
    "        "
   ]
  }
 ],
 "metadata": {
  "kernelspec": {
   "display_name": "Python 3",
   "language": "python",
   "name": "python3"
  },
  "language_info": {
   "codemirror_mode": {
    "name": "ipython",
    "version": 3
   },
   "file_extension": ".py",
   "mimetype": "text/x-python",
   "name": "python",
   "nbconvert_exporter": "python",
   "pygments_lexer": "ipython3",
   "version": "3.8.5"
  }
 },
 "nbformat": 4,
 "nbformat_minor": 4
}
