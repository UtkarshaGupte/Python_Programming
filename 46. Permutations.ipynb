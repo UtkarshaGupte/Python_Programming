{
 "cells": [
  {
   "cell_type": "code",
   "execution_count": null,
   "metadata": {},
   "outputs": [],
   "source": [
    "'''\n",
    "46. Permutations\n",
    "Given an array nums of distinct integers, return all the possible permutations. You can return the answer in any order.\n",
    "\n",
    "Example 1:\n",
    "\n",
    "Input: nums = [1,2,3]\n",
    "Output: [[1,2,3],[1,3,2],[2,1,3],[2,3,1],[3,1,2],[3,2,1]]\n",
    "\n",
    "Example 2:\n",
    "\n",
    "Input: nums = [0,1]\n",
    "Output: [[0,1],[1,0]]\n",
    "\n",
    "Example 3:\n",
    "\n",
    "Input: nums = [1]\n",
    "Output: [[1]]\n",
    "'''\n",
    "\n",
    "class Solution:\n",
    "    def permute(self, nums: List[int]) -> List[List[int]]:\n",
    "        \n",
    "        result = []\n",
    "        \n",
    "        #base case\n",
    "        if len(nums) == 1:\n",
    "            return [nums.copy()]\n",
    "        \n",
    "        for i in range(len(nums)):\n",
    "            first = nums.pop(0)\n",
    "            \n",
    "            permutations = self.permute(nums)\n",
    "            \n",
    "            for permutation in permutations:\n",
    "                \n",
    "                permutation.append(first)\n",
    "                \n",
    "            result.extend(permutations)\n",
    "            nums.append(first)\n",
    "            \n",
    "            \n",
    "        return result\n",
    "        \n",
    "        \n",
    "        "
   ]
  }
 ],
 "metadata": {
  "kernelspec": {
   "display_name": "Python 3",
   "language": "python",
   "name": "python3"
  },
  "language_info": {
   "codemirror_mode": {
    "name": "ipython",
    "version": 3
   },
   "file_extension": ".py",
   "mimetype": "text/x-python",
   "name": "python",
   "nbconvert_exporter": "python",
   "pygments_lexer": "ipython3",
   "version": "3.8.5"
  }
 },
 "nbformat": 4,
 "nbformat_minor": 4
}
