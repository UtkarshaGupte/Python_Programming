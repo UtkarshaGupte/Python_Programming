{
 "cells": [
  {
   "cell_type": "code",
   "execution_count": null,
   "id": "963dd3d6",
   "metadata": {},
   "outputs": [],
   "source": [
    "'''\n",
    "692. Top K Frequent Words\n",
    "Given an array of strings words and an integer k, return the k most frequent strings.\n",
    "\n",
    "Return the answer sorted by the frequency from highest to lowest. \n",
    "Sort the words with the same frequency by their lexicographical order.\n",
    "\n",
    "Example 1:\n",
    "Input: words = [\"i\",\"love\",\"leetcode\",\"i\",\"love\",\"coding\"], k = 2\n",
    "Output: [\"i\",\"love\"]\n",
    "Explanation: \"i\" and \"love\" are the two most frequent words.\n",
    "Note that \"i\" comes before \"love\" due to a lower alphabetical order.\n",
    "\n",
    "Example 2:\n",
    "Input: words = [\"the\",\"day\",\"is\",\"sunny\",\"the\",\"the\",\"the\",\"sunny\",\"is\",\"is\"], k = 4\n",
    "Output: [\"the\",\"is\",\"sunny\",\"day\"]\n",
    "Explanation: \"the\", \"is\", \"sunny\" and \"day\" are the four most frequent words, \n",
    "with the number of occurrence being 4, 3, 2 and 1 respectively.\n",
    "\n",
    "Time/Space Complexity:\n",
    "\n",
    "Time - O(N+k+NlogN)\n",
    "\n",
    "Space - O(N)\n",
    "'''\n",
    "\n",
    "class Solution:\n",
    "    def topKFrequent(self, words: List[str], k: int) -> List[str]:\n",
    "        \n",
    "        #words.sort()\n",
    "        word_dict = dict()\n",
    "        \n",
    "        for word in words:\n",
    "            word_dict[word] = word_dict.get(word,0) + 1\n",
    "                    \n",
    "        #return heapq.nlargest(k, word_dict, word_dict.get)\n",
    "        \n",
    "        res_sorted = sorted(word_dict.items(), key= lambda x: (-x[1],x[0]))\n",
    "    \n",
    "        res = []\n",
    "        \n",
    "        for i in range(k):\n",
    "            res.append(res_sorted[i][0])\n",
    "            \n",
    "            \n",
    "        return res\n",
    "            \n",
    "            \n",
    "        "
   ]
  }
 ],
 "metadata": {
  "kernelspec": {
   "display_name": "Python 3 (ipykernel)",
   "language": "python",
   "name": "python3"
  },
  "language_info": {
   "codemirror_mode": {
    "name": "ipython",
    "version": 3
   },
   "file_extension": ".py",
   "mimetype": "text/x-python",
   "name": "python",
   "nbconvert_exporter": "python",
   "pygments_lexer": "ipython3",
   "version": "3.8.10"
  }
 },
 "nbformat": 4,
 "nbformat_minor": 5
}
