{
 "cells": [
  {
   "cell_type": "code",
   "execution_count": null,
   "metadata": {},
   "outputs": [],
   "source": [
    "'''\n",
    "1046. Last Stone Weight\n",
    "You are given an array of integers stones where stones[i] is the weight of the ith stone.\n",
    "\n",
    "We are playing a game with the stones. On each turn, we choose the heaviest two stones and smash them together. \n",
    "Suppose the heaviest two stones have weights x and y with x <= y. The result of this smash is:\n",
    "\n",
    "If x == y, both stones are destroyed, and\n",
    "If x != y, the stone of weight x is destroyed, and the stone of weight y has new weight y - x.\n",
    "At the end of the game, there is at most one stone left.\n",
    "\n",
    "Return the smallest possible weight of the left stone. If there are no stones left, return 0.\n",
    "'''\n",
    "\n",
    "class Solution:\n",
    "    def lastStoneWeight(self, stones: List[int]) -> int:\n",
    "        \n",
    "        #Because heapq has the min heap implementation of the priority queue\n",
    "        for i, val in enumerate(stones):\n",
    "            stones[i] = -val\n",
    "        \n",
    "        \n",
    "        heapq.heapify(stones)\n",
    "        \n",
    "        while len(stones) > 1:\n",
    "            \n",
    "            stoneOne = heapq.heappop(stones) #First maximum number\n",
    "            stoneTwo = heapq.heappop(stones) #Second maximum number\n",
    "            \n",
    "            if stoneOne != stoneTwo:\n",
    "                temp = stoneOne - stoneTwo\n",
    "                heapq.heappush(stones, temp)\n",
    "        \n",
    "        \n",
    "        if len(stones) == 1:\n",
    "            return abs(heapq.heappop(stones))\n",
    "        else:\n",
    "            return 0\n",
    "        \n",
    "        "
   ]
  }
 ],
 "metadata": {
  "kernelspec": {
   "display_name": "Python 3",
   "language": "python",
   "name": "python3"
  },
  "language_info": {
   "codemirror_mode": {
    "name": "ipython",
    "version": 3
   },
   "file_extension": ".py",
   "mimetype": "text/x-python",
   "name": "python",
   "nbconvert_exporter": "python",
   "pygments_lexer": "ipython3",
   "version": "3.8.5"
  }
 },
 "nbformat": 4,
 "nbformat_minor": 4
}
