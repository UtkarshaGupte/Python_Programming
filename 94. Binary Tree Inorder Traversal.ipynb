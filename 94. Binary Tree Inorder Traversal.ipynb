{
 "cells": [
  {
   "cell_type": "code",
   "execution_count": null,
   "metadata": {},
   "outputs": [],
   "source": [
    "'''\n",
    "94. Binary Tree Inorder Traversal\n",
    "Given the root of a binary tree, return the inorder traversal of its nodes' values.\n",
    "'''\n",
    "\n",
    "# Definition for a binary tree node.\n",
    "# class TreeNode:\n",
    "#     def __init__(self, val=0, left=None, right=None):\n",
    "#         self.val = val\n",
    "#         self.left = left\n",
    "#         self.right = right\n",
    "class Solution:\n",
    "    def inorderTraversal(self, root: Optional[TreeNode]) -> List[int]:\n",
    "        res = []\n",
    "        stack = []\n",
    "        \n",
    "        curr = root\n",
    "        while curr or stack:\n",
    "                                  \n",
    "            while curr:                \n",
    "                stack.append(curr)\n",
    "                curr = curr.left\n",
    "                \n",
    "            curr = stack.pop()\n",
    "            res.append(curr.val)\n",
    "            \n",
    "            curr = curr.right\n",
    "            \n",
    "        return res\n",
    "            \n",
    "         "
   ]
  }
 ],
 "metadata": {
  "kernelspec": {
   "display_name": "Python 3",
   "language": "python",
   "name": "python3"
  },
  "language_info": {
   "codemirror_mode": {
    "name": "ipython",
    "version": 3
   },
   "file_extension": ".py",
   "mimetype": "text/x-python",
   "name": "python",
   "nbconvert_exporter": "python",
   "pygments_lexer": "ipython3",
   "version": "3.8.5"
  }
 },
 "nbformat": 4,
 "nbformat_minor": 4
}
