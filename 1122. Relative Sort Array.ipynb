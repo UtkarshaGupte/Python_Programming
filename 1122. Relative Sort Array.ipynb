{
 "cells": [
  {
   "cell_type": "code",
   "execution_count": null,
   "metadata": {},
   "outputs": [],
   "source": [
    "'''\n",
    "1122. Relative Sort Array\n",
    "Given two arrays arr1 and arr2, the elements of arr2 are distinct, and all elements in arr2 are also in arr1.\n",
    "\n",
    "Sort the elements of arr1 such that the relative ordering of items in arr1 are the same as in arr2. \n",
    "Elements that do not appear in arr2 should be placed at the end of arr1 in ascending order.\n",
    "'''\n",
    "\n",
    "class Solution:\n",
    "    def relativeSortArray(self, arr1: List[int], arr2: List[int]) -> List[int]:\n",
    "        \n",
    "        output = []\n",
    "        temp = []\n",
    "        \n",
    "        #arr2 has all distinct elements\n",
    "        for i in arr2:\n",
    "            \n",
    "            count = arr1.count(i)\n",
    "            \n",
    "            while count>0:\n",
    "                \n",
    "                output.append(i)\n",
    "                count -= 1\n",
    "                \n",
    "                \n",
    "        for j in arr1:\n",
    "            \n",
    "            # Elements that do not appear in arr2 should be placed at the end\n",
    "            if j not in output:\n",
    "                temp.append(j)\n",
    "        \n",
    "        # elements should be ascending order        \n",
    "        temp.sort()        \n",
    "        output += temp\n",
    "        \n",
    "        \n",
    "        return output\n",
    "            \n",
    "        \n",
    "        "
   ]
  }
 ],
 "metadata": {
  "kernelspec": {
   "display_name": "Python 3",
   "language": "python",
   "name": "python3"
  },
  "language_info": {
   "codemirror_mode": {
    "name": "ipython",
    "version": 3
   },
   "file_extension": ".py",
   "mimetype": "text/x-python",
   "name": "python",
   "nbconvert_exporter": "python",
   "pygments_lexer": "ipython3",
   "version": "3.8.5"
  }
 },
 "nbformat": 4,
 "nbformat_minor": 4
}
