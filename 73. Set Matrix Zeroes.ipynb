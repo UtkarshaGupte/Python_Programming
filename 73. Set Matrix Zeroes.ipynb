{
 "cells": [
  {
   "cell_type": "code",
   "execution_count": null,
   "metadata": {},
   "outputs": [],
   "source": [
    "'''\n",
    "73. Set Matrix Zeroes\n",
    "Given an m x n integer matrix matrix, if an element is 0, set its entire row and column to 0's.\n",
    "\n",
    "You must do it in place.\n",
    "\n",
    "Example 1:\n",
    "Input: matrix = [[1,1,1],[1,0,1],[1,1,1]]\n",
    "Output: [[1,0,1],[0,0,0],[1,0,1]]\n",
    "\n",
    "Example 2:\n",
    "Input: matrix = [[0,1,2,0],[3,4,5,2],[1,3,1,5]]\n",
    "Output: [[0,0,0,0],[0,4,5,0],[0,3,1,0]]\n",
    "\n",
    "Time/Space Complexity:\n",
    "\n",
    "Time - O(row * col)\n",
    "\n",
    "Space - O(1)\n",
    "'''\n",
    "class Solution:\n",
    "    def setZeroes(self, matrix: List[List[int]]) -> None:\n",
    "        \"\"\"\n",
    "        Do not return anything, modify matrix in-place instead.\n",
    "        \"\"\"\n",
    "        \n",
    "        rows, cols = len(matrix), len(matrix[0])       \n",
    "        colOne = False\n",
    "        \n",
    "        for r in range(rows):\n",
    "            if matrix[r][0] == 0:\n",
    "                colOne = True\n",
    "                \n",
    "            for c in range(1,cols):\n",
    "                           \n",
    "                if matrix[r][c] == 0:\n",
    "                    matrix[0][c] = 0\n",
    "                    matrix[r][0] = 0\n",
    "                   \n",
    "                              \n",
    "        for r in range(1,rows):\n",
    "            for c in range(1, cols):\n",
    "                \n",
    "                if not matrix[0][c] or not matrix[r][0]:\n",
    "                    matrix[r][c] = 0\n",
    "                        \n",
    "        \n",
    "        if matrix[0][0] == 0:\n",
    "            for c in range(cols):\n",
    "                matrix[0][c] = 0\n",
    "                \n",
    "        if colOne:\n",
    "            for r in range(rows):\n",
    "                matrix[r][0] = 0\n",
    "                \n"
   ]
  }
 ],
 "metadata": {
  "kernelspec": {
   "display_name": "Python 3",
   "language": "python",
   "name": "python3"
  },
  "language_info": {
   "codemirror_mode": {
    "name": "ipython",
    "version": 3
   },
   "file_extension": ".py",
   "mimetype": "text/x-python",
   "name": "python",
   "nbconvert_exporter": "python",
   "pygments_lexer": "ipython3",
   "version": "3.8.5"
  }
 },
 "nbformat": 4,
 "nbformat_minor": 4
}
