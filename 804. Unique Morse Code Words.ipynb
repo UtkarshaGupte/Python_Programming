{
 "cells": [
  {
   "cell_type": "code",
   "execution_count": null,
   "metadata": {},
   "outputs": [],
   "source": [
    "'''\n",
    "804. Unique Morse Code Words\n",
    "International Morse Code defines a standard encoding where each letter is mapped to a series of dots and dashes, as follows:\n",
    "\n",
    "'a' maps to \".-\",\n",
    "'b' maps to \"-...\",\n",
    "'c' maps to \"-.-.\", and so on.\n",
    "For convenience, the full table for the 26 letters of the English alphabet is given below:\n",
    "\n",
    "[\".-\",\"-...\",\"-.-.\",\"-..\",\".\",\"..-.\",\"--.\",\"....\",\"..\",\".---\",\"-.-\",\".-..\",\"--\",\"-.\",\"---\",\".--.\",\"--.-\",\".-.\",\n",
    "\"...\",\"-\",\"..-\",\"...-\",\".--\",\"-..-\",\"-.--\",\"--..\"]\n",
    "Given an array of strings words where each word can be written as a concatenation of the Morse code of each letter.\n",
    "\n",
    "For example, \"cab\" can be written as \"-.-..--...\", which is the concatenation of \"-.-.\", \".-\", and \"-...\". \n",
    "We will call such a concatenation the transformation of a word.\n",
    "Return the number of different transformations among all words we have.\n",
    "'''\n",
    "\n",
    "class Solution:\n",
    "    def uniqueMorseRepresentations(self, words: List[str]) -> int:\n",
    "        \n",
    "        morse_codes = [\".-\",\"-...\",\"-.-.\",\"-..\",\".\",\"..-.\",\"--.\",\"....\",\"..\",\".---\",\"-.-\",\".-..\",\"--\",\"-.\",\"---\",\".--.\",\"--.-\",\".-.\",\"...\",\"-\",\"..-\",\"...-\",\".--\",\"-..-\",\"-.--\",\"--..\"]\n",
    "        count = 0\n",
    "        codes=[]\n",
    "        \n",
    "        for word in words:\n",
    "            \n",
    "            val= ''\n",
    "            \n",
    "            for char in word:\n",
    "                val += morse_codes[ord(char)-97]\n",
    "                \n",
    "            if val not in codes:\n",
    "                codes.append(val)\n",
    "                count += 1\n",
    "           \n",
    "                \n",
    "        return count\n"
   ]
  }
 ],
 "metadata": {
  "kernelspec": {
   "display_name": "Python 3",
   "language": "python",
   "name": "python3"
  },
  "language_info": {
   "codemirror_mode": {
    "name": "ipython",
    "version": 3
   },
   "file_extension": ".py",
   "mimetype": "text/x-python",
   "name": "python",
   "nbconvert_exporter": "python",
   "pygments_lexer": "ipython3",
   "version": "3.8.5"
  }
 },
 "nbformat": 4,
 "nbformat_minor": 4
}
