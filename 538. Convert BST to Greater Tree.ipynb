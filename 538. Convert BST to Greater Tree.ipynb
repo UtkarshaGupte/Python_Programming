{
 "cells": [
  {
   "cell_type": "code",
   "execution_count": null,
   "metadata": {},
   "outputs": [],
   "source": [
    "'''\n",
    "538. Convert BST to Greater Tree\n",
    "Given the root of a Binary Search Tree (BST), \n",
    "convert it to a Greater Tree such that every key of the original BST is \n",
    "changed to the original key plus the sum of all keys greater than the original key in BST.\n",
    "\n",
    "As a reminder, a binary search tree is a tree that satisfies these constraints:\n",
    "\n",
    "The left subtree of a node contains only nodes with keys less than the node's key.\n",
    "The right subtree of a node contains only nodes with keys greater than the node's key.\n",
    "Both the left and right subtrees must also be binary search trees.\n",
    "\n",
    "Example 1:\n",
    "Input: root = [4,1,6,0,2,5,7,null,null,null,3,null,null,null,8]\n",
    "Output: [30,36,21,36,35,26,15,null,null,null,33,null,null,null,8]\n",
    "\n",
    "Example 2:\n",
    "Input: root = [0,null,1]\n",
    "Output: [1,null,1]\n",
    "'''\n",
    "\n",
    "# Definition for a binary tree node.\n",
    "# class TreeNode:\n",
    "#     def __init__(self, val=0, left=None, right=None):\n",
    "#         self.val = val\n",
    "#         self.left = left\n",
    "#         self.right = right\n",
    "class Solution:\n",
    "    def convertBST(self, root: Optional[TreeNode]) -> Optional[TreeNode]:\n",
    "        \n",
    "        currSum = 0\n",
    "        \n",
    "        def dfs(node):\n",
    "            \n",
    "            #If node is empty\n",
    "            if not node:\n",
    "                return\n",
    "            \n",
    "            #Declaring the currSum as nonlocal, \n",
    "            #telling the call to the func that it is a global variable,\n",
    "            #declared outside the func\n",
    "            nonlocal currSum\n",
    "            \n",
    "            dfs(node.right)\n",
    "            \n",
    "            currSum += node.val\n",
    "            node.val = currSum\n",
    "            \n",
    "            dfs(node.left)\n",
    "            \n",
    "        dfs(root)\n",
    "        \n",
    "        return root\n",
    "            \n",
    "            "
   ]
  }
 ],
 "metadata": {
  "kernelspec": {
   "display_name": "Python 3",
   "language": "python",
   "name": "python3"
  },
  "language_info": {
   "codemirror_mode": {
    "name": "ipython",
    "version": 3
   },
   "file_extension": ".py",
   "mimetype": "text/x-python",
   "name": "python",
   "nbconvert_exporter": "python",
   "pygments_lexer": "ipython3",
   "version": "3.8.5"
  }
 },
 "nbformat": 4,
 "nbformat_minor": 4
}
