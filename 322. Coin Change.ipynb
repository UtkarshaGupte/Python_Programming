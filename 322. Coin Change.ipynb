{
 "cells": [
  {
   "cell_type": "code",
   "execution_count": null,
   "metadata": {},
   "outputs": [],
   "source": [
    "'''\n",
    "322. Coin Change\n",
    "You are given an integer array coins representing coins of different denominations and \n",
    "an integer amount representing a total amount of money.\n",
    "\n",
    "Return the fewest number of coins that you need to make up that amount. \n",
    "If that amount of money cannot be made up by any combination of the coins, return -1.\n",
    "\n",
    "You may assume that you have an infinite number of each kind of coin.\n",
    "'''\n",
    "\n",
    "class Solution:\n",
    "    def coinChange(self, coins: List[int], amount: int) -> int:\n",
    "        \n",
    "        #initialising an array of length amount+1 (0 to amount) with default value of maximum number\n",
    "        dp = [math.inf] * (amount+1)\n",
    "        \n",
    "        #since 0 coins are required to sum up to 0\n",
    "        dp[0] = 0\n",
    "        \n",
    "        #Now updating values for dp[1] to dp[amount]\n",
    "        for i in range(1, amount+1):\n",
    "            for coin in coins:\n",
    "                \n",
    "                #If i is smaller then no coin combination possible with that coin\n",
    "                if i >= coin:\n",
    "                    dp[i] = min(dp[i], 1+dp[i-coin])\n",
    "        \n",
    "        #Default indicates no possible combination of coins and hence the value is not updated\n",
    "        if dp[amount] != math.inf:\n",
    "            return dp[amount]\n",
    "        else:\n",
    "            return -1\n",
    "                "
   ]
  }
 ],
 "metadata": {
  "kernelspec": {
   "display_name": "Python 3",
   "language": "python",
   "name": "python3"
  },
  "language_info": {
   "codemirror_mode": {
    "name": "ipython",
    "version": 3
   },
   "file_extension": ".py",
   "mimetype": "text/x-python",
   "name": "python",
   "nbconvert_exporter": "python",
   "pygments_lexer": "ipython3",
   "version": "3.8.5"
  }
 },
 "nbformat": 4,
 "nbformat_minor": 4
}
