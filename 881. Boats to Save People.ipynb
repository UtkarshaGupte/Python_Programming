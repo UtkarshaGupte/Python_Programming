{
 "cells": [
  {
   "cell_type": "code",
   "execution_count": null,
   "metadata": {},
   "outputs": [],
   "source": [
    "'''\n",
    "881. Boats to Save People\n",
    "You are given an array people where people[i] is the weight of the ith person, \n",
    "and an infinite number of boats where each boat can carry a maximum weight of limit. \n",
    "Each boat carries at most two people at the same time, provided the sum of the weight of those people is at most limit.\n",
    "\n",
    "Return the minimum number of boats to carry every given person.\n",
    "'''\n",
    "\n",
    "class Solution:\n",
    "    def numRescueBoats(self, people: List[int], limit: int) -> int:\n",
    "        \n",
    "        boats = 0\n",
    "        \n",
    "        people.sort()\n",
    "        \n",
    "        left, right = 0, len(people)-1\n",
    "        \n",
    "        \n",
    "        while left <= right: \n",
    "            \n",
    "            remaining = limit - people[right]\n",
    "            \n",
    "            right -= 1\n",
    "            boats += 1\n",
    "            \n",
    "            if remaining >= people[left]:\n",
    "                left += 1\n",
    "                \n",
    "                \n",
    "        return boats\n",
    "    \n"
   ]
  }
 ],
 "metadata": {
  "kernelspec": {
   "display_name": "Python 3",
   "language": "python",
   "name": "python3"
  },
  "language_info": {
   "codemirror_mode": {
    "name": "ipython",
    "version": 3
   },
   "file_extension": ".py",
   "mimetype": "text/x-python",
   "name": "python",
   "nbconvert_exporter": "python",
   "pygments_lexer": "ipython3",
   "version": "3.8.5"
  }
 },
 "nbformat": 4,
 "nbformat_minor": 4
}
