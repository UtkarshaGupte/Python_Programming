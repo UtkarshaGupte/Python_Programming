{
 "cells": [
  {
   "cell_type": "code",
   "execution_count": null,
   "metadata": {},
   "outputs": [],
   "source": [
    "'''\n",
    "263. Ugly Number\n",
    "An ugly number is a positive integer whose prime factors are limited to 2, 3, and 5.\n",
    "\n",
    "Given an integer n, return true if n is an ugly number.\n",
    "'''\n",
    "\n",
    "class Solution:\n",
    "    def isUgly(self, n: int) -> bool:\n",
    "        \n",
    "        if n<=0:\n",
    "            return False\n",
    "        \n",
    "        prime_factors = [2,3,5]\n",
    "        \n",
    "        for i in prime_factors:\n",
    "            \n",
    "            while n%i == 0:\n",
    "                \n",
    "                n //= i\n",
    "                \n",
    "        if n==1:\n",
    "            return True\n",
    "        else:\n",
    "            False"
   ]
  }
 ],
 "metadata": {
  "kernelspec": {
   "display_name": "Python 3",
   "language": "python",
   "name": "python3"
  },
  "language_info": {
   "codemirror_mode": {
    "name": "ipython",
    "version": 3
   },
   "file_extension": ".py",
   "mimetype": "text/x-python",
   "name": "python",
   "nbconvert_exporter": "python",
   "pygments_lexer": "ipython3",
   "version": "3.8.5"
  }
 },
 "nbformat": 4,
 "nbformat_minor": 4
}
