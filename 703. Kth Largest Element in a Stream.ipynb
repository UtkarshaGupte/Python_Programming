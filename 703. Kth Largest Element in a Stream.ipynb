{
 "cells": [
  {
   "cell_type": "code",
   "execution_count": null,
   "metadata": {},
   "outputs": [],
   "source": [
    "'''\n",
    "703. Kth Largest Element in a Stream\n",
    "Design a class to find the kth largest element in a stream. \n",
    "Note that it is the kth largest element in the sorted order, not the kth distinct element.\n",
    "\n",
    "Implement KthLargest class:\n",
    "\n",
    "KthLargest(int k, int[] nums) Initializes the object with the integer k and the stream of integers nums.\n",
    "int add(int val) Appends the integer val to the stream and returns the element representing the \n",
    "kth largest element in the stream.\n",
    "'''\n",
    "\n",
    "class KthLargest:\n",
    "\n",
    "    def __init__(self, k: int, nums: List[int]):\n",
    "        \n",
    "        self.k = k\n",
    "        self.nums = nums\n",
    "        \n",
    "        heapq.heapify(self.nums)\n",
    "        \n",
    "        #Keeping only k elements in the heap\n",
    "        #So that the first element to get popped will be the Kth Largest\n",
    "        \n",
    "        while len(self.nums)>k:\n",
    "            heapq.heappop(self.nums)\n",
    "\n",
    "    def add(self, val: int) -> int:\n",
    "        \n",
    "        heapq.heappush(self.nums, val)\n",
    "        \n",
    "        if len(self.nums) > self.k:\n",
    "            heapq.heappop(self.nums)\n",
    "       \n",
    "            \n",
    "        return self.nums[0]\n",
    "        \n",
    "        "
   ]
  }
 ],
 "metadata": {
  "kernelspec": {
   "display_name": "Python 3",
   "language": "python",
   "name": "python3"
  },
  "language_info": {
   "codemirror_mode": {
    "name": "ipython",
    "version": 3
   },
   "file_extension": ".py",
   "mimetype": "text/x-python",
   "name": "python",
   "nbconvert_exporter": "python",
   "pygments_lexer": "ipython3",
   "version": "3.8.5"
  }
 },
 "nbformat": 4,
 "nbformat_minor": 4
}
