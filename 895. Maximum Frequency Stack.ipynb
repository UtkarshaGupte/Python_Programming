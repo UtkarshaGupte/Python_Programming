{
 "cells": [
  {
   "cell_type": "code",
   "execution_count": null,
   "metadata": {},
   "outputs": [],
   "source": [
    "'''\n",
    "895. Maximum Frequency Stack\n",
    "Design a stack-like data structure to push elements to the stack and pop the most frequent element from the stack.\n",
    "\n",
    "Implement the FreqStack class:\n",
    "\n",
    "FreqStack() constructs an empty frequency stack.\n",
    "void push(int val) pushes an integer val onto the top of the stack.\n",
    "int pop() removes and returns the most frequent element in the stack.\n",
    "If there is a tie for the most frequent element, the element closest to the stack's top is removed and returned.\n",
    "'''\n",
    "\n",
    "class FreqStack:\n",
    "\n",
    "    def __init__(self):        \n",
    "        self.maxCount = 0\n",
    "        self.stacks = {}\n",
    "        self.ValCount = {}\n",
    "        \n",
    "\n",
    "    def push(self, val: int) -> None:\n",
    "        \n",
    "        ValueCount = self.ValCount.get(val,0) + 1\n",
    "        self.ValCount[val] = ValueCount\n",
    "        \n",
    "        if ValueCount > self.maxCount:\n",
    "            \n",
    "            self.stacks[ValueCount] = []\n",
    "            self.maxCount = ValueCount\n",
    "            \n",
    "        self.stacks[ValueCount].append(val)\n",
    "            \n",
    "\n",
    "    def pop(self) -> int:\n",
    "        \n",
    "        val = self.stacks[self.maxCount].pop()\n",
    "        self.ValCount[val] -= 1\n",
    "        \n",
    "        \n",
    "        if not self.stacks[self.maxCount]:\n",
    "            self.maxCount -= 1\n",
    "            \n",
    "        return val\n",
    "        \n",
    "\n",
    "\n",
    "# Your FreqStack object will be instantiated and called as such:\n",
    "# obj = FreqStack()\n",
    "# obj.push(val)\n",
    "# param_2 = obj.pop()\n",
    "\n"
   ]
  }
 ],
 "metadata": {
  "kernelspec": {
   "display_name": "Python 3",
   "language": "python",
   "name": "python3"
  },
  "language_info": {
   "codemirror_mode": {
    "name": "ipython",
    "version": 3
   },
   "file_extension": ".py",
   "mimetype": "text/x-python",
   "name": "python",
   "nbconvert_exporter": "python",
   "pygments_lexer": "ipython3",
   "version": "3.8.5"
  }
 },
 "nbformat": 4,
 "nbformat_minor": 4
}
