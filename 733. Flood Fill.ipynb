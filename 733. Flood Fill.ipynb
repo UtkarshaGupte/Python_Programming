{
 "cells": [
  {
   "cell_type": "code",
   "execution_count": null,
   "metadata": {},
   "outputs": [],
   "source": [
    "'''\n",
    "733. Flood Fill\n",
    "An image is represented by an m x n integer grid image where image[i][j] represents the pixel value of the image.\n",
    "\n",
    "You are also given three integers sr, sc, and newColor. \n",
    "You should perform a flood fill on the image starting from the pixel image[sr][sc].\n",
    "\n",
    "To perform a flood fill, consider the starting pixel, plus any pixels connected 4-directionally\n",
    "to the starting pixel of the same color as the starting pixel, plus any pixels connected 4-directionally \n",
    "to those pixels (also with the same color), and so on. Replace the color of all of the aforementioned pixels with newColor.\n",
    "\n",
    "Return the modified image after performing the flood fill.\n",
    "'''\n",
    "\n",
    "\n",
    "class Solution:\n",
    "    def floodFill(self, image: List[List[int]], sr: int, sc: int, newColor: int) -> List[List[int]]:\n",
    "        \n",
    "        oldColor = image[sr][sc]\n",
    "        \n",
    "        #The starting pixel is of same color as the new one\n",
    "        #Hence no need to perform flood fill\n",
    "        if oldColor == newColor:\n",
    "            return image\n",
    "        \n",
    "        def dfs(i,j):\n",
    "            \n",
    "            if image[i][j] == oldColor:\n",
    "                image[i][j] = newColor\n",
    "                \n",
    "                if i-1 >= 0:\n",
    "                    dfs(i-1,j)\n",
    "\n",
    "                if j+1 < len(image[0]):\n",
    "                    dfs(i,j+1)\n",
    "\n",
    "                if j-1 >= 0:\n",
    "                    dfs(i,j-1)\n",
    "\n",
    "                if i+1 < len(image):\n",
    "                    dfs(i+1,j)\n",
    "                \n",
    "        dfs(sr,sc)\n",
    "            \n",
    "        return image\n"
   ]
  }
 ],
 "metadata": {
  "kernelspec": {
   "display_name": "Python 3",
   "language": "python",
   "name": "python3"
  },
  "language_info": {
   "codemirror_mode": {
    "name": "ipython",
    "version": 3
   },
   "file_extension": ".py",
   "mimetype": "text/x-python",
   "name": "python",
   "nbconvert_exporter": "python",
   "pygments_lexer": "ipython3",
   "version": "3.8.5"
  }
 },
 "nbformat": 4,
 "nbformat_minor": 4
}
