{
 "cells": [
  {
   "cell_type": "code",
   "execution_count": null,
   "metadata": {},
   "outputs": [],
   "source": [
    "'''\n",
    "1007. Minimum Domino Rotations For Equal Row\n",
    "In a row of dominoes, tops[i] and bottoms[i] represent the top and bottom halves of the ith domino. \n",
    "(A domino is a tile with two numbers from 1 to 6 - one on each half of the tile.)\n",
    "\n",
    "We may rotate the ith domino, so that tops[i] and bottoms[i] swap values.\n",
    "\n",
    "Return the minimum number of rotations so that all the values in tops are the same, \n",
    "or all the values in bottoms are the same.\n",
    "\n",
    "If it cannot be done, return -1.\n",
    "'''\n",
    "\n",
    "class Solution:\n",
    "    def minDominoRotations(self, tops: List[int], bottoms: List[int]) -> int:\n",
    "        \n",
    "        targetOne, targetTwo = tops[0], bottoms[0]\n",
    "        \n",
    "        for target in [targetOne, targetTwo]:\n",
    "            \n",
    "            minTop, minBottom = 0, 0\n",
    "            \n",
    "            for i, val in enumerate(zip(tops,bottoms)):\n",
    "\n",
    "                top, bottom = val\n",
    "\n",
    "                if not(top == target or bottom == target):\n",
    "                    break\n",
    "                    \n",
    "                if top != target:\n",
    "                    minTop += 1\n",
    "                    \n",
    "                if bottom != target:\n",
    "                    minBottom += 1\n",
    "                    \n",
    "                if i == len(tops) - 1:\n",
    "                    return min(minTop, minBottom)\n",
    "                \n",
    "                \n",
    "        return -1\n",
    "                    "
   ]
  }
 ],
 "metadata": {
  "kernelspec": {
   "display_name": "Python 3",
   "language": "python",
   "name": "python3"
  },
  "language_info": {
   "codemirror_mode": {
    "name": "ipython",
    "version": 3
   },
   "file_extension": ".py",
   "mimetype": "text/x-python",
   "name": "python",
   "nbconvert_exporter": "python",
   "pygments_lexer": "ipython3",
   "version": "3.8.5"
  }
 },
 "nbformat": 4,
 "nbformat_minor": 4
}
