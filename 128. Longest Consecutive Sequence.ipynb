{
 "cells": [
  {
   "cell_type": "code",
   "execution_count": null,
   "metadata": {},
   "outputs": [],
   "source": [
    "'''\n",
    "128. Longest Consecutive Sequence\n",
    "Given an unsorted array of integers nums, return the length of the longest consecutive elements sequence.\n",
    "\n",
    "You must write an algorithm that runs in O(n) time.\n",
    "\n",
    " \n",
    "\n",
    "Example 1:\n",
    "\n",
    "Input: nums = [100,4,200,1,3,2]\n",
    "Output: 4\n",
    "Explanation: The longest consecutive elements sequence is [1, 2, 3, 4]. Therefore its length is 4.\n",
    "Example 2:\n",
    "\n",
    "Input: nums = [0,3,7,2,5,8,4,6,0,1]\n",
    "Output: 9\n",
    "\n",
    "'''\n",
    "\n",
    "class Solution:\n",
    "    def longestConsecutive(self, nums: List[int]) -> int:\n",
    "        \n",
    "        \n",
    "        maxLength = 0\n",
    "        \n",
    "        setNums = set(nums)\n",
    "        \n",
    "        for val in setNums:\n",
    "            \n",
    "            #if val is start of a sequence\n",
    "            if val-1 not in setNums:\n",
    "                \n",
    "                start, end  = 0, 0\n",
    "                temp = val\n",
    "                \n",
    "                while temp+1 in setNums:\n",
    "                    end += 1\n",
    "                    temp += 1\n",
    "                    \n",
    "                tempLength = end - start + 1\n",
    "                \n",
    "                if tempLength > maxLength:\n",
    "                    maxLength = tempLength\n",
    "                \n",
    "                \n",
    "        return maxLength\n",
    "    \n",
    "    "
   ]
  }
 ],
 "metadata": {
  "kernelspec": {
   "display_name": "Python 3",
   "language": "python",
   "name": "python3"
  },
  "language_info": {
   "codemirror_mode": {
    "name": "ipython",
    "version": 3
   },
   "file_extension": ".py",
   "mimetype": "text/x-python",
   "name": "python",
   "nbconvert_exporter": "python",
   "pygments_lexer": "ipython3",
   "version": "3.8.5"
  }
 },
 "nbformat": 4,
 "nbformat_minor": 4
}
