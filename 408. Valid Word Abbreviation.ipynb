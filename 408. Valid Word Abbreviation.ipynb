{
 "cells": [
  {
   "cell_type": "code",
   "execution_count": null,
   "metadata": {},
   "outputs": [],
   "source": [
    "'''\n",
    "408. Valid Word Abbreviation\n",
    "A string can be abbreviated by replacing any number of non-adjacent, non-empty substrings with their lengths.\n",
    "The lengths should not have leading zeros.\n",
    "\n",
    "For example, a string such as \"substitution\" could be abbreviated as (but not limited to):\n",
    "\n",
    "\"s10n\" (\"s ubstitutio n\")\n",
    "\"sub4u4\" (\"sub stit u tion\")\n",
    "\"12\" (\"substitution\")\n",
    "\"su3i1u2on\" (\"su bst i t u ti on\")\n",
    "\"substitution\" (no substrings replaced)\n",
    "The following are not valid abbreviations:\n",
    "\n",
    "\"s55n\" (\"s ubsti tutio n\", the replaced substrings are adjacent)\n",
    "\"s010n\" (has leading zeros)\n",
    "\"s0ubstitution\" (replaces an empty substring)\n",
    "Given a string word and an abbreviation abbr, return whether the string matches the given abbreviation.\n",
    "\n",
    "A substring is a contiguous non-empty sequence of characters within a string.\n",
    "\n",
    "'''\n",
    "\n",
    "class Solution:\n",
    "    def validWordAbbreviation(self, word: str, abbr: str) -> bool:\n",
    "        \n",
    "        i, j =0, 0\n",
    "        \n",
    "        while i<len(word) and j<len(abbr):\n",
    "            \n",
    "            if abbr[j].isalpha():\n",
    "                if abbr[j] != word[i]:\n",
    "                    return False\n",
    "                \n",
    "                i += 1\n",
    "                j += 1\n",
    "                \n",
    "            else:\n",
    "                \n",
    "                if abbr[j] == '0':  #Lengths should not have leading zeroes\n",
    "                    return False\n",
    "                \n",
    "                \n",
    "                temp = \"\"\n",
    "                \n",
    "                while j<len(abbr) and abbr[j].isdigit():\n",
    "                    temp += abbr[j]\n",
    "                    j += 1\n",
    "                    \n",
    "                i += int(temp)\n",
    "                \n",
    "                \n",
    "        return i==len(word) and j==len(abbr)\n",
    "        \n",
    "    "
   ]
  }
 ],
 "metadata": {
  "kernelspec": {
   "display_name": "Python 3",
   "language": "python",
   "name": "python3"
  },
  "language_info": {
   "codemirror_mode": {
    "name": "ipython",
    "version": 3
   },
   "file_extension": ".py",
   "mimetype": "text/x-python",
   "name": "python",
   "nbconvert_exporter": "python",
   "pygments_lexer": "ipython3",
   "version": "3.8.5"
  }
 },
 "nbformat": 4,
 "nbformat_minor": 4
}
