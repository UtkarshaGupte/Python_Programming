{
 "cells": [
  {
   "cell_type": "code",
   "execution_count": 3,
   "metadata": {},
   "outputs": [
    {
     "name": "stdout",
     "output_type": "stream",
     "text": [
      "LinkedList cycle start: 3\n",
      "LinkedList cycle start: 4\n",
      "LinkedList cycle start: 1\n"
     ]
    }
   ],
   "source": [
    "'''\n",
    "142. Linked List Cycle II\n",
    "Given the head of a linked list, return the node where the cycle begins. If there is no cycle, return null.\n",
    "\n",
    "There is a cycle in a linked list if there is some node in the list that can be reached \n",
    "again by continuously following the next pointer. Internally, pos is used to denote the index \n",
    "of the node that tail's next pointer is connected to (0-indexed). It is -1 if there is no cycle. Note that pos\n",
    "is not passed as a parameter.\n",
    "\n",
    "Do not modify the linked list.\n",
    "'''\n",
    "\n",
    "class Node:\n",
    "    def __init__(self, value, next=None):\n",
    "        self.value = value\n",
    "        self.next = next\n",
    "\n",
    "def get_intersectionpt(head):\n",
    "    slow, fast = head, head\n",
    "\n",
    "    while fast is not None and fast.next is not None:\n",
    "        fast = fast.next.next #moving 2 steps per iteration\n",
    "        slow = slow.next      #moving 1 step per iteration\n",
    "\n",
    "        #If they meet a cycle is detected and the intersecting point is returned\n",
    "        if slow == fast:\n",
    "            return slow\n",
    "\n",
    "    return None\n",
    "\n",
    "\n",
    "def detectCycle(head):\n",
    "\n",
    "    intersect_pt = get_intersectionpt(head)\n",
    "\n",
    "    if intersect_pt is None:\n",
    "        return None\n",
    "\n",
    "    ptr1 = head             #Pointer 1 at the start of the linked list\n",
    "    ptr2 = intersect_pt     #Pointer 2 at the intersecting point\n",
    "\n",
    "    while ptr1 != ptr2:\n",
    "        #moving the pointers just by 1 step\n",
    "        ptr1 = ptr1.next \n",
    "        ptr2 = ptr2.next\n",
    "\n",
    "    return ptr1\n",
    "        \n",
    "\n",
    "def main():\n",
    "    head = Node(1)\n",
    "    head.next = Node(2)\n",
    "    head.next.next = Node(3)\n",
    "    head.next.next.next = Node(4)\n",
    "    head.next.next.next.next = Node(5)\n",
    "    head.next.next.next.next.next = Node(6)\n",
    "\n",
    "    head.next.next.next.next.next.next = head.next.next\n",
    "    print(\"LinkedList cycle start: \" + str(detectCycle(head).value))\n",
    "\n",
    "    head.next.next.next.next.next.next = head.next.next.next\n",
    "    print(\"LinkedList cycle start: \" + str(detectCycle(head).value))\n",
    "\n",
    "    head.next.next.next.next.next.next = head\n",
    "    print(\"LinkedList cycle start: \" + str(detectCycle(head).value))\n",
    "\n",
    "\n",
    "main()"
   ]
  },
  {
   "cell_type": "code",
   "execution_count": null,
   "metadata": {},
   "outputs": [],
   "source": []
  }
 ],
 "metadata": {
  "kernelspec": {
   "display_name": "Python 3",
   "language": "python",
   "name": "python3"
  },
  "language_info": {
   "codemirror_mode": {
    "name": "ipython",
    "version": 3
   },
   "file_extension": ".py",
   "mimetype": "text/x-python",
   "name": "python",
   "nbconvert_exporter": "python",
   "pygments_lexer": "ipython3",
   "version": "3.8.5"
  }
 },
 "nbformat": 4,
 "nbformat_minor": 4
}
