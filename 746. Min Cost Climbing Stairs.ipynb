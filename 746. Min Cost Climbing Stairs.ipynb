{
 "cells": [
  {
   "cell_type": "code",
   "execution_count": null,
   "metadata": {},
   "outputs": [],
   "source": [
    "'''\n",
    "746. Min Cost Climbing Stairs\n",
    "You are given an integer array cost where cost[i] is the cost of ith step on a staircase. \n",
    "Once you pay the cost, you can either climb one or two steps.\n",
    "\n",
    "You can either start from the step with index 0, or the step with index 1.\n",
    "\n",
    "Return the minimum cost to reach the top of the floor.\n",
    "'''\n",
    "\n",
    "class Solution:\n",
    "    def minCostClimbingStairs(self, cost: List[int]) -> int:\n",
    "        \n",
    "        cost.append(0)\n",
    "        \n",
    "        n = len(cost)+1\n",
    "        \n",
    "        \n",
    "        for i in range(-3, -n, -1):\n",
    "            \n",
    "            optionOne = cost[i] + cost[i+1] #one step\n",
    "            optionTwo = cost[i] + cost[i+2] #two steps\n",
    "            \n",
    "            cost[i] = min(optionOne, optionTwo)\n",
    "            \n",
    "            \n",
    "        return min(cost[0], cost[1])\n",
    "    \n",
    "    "
   ]
  }
 ],
 "metadata": {
  "kernelspec": {
   "display_name": "Python 3",
   "language": "python",
   "name": "python3"
  },
  "language_info": {
   "codemirror_mode": {
    "name": "ipython",
    "version": 3
   },
   "file_extension": ".py",
   "mimetype": "text/x-python",
   "name": "python",
   "nbconvert_exporter": "python",
   "pygments_lexer": "ipython3",
   "version": "3.8.5"
  }
 },
 "nbformat": 4,
 "nbformat_minor": 4
}
