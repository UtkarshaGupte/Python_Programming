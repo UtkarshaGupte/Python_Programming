{
 "cells": [
  {
   "cell_type": "code",
   "execution_count": null,
   "metadata": {},
   "outputs": [],
   "source": [
    "'''\n",
    "496. Next Greater Element I\n",
    "The next greater element of some element x in an array is the first greater element that is to the right of x\n",
    "in the same array.\n",
    "\n",
    "You are given two distinct 0-indexed integer arrays nums1 and nums2, where nums1 is a subset of nums2.\n",
    "\n",
    "For each 0 <= i < nums1.length, find the index j such that nums1[i] == nums2[j] and determine the next\n",
    "greater element of nums2[j] in nums2. If there is no next greater element, then the answer for this query is -1.\n",
    "\n",
    "Return an array ans of length nums1.length such that ans[i] is the next greater element as described above.\n",
    "'''\n",
    "\n",
    "class Solution:\n",
    "    def nextGreaterElement(self, nums1: List[int], nums2: List[int]) -> List[int]:\n",
    "        \n",
    "        res = [-1] * len(nums1)\n",
    "        \n",
    "        hashmap = {value:index for index, value in enumerate(nums1)}\n",
    "        \n",
    "        stack = []\n",
    "        for i in range(len(nums2)):\n",
    "            \n",
    "            currValue = nums2[i]\n",
    "            \n",
    "            while stack and currValue > stack[-1]:\n",
    "                temp = stack.pop()\n",
    "                temp_idx = hashmap[temp]\n",
    "                res[temp_idx] = currValue\n",
    "                \n",
    "            if currValue in nums1:\n",
    "                stack.append(currValue)\n",
    "                \n",
    "                \n",
    "        return res\n",
    "    \n",
    "    \n",
    "    \n",
    "        "
   ]
  }
 ],
 "metadata": {
  "kernelspec": {
   "display_name": "Python 3",
   "language": "python",
   "name": "python3"
  },
  "language_info": {
   "codemirror_mode": {
    "name": "ipython",
    "version": 3
   },
   "file_extension": ".py",
   "mimetype": "text/x-python",
   "name": "python",
   "nbconvert_exporter": "python",
   "pygments_lexer": "ipython3",
   "version": "3.8.5"
  }
 },
 "nbformat": 4,
 "nbformat_minor": 4
}
