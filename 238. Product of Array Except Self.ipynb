{
 "cells": [
  {
   "cell_type": "code",
   "execution_count": null,
   "id": "f6e04fc9",
   "metadata": {},
   "outputs": [],
   "source": [
    "'''\n",
    "238. Product of Array Except Self\n",
    "Given an integer array nums, return an array answer such that answer[i] is equal to the product of all \n",
    "the elements of nums except nums[i].\n",
    "\n",
    "The product of any prefix or suffix of nums is guaranteed to fit in a 32-bit integer.\n",
    "\n",
    "You must write an algorithm that runs in O(n) time and without using the division operation.\n",
    "\n",
    "\n",
    "Example 1:\n",
    "Input: nums = [1,2,3,4]\n",
    "Output: [24,12,8,6]\n",
    "\n",
    "Example 2:\n",
    "Input: nums = [-1,1,0,-3,3]\n",
    "Output: [0,0,9,0,0]\n",
    "\n",
    "Time/Space Complexity:\n",
    "\n",
    "Time - O(N)\n",
    "\n",
    "Space - O(1)\n",
    "'''\n",
    "\n",
    "class Solution:\n",
    "    def productExceptSelf(self, nums: List[int]) -> List[int]:\n",
    "                \n",
    "        n = len(nums)\n",
    "        res = [0]*n\n",
    "        \n",
    "        #First Pass (Product of Prefix) - Left to Right\n",
    "        prefix = 1\n",
    "        for i in range(n):\n",
    "            res[i] = prefix\n",
    "            prefix *= nums[i]\n",
    "            \n",
    "            \n",
    "        #Second Pass (Product of Suffix) - Right to Left\n",
    "        suffix = 1\n",
    "        for i in range(n-1,-1,-1):\n",
    "            res[i] *= suffix\n",
    "            suffix *= nums[i]\n",
    "            \n",
    "        return res\n",
    "            \n",
    "        \n",
    "        "
   ]
  }
 ],
 "metadata": {
  "kernelspec": {
   "display_name": "Python 3 (ipykernel)",
   "language": "python",
   "name": "python3"
  },
  "language_info": {
   "codemirror_mode": {
    "name": "ipython",
    "version": 3
   },
   "file_extension": ".py",
   "mimetype": "text/x-python",
   "name": "python",
   "nbconvert_exporter": "python",
   "pygments_lexer": "ipython3",
   "version": "3.8.10"
  }
 },
 "nbformat": 4,
 "nbformat_minor": 5
}
