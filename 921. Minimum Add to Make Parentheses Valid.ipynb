{
 "cells": [
  {
   "cell_type": "code",
   "execution_count": null,
   "metadata": {},
   "outputs": [],
   "source": [
    "'''\n",
    "921. Minimum Add to Make Parentheses Valid\n",
    "A parentheses string is valid if and only if:\n",
    "\n",
    "It is the empty string,\n",
    "It can be written as AB (A concatenated with B), where A and B are valid strings, or\n",
    "It can be written as (A), where A is a valid string.\n",
    "You are given a parentheses string s. In one move, you can insert a parenthesis at any position of the string.\n",
    "\n",
    "For example, if s = \"()))\", you can insert an opening parenthesis to be \"(()))\" or a closing parenthesis to be \"())))\".\n",
    "Return the minimum number of moves required to make s valid.\n",
    "\n",
    " \n",
    "Example 1:\n",
    "Input: s = \"())\"\n",
    "Output: 1\n",
    "\n",
    "Example 2:\n",
    "Input: s = \"(((\"\n",
    "Output: 3\n",
    "'''\n",
    "\n",
    "class Solution:\n",
    "    def minAddToMakeValid(self, s: str) -> int:\n",
    "        \n",
    "        stack = []\n",
    "        count = 0\n",
    "        \n",
    "        for paranthesis in s:\n",
    "            \n",
    "            if paranthesis == '(':\n",
    "                stack.append(paranthesis)\n",
    "                \n",
    "            elif not stack and paranthesis == ')':\n",
    "                count += 1\n",
    "                \n",
    "            else:\n",
    "                stack.pop()\n",
    "                \n",
    "                \n",
    "        count += len(stack)\n",
    "        \n",
    "        \n",
    "        return count\n",
    "                \n",
    "        "
   ]
  }
 ],
 "metadata": {
  "kernelspec": {
   "display_name": "Python 3",
   "language": "python",
   "name": "python3"
  },
  "language_info": {
   "codemirror_mode": {
    "name": "ipython",
    "version": 3
   },
   "file_extension": ".py",
   "mimetype": "text/x-python",
   "name": "python",
   "nbconvert_exporter": "python",
   "pygments_lexer": "ipython3",
   "version": "3.8.5"
  }
 },
 "nbformat": 4,
 "nbformat_minor": 4
}
