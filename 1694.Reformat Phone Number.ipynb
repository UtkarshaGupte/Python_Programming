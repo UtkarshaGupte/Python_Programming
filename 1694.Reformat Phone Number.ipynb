{
 "cells": [
  {
   "cell_type": "code",
   "execution_count": null,
   "metadata": {},
   "outputs": [],
   "source": [
    "'''\n",
    "1694.Reformat Phone Number\n",
    "You are given a phone number as a string number. number consists of digits, spaces ' ', and/or dashes '-'.\n",
    "\n",
    "You would like to reformat the phone number in a certain manner. Firstly, remove all spaces and dashes. \n",
    "Then, group the digits from left to right into blocks of length 3 until there are 4 or fewer digits. \n",
    "The final digits are then grouped as follows:\n",
    "\n",
    "2 digits: A single block of length 2.\n",
    "3 digits: A single block of length 3.\n",
    "4 digits: Two blocks of length 2 each.\n",
    "The blocks are then joined by dashes. Notice that the reformatting process should never produce any blocks of length 1 \n",
    "and produce at most two blocks of length 2.\n",
    "\n",
    "Return the phone number after formatting.\n",
    "'''\n",
    "\n",
    "class Solution:\n",
    "    def reformatNumber(self, number: str) -> str:\n",
    "        \n",
    "        number = number.replace(' ','')\n",
    "        number = number.replace('-','')\n",
    "        \n",
    "        length = len(number)\n",
    "        output = []\n",
    "        \n",
    "        i=0\n",
    "        while i<length:\n",
    "            \n",
    "            #4 digits: Two blocks of length 2 each.\n",
    "            if length-i == 4:\n",
    "                output.append(number[i:i+2])\n",
    "                i += 2\n",
    "            \n",
    "            #3 digits: A single block of length 3\n",
    "            elif length-i >= 3:\n",
    "                output.append(number[i:i+3])\n",
    "                i += 3\n",
    "                \n",
    "            #2 digits: A single block of length 2     \n",
    "            else:\n",
    "                output.append(number[i:i+2])\n",
    "                i += 2\n",
    "                \n",
    "        \n",
    "        return '-'.join(output)\n",
    "        "
   ]
  }
 ],
 "metadata": {
  "kernelspec": {
   "display_name": "Python 3",
   "language": "python",
   "name": "python3"
  },
  "language_info": {
   "codemirror_mode": {
    "name": "ipython",
    "version": 3
   },
   "file_extension": ".py",
   "mimetype": "text/x-python",
   "name": "python",
   "nbconvert_exporter": "python",
   "pygments_lexer": "ipython3",
   "version": "3.8.5"
  }
 },
 "nbformat": 4,
 "nbformat_minor": 4
}
