{
 "cells": [
  {
   "cell_type": "code",
   "execution_count": 3,
   "metadata": {},
   "outputs": [],
   "source": [
    "'''\n",
    "637. Average of Levels in Binary Tree\n",
    "Given the root of a binary tree, return the average value of the nodes on each level in the form of an array. \n",
    "Answers within 10-5 of the actual answer will be accepted.\n",
    "'''\n",
    "\n",
    "from collections import deque\n",
    "\n",
    "# Definition for a binary tree node.\n",
    "class TreeNode:\n",
    "    def __init__(self, val=0, left=None, right=None):\n",
    "        self.val = val\n",
    "        self.left = left\n",
    "        self.right = right\n",
    "        \n",
    "\n",
    "def averageOfLevels(root):\n",
    "\n",
    "    res = []\n",
    "\n",
    "    q = deque()\n",
    "    q.append(root)\n",
    "\n",
    "    while q:\n",
    "\n",
    "        qlen = len(q)           \n",
    "        curr_sum = 0\n",
    "\n",
    "        for i in range(qlen):\n",
    "            node = q.popleft()\n",
    "\n",
    "            if node:\n",
    "                curr_sum += node.val\n",
    "\n",
    "                if node.left:\n",
    "                    q.append(node.left)\n",
    "                if node.right:\n",
    "                    q.append(node.right)\n",
    "\n",
    "        level_average = curr_sum/qlen\n",
    "        res.append(level_average)\n",
    "\n",
    "    return res"
   ]
  },
  {
   "cell_type": "code",
   "execution_count": 4,
   "metadata": {},
   "outputs": [
    {
     "name": "stdout",
     "output_type": "stream",
     "text": [
      "Level averages are: [12.0, 4.0, 6.5]\n"
     ]
    }
   ],
   "source": [
    "\n",
    "def main():\n",
    "    root = TreeNode(12)\n",
    "    root.left = TreeNode(7)\n",
    "    root.right = TreeNode(1)\n",
    "    root.left.left = TreeNode(9)\n",
    "    root.left.right = TreeNode(2)\n",
    "    root.right.left = TreeNode(10)\n",
    "    root.right.right = TreeNode(5)\n",
    "    print(\"Level averages are: \" + str(averageOfLevels(root)))\n",
    "\n",
    "\n",
    "main()"
   ]
  },
  {
   "cell_type": "code",
   "execution_count": null,
   "metadata": {},
   "outputs": [],
   "source": []
  }
 ],
 "metadata": {
  "kernelspec": {
   "display_name": "Python 3",
   "language": "python",
   "name": "python3"
  },
  "language_info": {
   "codemirror_mode": {
    "name": "ipython",
    "version": 3
   },
   "file_extension": ".py",
   "mimetype": "text/x-python",
   "name": "python",
   "nbconvert_exporter": "python",
   "pygments_lexer": "ipython3",
   "version": "3.8.5"
  }
 },
 "nbformat": 4,
 "nbformat_minor": 4
}
