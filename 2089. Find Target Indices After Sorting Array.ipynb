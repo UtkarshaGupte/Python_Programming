{
 "cells": [
  {
   "cell_type": "code",
   "execution_count": null,
   "metadata": {},
   "outputs": [],
   "source": [
    "'''\n",
    "2089. Find Target Indices After Sorting Array\n",
    "You are given a 0-indexed integer array nums and a target element target.\n",
    "\n",
    "A target index is an index i such that nums[i] == target.\n",
    "\n",
    "Return a list of the target indices of nums after sorting nums in non-decreasing order. \n",
    "If there are no target indices, return an empty list. The returned list must be sorted in increasing order.\n",
    "'''\n",
    "\n",
    "class Solution:\n",
    "    def targetIndices(self, nums: List[int], target: int) -> List[int]:\n",
    "        \n",
    "        nums.sort()\n",
    "        output = []\n",
    "        \n",
    "        for i, val in enumerate(nums):\n",
    "            if val == target:\n",
    "                output.append(i)\n",
    "                \n",
    "        return output\n",
    "            "
   ]
  }
 ],
 "metadata": {
  "kernelspec": {
   "display_name": "Python 3",
   "language": "python",
   "name": "python3"
  },
  "language_info": {
   "codemirror_mode": {
    "name": "ipython",
    "version": 3
   },
   "file_extension": ".py",
   "mimetype": "text/x-python",
   "name": "python",
   "nbconvert_exporter": "python",
   "pygments_lexer": "ipython3",
   "version": "3.8.5"
  }
 },
 "nbformat": 4,
 "nbformat_minor": 4
}
