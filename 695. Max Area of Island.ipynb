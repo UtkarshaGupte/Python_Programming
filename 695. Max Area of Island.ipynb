{
 "cells": [
  {
   "cell_type": "code",
   "execution_count": null,
   "metadata": {},
   "outputs": [],
   "source": [
    "'''\n",
    "695. Max Area of Island\n",
    "You are given an m x n binary matrix grid. An island is a group of 1's (representing land) \n",
    "connected 4-directionally (horizontal or vertical.) You may assume all four edges of the grid are surrounded by water.\n",
    "\n",
    "The area of an island is the number of cells with a value 1 in the island.\n",
    "\n",
    "Return the maximum area of an island in grid. If there is no island, return 0.\n",
    "'''\n",
    "\n",
    "class Solution:\n",
    "    def maxAreaOfIsland(self, grid: List[List[int]]) -> int:\n",
    "        \n",
    "        rows, cols = len(grid), len(grid[0])\n",
    "        max_area = 0\n",
    "        \n",
    "        visited = set()\n",
    "        \n",
    "        def dfs(r, c): \n",
    "            if (r<0 or r>=rows or \n",
    "                c<0 or c>=cols or \n",
    "                (r,c) in visited or \n",
    "                grid[r][c] == 0):\n",
    "                return 0\n",
    "            \n",
    "            visited.add((r,c))\n",
    "        \n",
    "            return (1 + dfs(r-1, c) +\n",
    "                        dfs(r+1, c) +\n",
    "                        dfs(r, c-1) +\n",
    "                        dfs(r, c+1) )\n",
    "           \n",
    "        \n",
    "        for i in range(rows):\n",
    "            for j in range(cols):                \n",
    "                max_area = max(max_area, dfs(i,j))\n",
    "        \n",
    "        \n",
    "        return max_area\n"
   ]
  }
 ],
 "metadata": {
  "kernelspec": {
   "display_name": "Python 3",
   "language": "python",
   "name": "python3"
  },
  "language_info": {
   "codemirror_mode": {
    "name": "ipython",
    "version": 3
   },
   "file_extension": ".py",
   "mimetype": "text/x-python",
   "name": "python",
   "nbconvert_exporter": "python",
   "pygments_lexer": "ipython3",
   "version": "3.8.5"
  }
 },
 "nbformat": 4,
 "nbformat_minor": 4
}
