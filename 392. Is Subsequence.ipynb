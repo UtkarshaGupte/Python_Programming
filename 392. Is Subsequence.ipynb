{
 "cells": [
  {
   "cell_type": "code",
   "execution_count": null,
   "metadata": {},
   "outputs": [],
   "source": [
    "'''\n",
    "Is Subsequence\n",
    "'''\n",
    "\n",
    "class Solution:\n",
    "    def isSubsequence(self, s: str, t: str) -> bool:\n",
    "        \n",
    "        max_s, max_t = len(s), len(t)\n",
    "        \n",
    "        s_ptr, t_ptr = 0, 0\n",
    "        \n",
    "        while s_ptr < max_s and t_ptr < max_t:\n",
    "            \n",
    "            if s[s_ptr] == t[t_ptr]:\n",
    "                s_ptr += 1\n",
    "                \n",
    "            t_ptr += 1\n",
    "            \n",
    "        return s_ptr == max_s\n",
    "        \n",
    "        \n",
    "        "
   ]
  }
 ],
 "metadata": {
  "kernelspec": {
   "display_name": "Python 3",
   "language": "python",
   "name": "python3"
  },
  "language_info": {
   "codemirror_mode": {
    "name": "ipython",
    "version": 3
   },
   "file_extension": ".py",
   "mimetype": "text/x-python",
   "name": "python",
   "nbconvert_exporter": "python",
   "pygments_lexer": "ipython3",
   "version": "3.8.5"
  }
 },
 "nbformat": 4,
 "nbformat_minor": 4
}
