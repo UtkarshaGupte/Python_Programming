{
 "cells": [
  {
   "cell_type": "code",
   "execution_count": null,
   "metadata": {},
   "outputs": [],
   "source": [
    "'''\n",
    "559. Maximum Depth of N-ary Tree\n",
    "Given a n-ary tree, find its maximum depth.\n",
    "\n",
    "The maximum depth is the number of nodes along the longest path from the root node down to the farthest leaf node.\n",
    "\n",
    "Nary-Tree input serialization is represented in their level order traversal, \n",
    "each group of children is separated by the null value (See examples).\n",
    "'''\n",
    "\n",
    "\"\"\"\n",
    "# Definition for a Node.\n",
    "class Node:\n",
    "    def __init__(self, val=None, children=None):\n",
    "        self.val = val\n",
    "        self.children = children\n",
    "\"\"\"\n",
    "\n",
    "class Solution:\n",
    "    def maxDepth(self, root: 'Node') -> int:\n",
    "        \n",
    "        stack = []\n",
    "        \n",
    "        if root:\n",
    "            stack.append((root, 1)) \n",
    "        \n",
    "        maxDepth = 0\n",
    "        \n",
    "        while stack:\n",
    "            \n",
    "            currRoot, currDepth = stack.pop()\n",
    "            \n",
    "            maxDepth = max(maxDepth, currDepth)\n",
    "            \n",
    "            for child in currRoot.children:\n",
    "                stack.append((child, currDepth+1))\n",
    "            \n",
    "            \n",
    "        return maxDepth\n",
    "            \n"
   ]
  }
 ],
 "metadata": {
  "kernelspec": {
   "display_name": "Python 3",
   "language": "python",
   "name": "python3"
  },
  "language_info": {
   "codemirror_mode": {
    "name": "ipython",
    "version": 3
   },
   "file_extension": ".py",
   "mimetype": "text/x-python",
   "name": "python",
   "nbconvert_exporter": "python",
   "pygments_lexer": "ipython3",
   "version": "3.8.5"
  }
 },
 "nbformat": 4,
 "nbformat_minor": 4
}
