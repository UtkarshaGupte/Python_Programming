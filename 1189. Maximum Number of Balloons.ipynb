{
 "cells": [
  {
   "cell_type": "code",
   "execution_count": null,
   "metadata": {},
   "outputs": [],
   "source": [
    "'''\n",
    "1189. Maximum Number of Balloons\n",
    "Given a string text, you want to use the characters of text to form as many instances of the word \"balloon\" as possible.\n",
    "\n",
    "You can use each character in text at most once. Return the maximum number of instances that can be formed.\n",
    "Constraints:\n",
    "\n",
    "1 <= text.length <= 104\n",
    "text consists of lower case English letters only.\n",
    "'''\n",
    "\n",
    "class Solution:\n",
    "    def maxNumberOfBalloons(self, text: str) -> int:\n",
    "        \n",
    "        #balloon\n",
    "        bcount , acount, lcount, ocount, ncount =0, 0 ,0 ,0 ,0 \n",
    "        res= len(text)\n",
    "        \n",
    "        for i, val in enumerate(text):\n",
    "            if val == 'b':\n",
    "                bcount += 1\n",
    "                \n",
    "            if val == 'a':\n",
    "                acount += 1\n",
    "                \n",
    "            if val == 'l':\n",
    "                lcount += 1\n",
    "                \n",
    "            if val == 'o':\n",
    "                ocount += 1\n",
    "                \n",
    "            if val == 'n':\n",
    "                ncount += 1\n",
    "                \n",
    "        lcount //= 2\n",
    "        ocount //= 2\n",
    "        \n",
    "        return min(res, bcount , acount, lcount, ocount, ncount)\n"
   ]
  }
 ],
 "metadata": {
  "kernelspec": {
   "display_name": "Python 3",
   "language": "python",
   "name": "python3"
  },
  "language_info": {
   "codemirror_mode": {
    "name": "ipython",
    "version": 3
   },
   "file_extension": ".py",
   "mimetype": "text/x-python",
   "name": "python",
   "nbconvert_exporter": "python",
   "pygments_lexer": "ipython3",
   "version": "3.8.5"
  }
 },
 "nbformat": 4,
 "nbformat_minor": 4
}
