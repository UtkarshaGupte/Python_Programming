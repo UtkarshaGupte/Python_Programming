{
 "cells": [
  {
   "cell_type": "code",
   "execution_count": null,
   "metadata": {},
   "outputs": [],
   "source": [
    "'''\n",
    "929. Unique Email Addresses\n",
    "Every valid email consists of a local name and a domain name, separated by the '@' sign. \n",
    "Besides lowercase letters, the email may contain one or more '.' or '+'.\n",
    "\n",
    "For example, in \"alice@leetcode.com\", \"alice\" is the local name, and \"leetcode.com\" is the domain name.\n",
    "If you add periods '.' between some characters in the local name part of an email address, \n",
    "mail sent there will be forwarded to the same address without dots in the local name. \n",
    "Note that this rule does not apply to domain names.\n",
    "\n",
    "For example, \"alice.z@leetcode.com\" and \"alicez@leetcode.com\" forward to the same email address.\n",
    "If you add a plus '+' in the local name, everything after the first plus sign will be ignored. \n",
    "This allows certain emails to be filtered. Note that this rule does not apply to domain names.\n",
    "\n",
    "For example, \"m.y+name@email.com\" will be forwarded to \"my@email.com\".\n",
    "It is possible to use both of these rules at the same time.\n",
    "\n",
    "Given an array of strings emails where we send one email to each emails[i],\n",
    "return the number of different addresses that actually receive mails.\n",
    "\n",
    "'''\n",
    "\n",
    "class Solution:\n",
    "    def numUniqueEmails(self, emails: List[str]) -> int:\n",
    "        \n",
    "        received_mails = set()\n",
    "        \n",
    "        \n",
    "        for email in emails:\n",
    "            \n",
    "            #Splitting the email into local and domain name\n",
    "            local_name, domain_name = email.split('@')\n",
    "            \n",
    "            #Since everything after + sign is ignored, and\n",
    "            #Removing all the '.'\n",
    "            local_name = local_name.split('+')[0].replace('.','')\n",
    "                        \n",
    "            received_mails.add(local_name + '@' + domain_name)\n",
    "            \n",
    "            \n",
    "        return len(received_mails)\n",
    "        \n",
    "        "
   ]
  }
 ],
 "metadata": {
  "kernelspec": {
   "display_name": "Python 3",
   "language": "python",
   "name": "python3"
  },
  "language_info": {
   "codemirror_mode": {
    "name": "ipython",
    "version": 3
   },
   "file_extension": ".py",
   "mimetype": "text/x-python",
   "name": "python",
   "nbconvert_exporter": "python",
   "pygments_lexer": "ipython3",
   "version": "3.8.5"
  }
 },
 "nbformat": 4,
 "nbformat_minor": 4
}
