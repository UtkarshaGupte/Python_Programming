{
 "cells": [
  {
   "cell_type": "code",
   "execution_count": 5,
   "metadata": {},
   "outputs": [
    {
     "name": "stdout",
     "output_type": "stream",
     "text": [
      "True\n",
      "False\n"
     ]
    }
   ],
   "source": [
    "'''\n",
    "202. Happy Number\n",
    "\n",
    "Write an algorithm to determine if a number n is happy.\n",
    "\n",
    "A happy number is a number defined by the following process:\n",
    "\n",
    "Starting with any positive integer, replace the number by the sum of the squares of its digits.\n",
    "Repeat the process until the number equals 1 (where it will stay), or it loops endlessly in a cycle \n",
    "which does not include 1.\n",
    "Those numbers for which this process ends in 1 are happy.\n",
    "Return true if n is a happy number, and false if not.\n",
    "'''\n",
    "\n",
    "\n",
    "def isHappy(n):\n",
    "    fast, slow = n, n\n",
    "\n",
    "    while fast is not None :\n",
    "\n",
    "        slow = square_sum(slow)                  #Moving 1 step per iteration\n",
    "        fast = square_sum(square_sum(fast)) #Moving 2 steps per iteration\n",
    "\n",
    "        if slow == fast:\n",
    "            break\n",
    "\n",
    "    return slow == 1  # if it is true then it is a happy nummber\n",
    "\n",
    "def square_sum(n):\n",
    "    total = 0\n",
    "\n",
    "    while n>0:\n",
    "        rem = n%10\n",
    "        total += rem**2\n",
    "        n //= 10\n",
    "\n",
    "    return total\n",
    "\n",
    "\n",
    "def main():\n",
    "    print(isHappy(23))\n",
    "    print(isHappy(12))\n",
    "\n",
    "\n",
    "main()\n"
   ]
  },
  {
   "cell_type": "code",
   "execution_count": null,
   "metadata": {},
   "outputs": [],
   "source": []
  }
 ],
 "metadata": {
  "kernelspec": {
   "display_name": "Python 3",
   "language": "python",
   "name": "python3"
  },
  "language_info": {
   "codemirror_mode": {
    "name": "ipython",
    "version": 3
   },
   "file_extension": ".py",
   "mimetype": "text/x-python",
   "name": "python",
   "nbconvert_exporter": "python",
   "pygments_lexer": "ipython3",
   "version": "3.8.5"
  }
 },
 "nbformat": 4,
 "nbformat_minor": 4
}
