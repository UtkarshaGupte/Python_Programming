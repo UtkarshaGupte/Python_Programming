{
 "cells": [
  {
   "cell_type": "code",
   "execution_count": null,
   "metadata": {},
   "outputs": [],
   "source": [
    "'''\n",
    "36. Valid Sudoku\n",
    "Determine if a 9 x 9 Sudoku board is valid. Only the filled cells need to be validated according to the following rules:\n",
    "\n",
    "Each row must contain the digits 1-9 without repetition.\n",
    "Each column must contain the digits 1-9 without repetition.\n",
    "Each of the nine 3 x 3 sub-boxes of the grid must contain the digits 1-9 without repetition.\n",
    "Note:\n",
    "\n",
    "A Sudoku board (partially filled) could be valid but is not necessarily solvable.\n",
    "Only the filled cells need to be validated according to the mentioned rules.\n",
    "'''\n",
    "\n",
    "class Solution:\n",
    "    def isValidSudoku(self, board: List[List[str]]) -> bool:\n",
    "        \n",
    "        rowsSet = collections.defaultdict(set)\n",
    "        colSet = collections.defaultdict(set)\n",
    "        squareSet = collections.defaultdict(set)\n",
    "        \n",
    "        print(squareSet)\n",
    "        for r in range(9):\n",
    "            for c in range(9):\n",
    "                \n",
    "                if board[r][c] == \".\":\n",
    "                    continue\n",
    "                    \n",
    "                if (board[r][c] in rowsSet[r] or\n",
    "                    board[r][c] in colSet[c] or\n",
    "                    board[r][c] in squareSet[(r//3, c//3)]):\n",
    "                    return False\n",
    "                \n",
    "                rowsSet[r].add(board[r][c])\n",
    "                colSet[c].add(board[r][c])\n",
    "                squareSet[(r//3, c//3)].add(board[r][c])\n",
    "                \n",
    "                \n",
    "        return True\n",
    "    \n",
    "    "
   ]
  }
 ],
 "metadata": {
  "kernelspec": {
   "display_name": "Python 3",
   "language": "python",
   "name": "python3"
  },
  "language_info": {
   "codemirror_mode": {
    "name": "ipython",
    "version": 3
   },
   "file_extension": ".py",
   "mimetype": "text/x-python",
   "name": "python",
   "nbconvert_exporter": "python",
   "pygments_lexer": "ipython3",
   "version": "3.8.5"
  }
 },
 "nbformat": 4,
 "nbformat_minor": 4
}
