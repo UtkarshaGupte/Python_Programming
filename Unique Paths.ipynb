{
 "cells": [
  {
   "cell_type": "code",
   "execution_count": null,
   "id": "50b0188f",
   "metadata": {},
   "outputs": [],
   "source": [
    "'''\n",
    "62. Unique Paths\n",
    "\n",
    "There is a robot on an m x n grid. The robot is initially located at the top-left corner (i.e., grid[0][0]). \n",
    "The robot tries to move to the bottom-right corner (i.e., grid[m - 1][n - 1]). \n",
    "The robot can only move either down or right at any point in time.\n",
    "\n",
    "Given the two integers m and n, return the number of possible unique paths that the robot can take to \n",
    "reach the bottom-right corner.\n",
    "\n",
    "The test cases are generated so that the answer will be less than or equal to 2 * 109.\n",
    "\n",
    "Example 1:\n",
    "Input: m = 3, n = 7\n",
    "Output: 28\n",
    "\n",
    "Example 2:\n",
    "Input: m = 3, n = 2\n",
    "Output: 3\n",
    "Explanation: From the top-left corner, there are a total of 3 ways to reach the bottom-right corner:\n",
    "1. Right -> Down -> Down\n",
    "2. Down -> Down -> Right\n",
    "3. Down -> Right -> Down\n",
    "\n",
    "Time/Space Complexity:\n",
    "\n",
    "Time - O(m*n)\n",
    "\n",
    "Space - O(n)\n",
    "\n",
    "\n",
    "'''\n",
    "class Solution:\n",
    "    def uniquePaths(self, m: int, n: int) -> int:\n",
    "        \n",
    "        #Last row will be all ones\n",
    "        row = [1]*n\n",
    "        \n",
    "        \n",
    "        for r in range(m-1):\n",
    "            \n",
    "            newRow = [1]*n\n",
    "            \n",
    "            #Last column will also be one\n",
    "            for c in range(n-2,-1,-1):\n",
    "                newRow[c] = newRow[c+1] + row[c]\n",
    "                \n",
    "            row = newRow\n",
    "            \n",
    "        return row[0]\n",
    "                \n",
    "        "
   ]
  }
 ],
 "metadata": {
  "kernelspec": {
   "display_name": "Python 3 (ipykernel)",
   "language": "python",
   "name": "python3"
  },
  "language_info": {
   "codemirror_mode": {
    "name": "ipython",
    "version": 3
   },
   "file_extension": ".py",
   "mimetype": "text/x-python",
   "name": "python",
   "nbconvert_exporter": "python",
   "pygments_lexer": "ipython3",
   "version": "3.8.10"
  }
 },
 "nbformat": 4,
 "nbformat_minor": 5
}
