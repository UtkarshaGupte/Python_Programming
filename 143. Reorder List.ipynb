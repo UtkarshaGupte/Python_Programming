{
 "cells": [
  {
   "cell_type": "code",
   "execution_count": 1,
   "metadata": {},
   "outputs": [
    {
     "name": "stdout",
     "output_type": "stream",
     "text": [
      "2 12 4 10 6 8 \n"
     ]
    }
   ],
   "source": [
    "'''\n",
    "143. Reorder List\n",
    "You are given the head of a singly linked-list. The list can be represented as:\n",
    "\n",
    "L0 → L1 → … → Ln - 1 → Ln\n",
    "Reorder the list to be on the following form:\n",
    "\n",
    "L0 → Ln → L1 → Ln - 1 → L2 → Ln - 2 → …\n",
    "You may not modify the values in the list's nodes. Only nodes themselves may be changed.\n",
    "'''\n",
    "\n",
    "class Node:\n",
    "    def __init__(self, value, next=None):\n",
    "        self.value = value\n",
    "        self.next = next\n",
    "\n",
    "    def print_list(self):\n",
    "        temp = self\n",
    "        while temp is not None:\n",
    "            print(str(temp.value) + \" \", end='')\n",
    "            temp = temp.next\n",
    "        print()\n",
    "\n",
    "    \n",
    "def reorderList(head):\n",
    "    slow , fast = head, head\n",
    "\n",
    "    while fast is not None and fast.next is not None:\n",
    "        slow = slow.next\n",
    "        fast = fast.next.next\n",
    "\n",
    "    reverse_second_half_head = reverse(slow)\n",
    "    first_half_head = head\n",
    "\n",
    "    while first_half_head is not None and reverse_second_half_head is not None:\n",
    "\n",
    "        temp1 = first_half_head.next\n",
    "        first_half_head.next = reverse_second_half_head\n",
    "        first_half_head = temp1\n",
    "\n",
    "        temp2 = reverse_second_half_head.next\n",
    "        reverse_second_half_head.next = first_half_head\n",
    "        reverse_second_half_head = temp2\n",
    "\n",
    "    if first_half_head is not None:\n",
    "        first_half_head.next = None\n",
    "\n",
    "def reverse(head):        \n",
    "    prev , curr = None, head        \n",
    "    while curr is not None:\n",
    "        temp = curr.next\n",
    "        curr.next = prev\n",
    "        prev = curr\n",
    "        curr = temp           \n",
    "    return prev\n",
    "\n",
    "\n",
    "def main():\n",
    "    head = Node(2)\n",
    "    head.next = Node(4)\n",
    "    head.next.next = Node(6)\n",
    "    head.next.next.next = Node(8)\n",
    "    head.next.next.next.next = Node(10)\n",
    "    head.next.next.next.next.next = Node(12)\n",
    "    reorderList(head)\n",
    "    head.print_list()\n",
    "\n",
    "\n",
    "main()"
   ]
  },
  {
   "cell_type": "code",
   "execution_count": null,
   "metadata": {},
   "outputs": [],
   "source": []
  }
 ],
 "metadata": {
  "kernelspec": {
   "display_name": "Python 3",
   "language": "python",
   "name": "python3"
  },
  "language_info": {
   "codemirror_mode": {
    "name": "ipython",
    "version": 3
   },
   "file_extension": ".py",
   "mimetype": "text/x-python",
   "name": "python",
   "nbconvert_exporter": "python",
   "pygments_lexer": "ipython3",
   "version": "3.8.5"
  }
 },
 "nbformat": 4,
 "nbformat_minor": 4
}
