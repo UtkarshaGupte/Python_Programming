{
 "cells": [
  {
   "cell_type": "code",
   "execution_count": null,
   "metadata": {},
   "outputs": [],
   "source": [
    "'''\n",
    "125. Valid Palindrome\n",
    "A phrase is a palindrome if, after converting all uppercase letters into lowercase letters \n",
    "and removing all non-alphanumeric characters, it reads the same forward and backward. \n",
    "Alphanumeric characters include letters and numbers.\n",
    "\n",
    "Given a string s, return true if it is a palindrome, or false otherwise.\n",
    "'''\n",
    "\n",
    "\n",
    "class Solution:\n",
    "    def isPalindrome(self, s: str) -> bool:\n",
    "        \n",
    "        i , j = 0, len(s)-1\n",
    "        \n",
    "        while i<j:\n",
    "            \n",
    "            while i<j and not s[i].isalnum():\n",
    "                i += 1\n",
    "            while i<j and not s[j].isalnum():\n",
    "                j -= 1\n",
    "                \n",
    "            if s[i].lower() != s[j].lower():\n",
    "                return False\n",
    "            \n",
    "            i += 1\n",
    "            j -= 1\n",
    "            \n",
    "            \n",
    "        return True\n",
    "    \n",
    "    "
   ]
  }
 ],
 "metadata": {
  "kernelspec": {
   "display_name": "Python 3",
   "language": "python",
   "name": "python3"
  },
  "language_info": {
   "codemirror_mode": {
    "name": "ipython",
    "version": 3
   },
   "file_extension": ".py",
   "mimetype": "text/x-python",
   "name": "python",
   "nbconvert_exporter": "python",
   "pygments_lexer": "ipython3",
   "version": "3.8.5"
  }
 },
 "nbformat": 4,
 "nbformat_minor": 4
}
