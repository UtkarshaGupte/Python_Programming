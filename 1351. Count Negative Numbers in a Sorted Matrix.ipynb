{
 "cells": [
  {
   "cell_type": "code",
   "execution_count": null,
   "metadata": {},
   "outputs": [],
   "source": [
    "'''\n",
    "1351. Count Negative Numbers in a Sorted Matrix\n",
    "Given a m x n matrix grid which is sorted in non-increasing order both row-wise and column-wise, \n",
    "return the number of negative numbers in grid.\n",
    "\n",
    "Example 1:\n",
    "\n",
    "Input: grid = [[4,3,2,-1],[3,2,1,-1],[1,1,-1,-2],[-1,-1,-2,-3]]\n",
    "Output: 8\n",
    "Explanation: There are 8 negatives number in the matrix.\n",
    "\n",
    "Example 2:\n",
    "\n",
    "Input: grid = [[3,2],[1,0]]\n",
    "Output: 0\n",
    "'''\n",
    "\n",
    "class Solution:\n",
    "    def countNegatives(self, grid: List[List[int]]) -> int:\n",
    "        \n",
    "        rowLength = len(grid[0])\n",
    "        count = 0\n",
    "        \n",
    "        for rows in grid:\n",
    "            \n",
    "            left ,right = 0, rowLength-1          \n",
    "            \n",
    "            while left<=right:\n",
    "                \n",
    "                mid = left + (right - left)//2\n",
    "                \n",
    "                if rows[mid] >= 0:\n",
    "                    left = mid + 1\n",
    "                    \n",
    "                else:\n",
    "                    count += right - mid + 1\n",
    "                    right = mid - 1\n",
    "                    \n",
    "                    \n",
    "        return count\n",
    "                    "
   ]
  }
 ],
 "metadata": {
  "kernelspec": {
   "display_name": "Python 3",
   "language": "python",
   "name": "python3"
  },
  "language_info": {
   "codemirror_mode": {
    "name": "ipython",
    "version": 3
   },
   "file_extension": ".py",
   "mimetype": "text/x-python",
   "name": "python",
   "nbconvert_exporter": "python",
   "pygments_lexer": "ipython3",
   "version": "3.8.5"
  }
 },
 "nbformat": 4,
 "nbformat_minor": 4
}
